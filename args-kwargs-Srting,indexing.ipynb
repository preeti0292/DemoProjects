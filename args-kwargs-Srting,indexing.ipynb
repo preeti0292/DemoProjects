{
 "cells": [
  {
   "cell_type": "code",
   "execution_count": 3,
   "id": "47fbdce7",
   "metadata": {},
   "outputs": [],
   "source": [
    "#arg take multiple inputs\n",
    "\n",
    "def my_fun(*args):\n",
    "    for i in args:\n",
    "        print('my args: -', i)"
   ]
  },
  {
   "cell_type": "code",
   "execution_count": 7,
   "id": "724c647d",
   "metadata": {},
   "outputs": [
    {
     "name": "stdout",
     "output_type": "stream",
     "text": [
      "my args: - India\n",
      "my args: - 56\n",
      "my args: - Bengaluru\n",
      "my args: - 30.4\n",
      "my args: - 234\n"
     ]
    }
   ],
   "source": [
    "my_fun('India', 56, 'Bengaluru', 30.4, 234)"
   ]
  },
  {
   "cell_type": "code",
   "execution_count": 8,
   "id": "e73769a6",
   "metadata": {},
   "outputs": [],
   "source": [
    "def students(*args):\n",
    "    for i in args:\n",
    "        print('My Studen details -', i)"
   ]
  },
  {
   "cell_type": "code",
   "execution_count": 9,
   "id": "63e5e2fd",
   "metadata": {},
   "outputs": [
    {
     "name": "stdout",
     "output_type": "stream",
     "text": [
      "My Studen details - Sima\n",
      "My Studen details - 46\n",
      "My Studen details - Remo\n",
      "My Studen details - 80\n",
      "My Studen details - 20\n",
      "My Studen details - 60\n",
      "My Studen details - June\n",
      "My Studen details - 89\n"
     ]
    }
   ],
   "source": [
    "students('Sima', 46, 'Remo', 80, 20,60, 'June', 89)"
   ]
  },
  {
   "cell_type": "code",
   "execution_count": 12,
   "id": "0aab5a03",
   "metadata": {},
   "outputs": [],
   "source": [
    "#Kwargs take key and value, just like dictionary data.\n",
    "\n",
    "def my_kwargs(**kwargs):\n",
    "    for key, value in kwargs.items():\n",
    "        print(key, value)"
   ]
  },
  {
   "cell_type": "code",
   "execution_count": 13,
   "id": "e63d864a",
   "metadata": {},
   "outputs": [
    {
     "name": "stdout",
     "output_type": "stream",
     "text": [
      "studens ['Ram', 'Shiva']\n",
      "marks [80, 75]\n"
     ]
    }
   ],
   "source": [
    "my_kwargs(studens=['Ram', 'Shiva'], marks= [80, 75])"
   ]
  },
  {
   "cell_type": "code",
   "execution_count": 14,
   "id": "4273f102",
   "metadata": {},
   "outputs": [
    {
     "name": "stdout",
     "output_type": "stream",
     "text": [
      "This batch rocks\n"
     ]
    }
   ],
   "source": [
    "#String indexing. Assign 'S' as a string\n",
    "\n",
    "s= 'This batch rocks'\n",
    "\n",
    "print(s)"
   ]
  },
  {
   "cell_type": "code",
   "execution_count": 15,
   "id": "5956d857",
   "metadata": {},
   "outputs": [
    {
     "data": {
      "text/plain": [
       "'T'"
      ]
     },
     "execution_count": 15,
     "metadata": {},
     "output_type": "execute_result"
    }
   ],
   "source": [
    "#Show first letter.\n",
    "\n",
    "s[0]"
   ]
  },
  {
   "cell_type": "code",
   "execution_count": 16,
   "id": "4a3caeea",
   "metadata": {},
   "outputs": [
    {
     "data": {
      "text/plain": [
       "'his batch rocks'"
      ]
     },
     "execution_count": 16,
     "metadata": {},
     "output_type": "execute_result"
    }
   ],
   "source": [
    "#Grab everything past the first term all the way to the legnth of s which is len(s).\n",
    "\n",
    "s[1: ]"
   ]
  },
  {
   "cell_type": "code",
   "execution_count": 17,
   "id": "0ff9238a",
   "metadata": {},
   "outputs": [
    {
     "data": {
      "text/plain": [
       "'This bat'"
      ]
     },
     "execution_count": 17,
     "metadata": {},
     "output_type": "execute_result"
    }
   ],
   "source": [
    "s[ :8]"
   ]
  },
  {
   "cell_type": "code",
   "execution_count": 18,
   "id": "07cb8491",
   "metadata": {},
   "outputs": [
    {
     "data": {
      "text/plain": [
       "'s bat'"
      ]
     },
     "execution_count": 18,
     "metadata": {},
     "output_type": "execute_result"
    }
   ],
   "source": [
    "s[3:8]"
   ]
  },
  {
   "cell_type": "code",
   "execution_count": 19,
   "id": "b89af334",
   "metadata": {},
   "outputs": [
    {
     "data": {
      "text/plain": [
       "'s'"
      ]
     },
     "execution_count": 19,
     "metadata": {},
     "output_type": "execute_result"
    }
   ],
   "source": [
    "s[-1]"
   ]
  },
  {
   "cell_type": "code",
   "execution_count": 20,
   "id": "db55b021",
   "metadata": {},
   "outputs": [
    {
     "data": {
      "text/plain": [
       "'This batch rock'"
      ]
     },
     "execution_count": 20,
     "metadata": {},
     "output_type": "execute_result"
    }
   ],
   "source": [
    "s[ :-1]"
   ]
  },
  {
   "cell_type": "code",
   "execution_count": 22,
   "id": "a2ca0ebb",
   "metadata": {},
   "outputs": [
    {
     "data": {
      "text/plain": [
       "'Ti ac ok'"
      ]
     },
     "execution_count": 22,
     "metadata": {},
     "output_type": "execute_result"
    }
   ],
   "source": [
    "#Grab everything but going step size.\n",
    "\n",
    "s[ : :2]"
   ]
  },
  {
   "cell_type": "code",
   "execution_count": 23,
   "id": "0b521ae1",
   "metadata": {},
   "outputs": [
    {
     "data": {
      "text/plain": [
       "'scrhtbsh'"
      ]
     },
     "execution_count": 23,
     "metadata": {},
     "output_type": "execute_result"
    }
   ],
   "source": [
    "s[ : :-2]"
   ]
  },
  {
   "cell_type": "code",
   "execution_count": null,
   "id": "6a716186",
   "metadata": {},
   "outputs": [],
   "source": []
  }
 ],
 "metadata": {
  "kernelspec": {
   "display_name": "Python 3 (ipykernel)",
   "language": "python",
   "name": "python3"
  },
  "language_info": {
   "codemirror_mode": {
    "name": "ipython",
    "version": 3
   },
   "file_extension": ".py",
   "mimetype": "text/x-python",
   "name": "python",
   "nbconvert_exporter": "python",
   "pygments_lexer": "ipython3",
   "version": "3.9.7"
  }
 },
 "nbformat": 4,
 "nbformat_minor": 5
}
