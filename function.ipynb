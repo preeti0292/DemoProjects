{
 "cells": [
  {
   "cell_type": "code",
   "execution_count": 1,
   "id": "1bf68c0d",
   "metadata": {},
   "outputs": [
    {
     "name": "stdout",
     "output_type": "stream",
     "text": [
      "range(0, 10)\n"
     ]
    }
   ],
   "source": [
    "#range()\n",
    "\n",
    "print(range(10))"
   ]
  },
  {
   "cell_type": "code",
   "execution_count": 2,
   "id": "ee498248",
   "metadata": {},
   "outputs": [
    {
     "name": "stdout",
     "output_type": "stream",
     "text": [
      "[0, 1, 2, 3, 4, 5, 6, 7, 8, 9]\n"
     ]
    }
   ],
   "source": [
    "print(list(range(10)))"
   ]
  },
  {
   "cell_type": "code",
   "execution_count": 4,
   "id": "1fc92c19",
   "metadata": {},
   "outputs": [
    {
     "data": {
      "text/plain": [
       "[1, 2, 3, 4, 5, 6, 7]"
      ]
     },
     "execution_count": 4,
     "metadata": {},
     "output_type": "execute_result"
    }
   ],
   "source": [
    "#Range() with Start and stop \n",
    "Roll_numbers= list(range(1,8))\n",
    "Roll_numbers"
   ]
  },
  {
   "cell_type": "code",
   "execution_count": 10,
   "id": "3216b16d",
   "metadata": {},
   "outputs": [],
   "source": [
    "#Range function with step size\n",
    "\n",
    "Step_size= list(range(0,33,2))\n"
   ]
  },
  {
   "cell_type": "code",
   "execution_count": 11,
   "id": "ddfbf91f",
   "metadata": {},
   "outputs": [
    {
     "data": {
      "text/plain": [
       "[0, 2, 4, 6, 8, 10, 12, 14, 16, 18, 20, 22, 24, 26, 28, 30, 32]"
      ]
     },
     "execution_count": 11,
     "metadata": {},
     "output_type": "execute_result"
    }
   ],
   "source": [
    "Step_size"
   ]
  },
  {
   "cell_type": "code",
   "execution_count": 12,
   "id": "4bc7687b",
   "metadata": {},
   "outputs": [
    {
     "data": {
      "text/plain": [
       "[0,\n",
       " 100,\n",
       " 200,\n",
       " 300,\n",
       " 400,\n",
       " 500,\n",
       " 600,\n",
       " 700,\n",
       " 800,\n",
       " 900,\n",
       " 1000,\n",
       " 1100,\n",
       " 1200,\n",
       " 1300,\n",
       " 1400,\n",
       " 1500]"
      ]
     },
     "execution_count": 12,
     "metadata": {},
     "output_type": "execute_result"
    }
   ],
   "source": [
    "Large_numbers= list(range(0,1600,100))\n",
    "Large_numbers"
   ]
  },
  {
   "cell_type": "code",
   "execution_count": 14,
   "id": "4fd37506",
   "metadata": {},
   "outputs": [
    {
     "data": {
      "text/plain": [
       "[1600,\n",
       " 1500,\n",
       " 1400,\n",
       " 1300,\n",
       " 1200,\n",
       " 1100,\n",
       " 1000,\n",
       " 900,\n",
       " 800,\n",
       " 700,\n",
       " 600,\n",
       " 500,\n",
       " 400,\n",
       " 300,\n",
       " 200]"
      ]
     },
     "execution_count": 14,
     "metadata": {},
     "output_type": "execute_result"
    }
   ],
   "source": [
    "Reverse= list(range(1600,100,-100))\n",
    "Reverse"
   ]
  },
  {
   "cell_type": "code",
   "execution_count": 17,
   "id": "8fc15c99",
   "metadata": {},
   "outputs": [],
   "source": [
    "#Def() or define function\n",
    "\n",
    "def say_hello():\n",
    "    print('This is just a sample')"
   ]
  },
  {
   "cell_type": "code",
   "execution_count": 19,
   "id": "9a4e4a93",
   "metadata": {},
   "outputs": [
    {
     "name": "stdout",
     "output_type": "stream",
     "text": [
      "This is just a sample\n"
     ]
    }
   ],
   "source": [
    "say_hello()"
   ]
  },
  {
   "cell_type": "code",
   "execution_count": 22,
   "id": "5537b5f3",
   "metadata": {},
   "outputs": [],
   "source": [
    "# %s is for extra space\n",
    "def greeting(name):\n",
    "    print('Hello' , name)"
   ]
  },
  {
   "cell_type": "code",
   "execution_count": 24,
   "id": "f034e345",
   "metadata": {},
   "outputs": [
    {
     "name": "stdout",
     "output_type": "stream",
     "text": [
      "Hello Dear Students\n"
     ]
    }
   ],
   "source": [
    "greeting('Dear Students')"
   ]
  },
  {
   "cell_type": "code",
   "execution_count": 25,
   "id": "545ae9ed",
   "metadata": {},
   "outputs": [
    {
     "name": "stdout",
     "output_type": "stream",
     "text": [
      "Your new salary=  None\n"
     ]
    }
   ],
   "source": [
    "def salary_icr(salary):\n",
    "    if salary <=9000:\n",
    "        (salary+1000)\n",
    "        \n",
    "    else:\n",
    "        salary\n",
    "        \n",
    "print('Your new salary= ', salary_icr(1500))"
   ]
  },
  {
   "cell_type": "code",
   "execution_count": 29,
   "id": "6eb9c7ec",
   "metadata": {},
   "outputs": [
    {
     "name": "stdout",
     "output_type": "stream",
     "text": [
      "Your new salary=  10000\n"
     ]
    }
   ],
   "source": [
    "def salary_icr(salary):\n",
    "    if salary <=9000:\n",
    "        return(salary+1000)\n",
    "        \n",
    "    else:\n",
    "        return salary\n",
    "    \n",
    "print('Your new salary= ', salary_icr(9000))"
   ]
  },
  {
   "cell_type": "code",
   "execution_count": 30,
   "id": "ac38b303",
   "metadata": {},
   "outputs": [
    {
     "name": "stdout",
     "output_type": "stream",
     "text": [
      "Your total marks=  200\n"
     ]
    }
   ],
   "source": [
    "def stud_marks(maths, science, english):\n",
    "    return (maths+ science+ english)\n",
    "\n",
    "print('Your total marks= ', stud_marks(55,65,80))\n"
   ]
  },
  {
   "cell_type": "code",
   "execution_count": 35,
   "id": "0cf6f1aa",
   "metadata": {},
   "outputs": [
    {
     "name": "stdout",
     "output_type": "stream",
     "text": [
      "182 - You are First Class\n"
     ]
    }
   ],
   "source": [
    "total_marks= stud_marks(12,90,80)\n",
    "\n",
    "if total_marks <90:\n",
    "    print(total_marks, '- You are fail')\n",
    "    \n",
    "elif total_marks >90 and total_marks <150:\n",
    "    print(total_marks, '- You are pass')\n",
    "    \n",
    "elif total_marks >151 and total_marks <250:\n",
    "    print(total_marks, '- You are First Class')\n",
    "    \n",
    "else:\n",
    "    print(total_marks, '- You are Distinction')"
   ]
  },
  {
   "cell_type": "code",
   "execution_count": 39,
   "id": "c5b7bb5b",
   "metadata": {},
   "outputs": [],
   "source": [
    "def phone_price(phone_make, phone_age, phone_model_GB):\n",
    "    if phone_make == 'iphone11':\n",
    "        if 0 <phone_age<=6:\n",
    "            if phone_model_GB == 64:\n",
    "                print('Rs 39,283 - Rs 41,713')\n",
    "            elif phone_model_GB ==128:\n",
    "                print('Rs 45,835 - Rs 48, 670')\n",
    "            \n",
    "        if 6<phone_age<=12:\n",
    "            if phone_model_GB == 64:\n",
    "                print('Rs 29,823 - Rs 31,713')\n",
    "            elif phone_model_GB ==128:\n",
    "                print('Rs 35,835 - 38,670')\n",
    "            \n",
    "    elif phone_make == 'Samsung B110':\n",
    "        if 0<phone_age<=6:\n",
    "            print('Rs 853 - Rs 906')\n",
    "        elif 6<phone_age<=12:\n",
    "            print('Rs 711 - Rs 755')"
   ]
  },
  {
   "cell_type": "code",
   "execution_count": 40,
   "id": "91232c42",
   "metadata": {},
   "outputs": [
    {
     "name": "stdout",
     "output_type": "stream",
     "text": [
      "Rs 39,283 - Rs 41,713\n"
     ]
    }
   ],
   "source": [
    "phone_price('iphone11', 4, 64)"
   ]
  },
  {
   "cell_type": "code",
   "execution_count": 41,
   "id": "11f708e8",
   "metadata": {},
   "outputs": [
    {
     "name": "stdout",
     "output_type": "stream",
     "text": [
      "80\n"
     ]
    }
   ],
   "source": [
    "#lambda() (We can't call it multiple times)\n",
    "\n",
    "#lambda arguments : expression\n",
    "\n",
    "add_num= lambda y:y + 30\n",
    "print(add_num(50))"
   ]
  },
  {
   "cell_type": "code",
   "execution_count": 42,
   "id": "de1c5eb6",
   "metadata": {},
   "outputs": [
    {
     "name": "stdout",
     "output_type": "stream",
     "text": [
      "300\n"
     ]
    }
   ],
   "source": [
    "#Muliple arguments\n",
    "\n",
    "multi_num= lambda a,b : a*b\n",
    "print(multi_num(15,20))"
   ]
  },
  {
   "cell_type": "code",
   "execution_count": 2,
   "id": "1059870f",
   "metadata": {},
   "outputs": [
    {
     "name": "stdout",
     "output_type": "stream",
     "text": [
      "Enter Your name Preeti Singh\n",
      "You have entered - Preeti Singh\n"
     ]
    }
   ],
   "source": [
    "#input from user/keyword\n",
    "#program to take input from user\n",
    "\n",
    "name= input(\"Enter Your name \")\n",
    "print('You have entered -', name)"
   ]
  },
  {
   "cell_type": "code",
   "execution_count": 5,
   "id": "91c47445",
   "metadata": {},
   "outputs": [
    {
     "name": "stdout",
     "output_type": "stream",
     "text": [
      "Enter your maths score 80\n",
      "Enter your science score 90\n",
      "Your total marks- 170\n"
     ]
    }
   ],
   "source": [
    "#Check with only Integers\n",
    "maths= int(input('Enter your maths score '))\n",
    "science= int(input('Enter your science score '))\n",
    "\n",
    "total_marks= maths + science\n",
    "print('Your total marks-', total_marks)"
   ]
  },
  {
   "cell_type": "code",
   "execution_count": 12,
   "id": "d1b89445",
   "metadata": {},
   "outputs": [
    {
     "name": "stdout",
     "output_type": "stream",
     "text": [
      "Enter your name Preeti\n",
      "Your name is  Preeti\n"
     ]
    }
   ],
   "source": [
    "#how to check with letters\n",
    "\n",
    "name= input('Enter your name ')\n",
    "\n",
    "if name.isalpha():\n",
    "    print('Your name is ', name)\n",
    "else:\n",
    "    print('Only alpha charactors are allowed')"
   ]
  },
  {
   "cell_type": "code",
   "execution_count": 15,
   "id": "b393c6c7",
   "metadata": {},
   "outputs": [
    {
     "name": "stdout",
     "output_type": "stream",
     "text": [
      "Enter phone maker iphone11\n",
      "Enter you phone age in numbers 6\n",
      "Enter GB in numbers 64\n",
      "Rs 39,283 - Rs 41,713\n"
     ]
    }
   ],
   "source": [
    "def phone_price(phone_make, phone_age, phone_model_GB):\n",
    "    if phone_make == 'iphone11':\n",
    "        if 0 <phone_age<=6:\n",
    "            if phone_model_GB == 64:\n",
    "                print('Rs 39,283 - Rs 41,713')\n",
    "            elif phone_model_GB ==128:\n",
    "                print('Rs 45,835 - Rs 48, 670')\n",
    "            \n",
    "        if 6<phone_age<=12:\n",
    "            if phone_model_GB == 64:\n",
    "                print('Rs 29,823 - Rs 31,713')\n",
    "            elif phone_model_GB ==128:\n",
    "                print('Rs 35,835 - 38,670')\n",
    "            \n",
    "    elif phone_make == 'Samsung B110':\n",
    "        if 0<phone_age<=6:\n",
    "            print('Rs 853 - Rs 906')\n",
    "        elif 6<phone_age<=12:\n",
    "            print('Rs 711 - Rs 755')\n",
    "\n",
    "phone= input('Enter phone maker ')\n",
    "months_old= int(input('Enter you phone age in numbers '))\n",
    "capacity= int(input('Enter GB in numbers '))\n",
    "\n",
    "phone_price(phone, months_old, capacity)"
   ]
  },
  {
   "cell_type": "code",
   "execution_count": null,
   "id": "2964f629",
   "metadata": {},
   "outputs": [],
   "source": []
  }
 ],
 "metadata": {
  "kernelspec": {
   "display_name": "Python 3 (ipykernel)",
   "language": "python",
   "name": "python3"
  },
  "language_info": {
   "codemirror_mode": {
    "name": "ipython",
    "version": 3
   },
   "file_extension": ".py",
   "mimetype": "text/x-python",
   "name": "python",
   "nbconvert_exporter": "python",
   "pygments_lexer": "ipython3",
   "version": "3.9.7"
  }
 },
 "nbformat": 4,
 "nbformat_minor": 5
}
