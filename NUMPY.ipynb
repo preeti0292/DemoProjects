{
 "cells": [
  {
   "cell_type": "code",
   "execution_count": 1,
   "id": "6c161c9f",
   "metadata": {},
   "outputs": [],
   "source": [
    "import numpy as np"
   ]
  },
  {
   "cell_type": "code",
   "execution_count": 2,
   "id": "331cab11",
   "metadata": {},
   "outputs": [
    {
     "data": {
      "text/plain": [
       "3.1622776601683795"
      ]
     },
     "execution_count": 2,
     "metadata": {},
     "output_type": "execute_result"
    }
   ],
   "source": [
    "np.sqrt(10)"
   ]
  },
  {
   "cell_type": "code",
   "execution_count": 4,
   "id": "0966d34f",
   "metadata": {},
   "outputs": [
    {
     "name": "stdout",
     "output_type": "stream",
     "text": [
      "Minimum  18\n"
     ]
    }
   ],
   "source": [
    "print('Minimum ', np.amin([25,30,57,18]))"
   ]
  },
  {
   "cell_type": "code",
   "execution_count": 6,
   "id": "647a4e14",
   "metadata": {},
   "outputs": [
    {
     "name": "stdout",
     "output_type": "stream",
     "text": [
      "Minimum  57\n"
     ]
    }
   ],
   "source": [
    "print('Minimum ', np.amax([25,30,57,18]))"
   ]
  },
  {
   "cell_type": "code",
   "execution_count": 7,
   "id": "1a664cab",
   "metadata": {},
   "outputs": [
    {
     "data": {
      "text/plain": [
       "30.0"
      ]
     },
     "execution_count": 7,
     "metadata": {},
     "output_type": "execute_result"
    }
   ],
   "source": [
    "np.ceil(29.5)"
   ]
  },
  {
   "cell_type": "code",
   "execution_count": 8,
   "id": "6275daa1",
   "metadata": {},
   "outputs": [
    {
     "data": {
      "text/plain": [
       "4.0"
      ]
     },
     "execution_count": 8,
     "metadata": {},
     "output_type": "execute_result"
    }
   ],
   "source": [
    "np.ceil(np.sqrt(10))"
   ]
  },
  {
   "cell_type": "code",
   "execution_count": 9,
   "id": "1bd04df5",
   "metadata": {},
   "outputs": [
    {
     "data": {
      "text/plain": [
       "10.0"
      ]
     },
     "execution_count": 9,
     "metadata": {},
     "output_type": "execute_result"
    }
   ],
   "source": [
    "np.ceil(np.sum(np.sqrt([5,10,15])))"
   ]
  },
  {
   "cell_type": "code",
   "execution_count": 10,
   "id": "f20e3070",
   "metadata": {},
   "outputs": [
    {
     "data": {
      "text/plain": [
       "array([ 5, 19, 13])"
      ]
     },
     "execution_count": 10,
     "metadata": {},
     "output_type": "execute_result"
    }
   ],
   "source": [
    "np.array([5,19,13])"
   ]
  },
  {
   "cell_type": "code",
   "execution_count": 11,
   "id": "0a430c59",
   "metadata": {},
   "outputs": [
    {
     "data": {
      "text/plain": [
       "list"
      ]
     },
     "execution_count": 11,
     "metadata": {},
     "output_type": "execute_result"
    }
   ],
   "source": [
    "type([5,19,13])"
   ]
  },
  {
   "cell_type": "code",
   "execution_count": 12,
   "id": "229a1f69",
   "metadata": {},
   "outputs": [],
   "source": [
    "#Two Dimension\n",
    "\n",
    "a= np.array([[1,2],[3,4],[4,5]])"
   ]
  },
  {
   "cell_type": "code",
   "execution_count": 13,
   "id": "ea830c4f",
   "metadata": {},
   "outputs": [
    {
     "name": "stdout",
     "output_type": "stream",
     "text": [
      "Type -  int32\n",
      "\n",
      " ******************************\n",
      "\n",
      " [[1 2]\n",
      " [3 4]\n",
      " [4 5]]\n"
     ]
    }
   ],
   "source": [
    "print(\"Type - \", a.dtype)\n",
    "print('\\n', '*' * 30)\n",
    "print('\\n',a)"
   ]
  },
  {
   "cell_type": "code",
   "execution_count": 16,
   "id": "ca33c764",
   "metadata": {},
   "outputs": [
    {
     "data": {
      "text/plain": [
       "array([1., 2., 3.])"
      ]
     },
     "execution_count": 16,
     "metadata": {},
     "output_type": "execute_result"
    }
   ],
   "source": [
    "#dtype conversion\n",
    "\n",
    "np.array([1,2,3], dtype= float)"
   ]
  },
  {
   "cell_type": "code",
   "execution_count": 18,
   "id": "be6d3a92",
   "metadata": {},
   "outputs": [
    {
     "data": {
      "text/plain": [
       "array([[123],\n",
       "       [345]])"
      ]
     },
     "execution_count": 18,
     "metadata": {},
     "output_type": "execute_result"
    }
   ],
   "source": [
    "#Creating array using mat(matrix)\n",
    "\n",
    "np.array(np.mat('123 ; 345'))"
   ]
  },
  {
   "cell_type": "code",
   "execution_count": 19,
   "id": "eab71fe1",
   "metadata": {},
   "outputs": [
    {
     "name": "stdout",
     "output_type": "stream",
     "text": [
      "[1 2]\n"
     ]
    }
   ],
   "source": [
    "#Convert a list into an array\n",
    "\n",
    "a= [1,2]\n",
    "\n",
    "c= np.array(a)\n",
    "\n",
    "print(c)"
   ]
  },
  {
   "cell_type": "code",
   "execution_count": 20,
   "id": "1de29ee4",
   "metadata": {},
   "outputs": [
    {
     "name": "stdout",
     "output_type": "stream",
     "text": [
      "[1 2]\n"
     ]
    }
   ],
   "source": [
    "#Copy array into other\n",
    "b= np.array(c)\n",
    "\n",
    "print(b)"
   ]
  },
  {
   "cell_type": "code",
   "execution_count": 2,
   "id": "61f5cc12",
   "metadata": {},
   "outputs": [],
   "source": [
    "import numpy as np"
   ]
  },
  {
   "cell_type": "code",
   "execution_count": 3,
   "id": "cb3bba73",
   "metadata": {},
   "outputs": [
    {
     "name": "stdout",
     "output_type": "stream",
     "text": [
      "Type/Class of this object: <class 'numpy.ndarray'>\n",
      "Here is the matrix\n",
      "-----------------\n",
      " [[1 2 3]\n",
      " [4 5 6]\n",
      " [7 8 9]] \n",
      "------------------\n",
      "Dimension of this matrix: 2\n",
      "Size of this matrix: 9\n",
      "Shape of this matrix:  (3, 3)\n",
      "Data type of this matrix:  int32\n"
     ]
    }
   ],
   "source": [
    "my_mat= [[1,2,3],[4,5,6],[7,8,9]]\n",
    "\n",
    "mat= np.array(my_mat)\n",
    "\n",
    "print(\"Type/Class of this object:\", type(mat))\n",
    "\n",
    "print(\"Here is the matrix\\n-----------------\\n\",mat,\"\\n------------------\")\n",
    "\n",
    "print(\"Dimension of this matrix: \", mat.ndim, sep='') #ndim gives the dimension, 2 for a matrix 1 for a vector\n",
    "\n",
    "print(\"Size of this matrix: \", mat.size, sep='') #size gives the total number of elements.\n",
    "print(\"Shape of this matrix: \", mat.shape) \n",
    "print(\"Data type of this matrix: \", mat.dtype)"
   ]
  },
  {
   "cell_type": "code",
   "execution_count": 5,
   "id": "0c762413",
   "metadata": {},
   "outputs": [
    {
     "ename": "TypeError",
     "evalue": "'float' object cannot be interpreted as an integer",
     "output_type": "error",
     "traceback": [
      "\u001b[1;31m---------------------------------------------------------------------------\u001b[0m",
      "\u001b[1;31mTypeError\u001b[0m                                 Traceback (most recent call last)",
      "\u001b[1;32m~\\AppData\\Local\\Temp/ipykernel_8484/2239226799.py\u001b[0m in \u001b[0;36m<module>\u001b[1;34m\u001b[0m\n\u001b[0;32m      1\u001b[0m \u001b[1;31m#arrange and linspace\u001b[0m\u001b[1;33m\u001b[0m\u001b[1;33m\u001b[0m\u001b[0m\n\u001b[0;32m      2\u001b[0m \u001b[1;33m\u001b[0m\u001b[0m\n\u001b[1;32m----> 3\u001b[1;33m \u001b[0mlist\u001b[0m\u001b[1;33m(\u001b[0m\u001b[0mrange\u001b[0m\u001b[1;33m(\u001b[0m\u001b[1;36m2\u001b[0m\u001b[1;33m,\u001b[0m\u001b[1;36m10.5\u001b[0m\u001b[1;33m,\u001b[0m\u001b[1;36m.4\u001b[0m\u001b[1;33m)\u001b[0m\u001b[1;33m)\u001b[0m\u001b[1;33m\u001b[0m\u001b[1;33m\u001b[0m\u001b[0m\n\u001b[0m",
      "\u001b[1;31mTypeError\u001b[0m: 'float' object cannot be interpreted as an integer"
     ]
    }
   ],
   "source": [
    "#arrange and linspace\n",
    "\n",
    "list(range(2,10.5,.4)) # don't work with python range"
   ]
  },
  {
   "cell_type": "code",
   "execution_count": 6,
   "id": "3d14ee29",
   "metadata": {},
   "outputs": [
    {
     "data": {
      "text/plain": [
       "array([ 2. ,  2.4,  2.8,  3.2,  3.6,  4. ,  4.4,  4.8,  5.2,  5.6,  6. ,\n",
       "        6.4,  6.8,  7.2,  7.6,  8. ,  8.4,  8.8,  9.2,  9.6, 10. , 10.4])"
      ]
     },
     "execution_count": 6,
     "metadata": {},
     "output_type": "execute_result"
    }
   ],
   "source": [
    "a= np.arange(2,10.5,.4)\n",
    "a"
   ]
  },
  {
   "cell_type": "code",
   "execution_count": 8,
   "id": "c12396b9",
   "metadata": {},
   "outputs": [
    {
     "data": {
      "text/plain": [
       "array([10.4, 10. ,  9.6,  9.2,  8.8,  8.4,  8. ,  7.6,  7.2,  6.8,  6.4,\n",
       "        6. ,  5.6,  5.2,  4.8,  4.4,  4. ,  3.6,  3.2,  2.8,  2.4,  2. ])"
      ]
     },
     "execution_count": 8,
     "metadata": {},
     "output_type": "execute_result"
    }
   ],
   "source": [
    "#Reverse order\n",
    "\n",
    "a[::-1]"
   ]
  },
  {
   "cell_type": "code",
   "execution_count": 10,
   "id": "b814b97b",
   "metadata": {},
   "outputs": [
    {
     "name": "stdout",
     "output_type": "stream",
     "text": [
      "Every 5th number from 50 in reverse order\n",
      " [50 45 40 35 30 25 20 15 10  5]\n"
     ]
    }
   ],
   "source": [
    "print(\"Every 5th number from 50 in reverse order\\n\",np.arange(50,0,-5))"
   ]
  },
  {
   "cell_type": "code",
   "execution_count": 11,
   "id": "af1847fe",
   "metadata": {},
   "outputs": [
    {
     "name": "stdout",
     "output_type": "stream",
     "text": [
      "Linearly spaced numbers between 1 and 5\n",
      "-------------------------\n",
      "[10.  17.5 25.  32.5 40. ]\n"
     ]
    }
   ],
   "source": [
    "print(\"Linearly spaced numbers between 1 and 5\\n-------------------------\")\n",
    "print(np.linspace(10,40,5))"
   ]
  },
  {
   "cell_type": "code",
   "execution_count": 13,
   "id": "bebc860a",
   "metadata": {},
   "outputs": [
    {
     "data": {
      "text/plain": [
       "array([2.        , 2.33333333, 2.66666667, 3.        ])"
      ]
     },
     "execution_count": 13,
     "metadata": {},
     "output_type": "execute_result"
    }
   ],
   "source": [
    "#Include end point and check space between the points\n",
    "#By default end pont= True\n",
    "#By default retstep= False\n",
    "#np.linspace(2.0,3.0, num=4, endpoint= False, retstep= True)\n",
    "np.linspace(2.0,3.0, num=4, endpoint= True, retstep= False)"
   ]
  },
  {
   "cell_type": "code",
   "execution_count": 14,
   "id": "7042bd7c",
   "metadata": {},
   "outputs": [
    {
     "name": "stdout",
     "output_type": "stream",
     "text": [
      "(array([ 4.5678 ,  5.13145,  5.6951 ,  6.25875,  6.8224 ,  7.38605,\n",
      "        7.9497 ,  8.51335,  9.077  ,  9.64065, 10.2043 , 10.76795,\n",
      "       11.3316 , 11.89525, 12.4589 , 13.02255, 13.5862 , 14.14985,\n",
      "       14.7135 , 15.27715, 15.8408 , 16.40445, 16.9681 , 17.53175,\n",
      "       18.0954 , 18.65905, 19.2227 , 19.78635, 20.35   , 20.91365,\n",
      "       21.4773 , 22.04095, 22.6046 , 23.16825, 23.7319 , 24.29555,\n",
      "       24.8592 , 25.42285, 25.9865 ]), 0.56365)\n"
     ]
    }
   ],
   "source": [
    "print(np.linspace(4.5678, 25.9865, 39, retstep= True))"
   ]
  },
  {
   "cell_type": "code",
   "execution_count": 15,
   "id": "ac869f5b",
   "metadata": {},
   "outputs": [
    {
     "name": "stdout",
     "output_type": "stream",
     "text": [
      "Vector of zeros\n",
      "---------------------------------\n",
      "[0. 0. 0. 0. 0.]\n"
     ]
    }
   ],
   "source": [
    "#Create Matrix\n",
    "\n",
    "print(\"Vector of zeros\\n---------------------------------\")\n",
    "print(np.zeros(5))"
   ]
  },
  {
   "cell_type": "code",
   "execution_count": 16,
   "id": "e02ec811",
   "metadata": {},
   "outputs": [
    {
     "name": "stdout",
     "output_type": "stream",
     "text": [
      "Matrix of zeros\n",
      "---------------------------------\n",
      "[[0. 0. 0. 0. 0. 0.]\n",
      " [0. 0. 0. 0. 0. 0.]\n",
      " [0. 0. 0. 0. 0. 0.]\n",
      " [0. 0. 0. 0. 0. 0.]\n",
      " [0. 0. 0. 0. 0. 0.]]\n"
     ]
    }
   ],
   "source": [
    "print(\"Matrix of zeros\\n---------------------------------\")\n",
    "\n",
    "print(np.zeros((5,6))) #Notice Tuples"
   ]
  },
  {
   "cell_type": "code",
   "execution_count": 17,
   "id": "863a0f8d",
   "metadata": {},
   "outputs": [
    {
     "name": "stdout",
     "output_type": "stream",
     "text": [
      "Matrix of ones\n",
      "---------------------------------\n",
      "[[1. 1. 1. 1. 1. 1. 1. 1.]\n",
      " [1. 1. 1. 1. 1. 1. 1. 1.]\n",
      " [1. 1. 1. 1. 1. 1. 1. 1.]\n",
      " [1. 1. 1. 1. 1. 1. 1. 1.]\n",
      " [1. 1. 1. 1. 1. 1. 1. 1.]]\n"
     ]
    }
   ],
   "source": [
    "print(\"Matrix of ones\\n---------------------------------\")\n",
    "\n",
    "print(np.ones((5,8)))"
   ]
  },
  {
   "cell_type": "code",
   "execution_count": 18,
   "id": "dacf6cf3",
   "metadata": {},
   "outputs": [
    {
     "name": "stdout",
     "output_type": "stream",
     "text": [
      "Matrix of 5's\n",
      "---------------------------------\n",
      "[[5. 5. 5.]\n",
      " [5. 5. 5.]]\n"
     ]
    }
   ],
   "source": [
    "print(\"Matrix of 5's\\n---------------------------------\")\n",
    "\n",
    "print(5*np.ones((2,3)))"
   ]
  },
  {
   "cell_type": "code",
   "execution_count": 20,
   "id": "7a7c6152",
   "metadata": {},
   "outputs": [
    {
     "data": {
      "text/plain": [
       "array([[ 0,  1,  2,  3,  4],\n",
       "       [ 5,  6,  7,  8,  9],\n",
       "       [10, 11, 12, 13, 14],\n",
       "       [15, 16, 17, 18, 19],\n",
       "       [20, 21, 22, 23, 24],\n",
       "       [25, 26, 27, 28, 29]])"
      ]
     },
     "execution_count": 20,
     "metadata": {},
     "output_type": "execute_result"
    }
   ],
   "source": [
    "#Construct diagpnal Matrix\n",
    "x= np.arange(30).reshape(6,5)\n",
    "x"
   ]
  },
  {
   "cell_type": "code",
   "execution_count": 21,
   "id": "4f7404ce",
   "metadata": {},
   "outputs": [
    {
     "name": "stdout",
     "output_type": "stream",
     "text": [
      "Random number generation (from uniform distribution)\n",
      "[[0.89286015 0.33197981 0.82122912 0.04169663 0.10765668 0.59505206]\n",
      " [0.52981736 0.41880743 0.33540785 0.62251943 0.43814143 0.73588211]\n",
      " [0.51803641 0.5788586  0.6453551  0.99022427 0.8198582  0.41320093]\n",
      " [0.87626766 0.82375943 0.05447451 0.71863724 0.80217056 0.73640664]\n",
      " [0.70913175 0.54093685 0.12482417 0.9576473  0.4032563  0.21695116]\n",
      " [0.71727585 0.99420744 0.25561406 0.67130943 0.59900591 0.71733215]\n",
      " [0.93734953 0.35180977 0.2536341  0.40247251 0.74651072 0.72407057]\n",
      " [0.4061078  0.98937985 0.45049928 0.37380843 0.70962861 0.08245855]\n",
      " [0.39837292 0.77088097 0.76475098 0.28385938 0.18954219 0.47125096]\n",
      " [0.33480604 0.73473504 0.18910712 0.33110407 0.84422842 0.61502403]]\n"
     ]
    }
   ],
   "source": [
    "#Random Number generation\n",
    "np.random.seed(6)\n",
    "\n",
    "print(\"Random number generation (from uniform distribution)\")\n",
    "\n",
    "print(np.random.rand(10,6))"
   ]
  },
  {
   "cell_type": "code",
   "execution_count": 24,
   "id": "2b899706",
   "metadata": {},
   "outputs": [
    {
     "name": "stdout",
     "output_type": "stream",
     "text": [
      "Numbers from Normal distribution with zero mean and standard deviation 1 i.e. standard normal\n",
      "[[-0.96813764  0.16706673  0.11660197]\n",
      " [-0.68225732 -1.91402115 -0.13990231]\n",
      " [ 0.11492459 -0.39500464 -0.95331626]\n",
      " [-1.07282736 -0.48444561  1.36293786]\n",
      " [ 0.15268777 -1.6326206   0.64330145]\n",
      " [-0.44789505  2.33903423 -0.31332286]\n",
      " [-0.05961756  0.19416833  0.2868793 ]\n",
      " [ 0.05185969  0.05155094 -0.21958725]\n",
      " [-0.5532565  -0.37391087 -1.18441686]\n",
      " [-0.52817318 -0.66353389 -0.43373648]]\n"
     ]
    }
   ],
   "source": [
    "print(\"Numbers from Normal distribution with zero mean and standard deviation 1 i.e. standard normal\")\n",
    "print(np.random.randn(10,3)) #randn Negative data"
   ]
  },
  {
   "cell_type": "code",
   "execution_count": 25,
   "id": "20561240",
   "metadata": {},
   "outputs": [
    {
     "name": "stdout",
     "output_type": "stream",
     "text": [
      "Random integer vector: [ 6 12  6 11 15 13  6 10 14 17]\n"
     ]
    }
   ],
   "source": [
    "print(\"Random integer vector:\",np.random.randint(5,20,10)) #randint(low, high, #of samples to be drawn)\n"
   ]
  },
  {
   "cell_type": "code",
   "execution_count": 26,
   "id": "8b482117",
   "metadata": {},
   "outputs": [
    {
     "name": "stdout",
     "output_type": "stream",
     "text": [
      "\n",
      "Random ineger matrix\n",
      "[[2078 1283  140 1771 1129  808 1442]\n",
      " [  68 1205 2720 1639  965 1046  263]\n",
      " [1801  694 2282 1950 2748 1924 2613]\n",
      " [1911  573   35  392 2096 2711 2817]\n",
      " [1510 1199 1662  665 2462  681 1945]\n",
      " [2247 1135 2054 2027 1804 1963  908]]\n"
     ]
    }
   ],
   "source": [
    "print(\"\\nRandom ineger matrix\")\n",
    "print(np.random.randint(1,3000,(6,7)))"
   ]
  },
  {
   "cell_type": "code",
   "execution_count": 27,
   "id": "d0b95ea9",
   "metadata": {},
   "outputs": [
    {
     "data": {
      "text/plain": [
       "array([52, 58,  9, 15, 58, 15, 40, 13, 69, 13])"
      ]
     },
     "execution_count": 27,
     "metadata": {},
     "output_type": "execute_result"
    }
   ],
   "source": [
    "#Numpy Condition\n",
    "emp_salary= np.random.randint(8,70,10)\n",
    "emp_salary"
   ]
  },
  {
   "cell_type": "code",
   "execution_count": 29,
   "id": "9030b033",
   "metadata": {},
   "outputs": [
    {
     "data": {
      "text/plain": [
       "array([50, 50, 20, 20, 50, 20, 40, 20, 50, 20])"
      ]
     },
     "execution_count": 29,
     "metadata": {},
     "output_type": "execute_result"
    }
   ],
   "source": [
    "#Set minimum and maximum salary using min and max\n",
    "\n",
    "np.clip(emp_salary, a_min=20, a_max=50)"
   ]
  },
  {
   "cell_type": "code",
   "execution_count": 36,
   "id": "6ab445bd",
   "metadata": {},
   "outputs": [
    {
     "name": "stdout",
     "output_type": "stream",
     "text": [
      "(array([0, 1, 4, 6, 8], dtype=int64),)\n"
     ]
    }
   ],
   "source": [
    "#If you want to find actual salary which are less than or greater than some salary use np.where. np.where gives index details\n",
    "\n",
    "print(np.where(emp_salary >20))\n",
    "\n",
    "\n"
   ]
  },
  {
   "cell_type": "code",
   "execution_count": 34,
   "id": "c7f68e18",
   "metadata": {},
   "outputs": [
    {
     "data": {
      "text/plain": [
       "array([52,  9, 58])"
      ]
     },
     "execution_count": 34,
     "metadata": {},
     "output_type": "execute_result"
    }
   ],
   "source": [
    "#if you want to see actual data use index.\n",
    "\n",
    "emp_salary[[0,2,4]]"
   ]
  },
  {
   "cell_type": "code",
   "execution_count": 37,
   "id": "eb338f28",
   "metadata": {},
   "outputs": [
    {
     "data": {
      "text/plain": [
       "array([ 9, 46, 75,  4, 37, 40, 67, 43, 23, 82, 51, 84, 84, 19, 78, 48, 66,\n",
       "       97, 70, 45, 21, 17, 85, 55, 50, 73, 83, 85, 20, 28])"
      ]
     },
     "execution_count": 37,
     "metadata": {},
     "output_type": "execute_result"
    }
   ],
   "source": [
    "#Reshaping other ways\n",
    "\n",
    "import numpy as np\n",
    "from numpy.random import randint as ri\n",
    "\n",
    "a= ri(1,99,30)\n",
    "a"
   ]
  },
  {
   "cell_type": "code",
   "execution_count": 38,
   "id": "ee383252",
   "metadata": {},
   "outputs": [
    {
     "data": {
      "text/plain": [
       "array([[[ 9, 46, 75,  4, 37],\n",
       "        [40, 67, 43, 23, 82],\n",
       "        [51, 84, 84, 19, 78]],\n",
       "\n",
       "       [[48, 66, 97, 70, 45],\n",
       "        [21, 17, 85, 55, 50],\n",
       "        [73, 83, 85, 20, 28]]])"
      ]
     },
     "execution_count": 38,
     "metadata": {},
     "output_type": "execute_result"
    }
   ],
   "source": [
    "b= a.reshape(2,3,5)\n",
    "b"
   ]
  },
  {
   "cell_type": "code",
   "execution_count": 39,
   "id": "282f3271",
   "metadata": {},
   "outputs": [
    {
     "data": {
      "text/plain": [
       "array([[ 9, 46, 75,  4, 37],\n",
       "       [40, 67, 43, 23, 82],\n",
       "       [51, 84, 84, 19, 78],\n",
       "       [48, 66, 97, 70, 45],\n",
       "       [21, 17, 85, 55, 50],\n",
       "       [73, 83, 85, 20, 28]])"
      ]
     },
     "execution_count": 39,
     "metadata": {},
     "output_type": "execute_result"
    }
   ],
   "source": [
    "c= a.reshape(6,5)\n",
    "c"
   ]
  },
  {
   "cell_type": "code",
   "execution_count": 41,
   "id": "872083b8",
   "metadata": {},
   "outputs": [
    {
     "name": "stdout",
     "output_type": "stream",
     "text": [
      "Min of a: 4\n",
      "Max of a: 97\n"
     ]
    }
   ],
   "source": [
    "print(\"Min of a:\", c.min())\n",
    "print(\"Max of a:\", c.max())\n"
   ]
  },
  {
   "cell_type": "code",
   "execution_count": 42,
   "id": "ff97e382",
   "metadata": {},
   "outputs": [
    {
     "data": {
      "text/plain": [
       "52.833333333333336"
      ]
     },
     "execution_count": 42,
     "metadata": {},
     "output_type": "execute_result"
    }
   ],
   "source": [
    "np.mean(c)"
   ]
  },
  {
   "cell_type": "code",
   "execution_count": 43,
   "id": "2bec9094",
   "metadata": {},
   "outputs": [
    {
     "name": "stdout",
     "output_type": "stream",
     "text": [
      "\n",
      "5x5 Matrix of random integers \n",
      " -------------------------------------------------- \n",
      " [[ 6 85 61  6 16]\n",
      " [38  7 28 80 56]\n",
      " [24 84 36  3 99]\n",
      " [82 55 24 64 59]\n",
      " [20 19 72 27 58]]\n",
      "\n",
      "Here is the sorted Matrix along each row\n",
      " -------------------------------------------------- \n",
      " [[ 6  6 16 61 85]\n",
      " [ 7 28 38 56 80]\n",
      " [ 3 24 36 84 99]\n",
      " [24 55 59 64 82]\n",
      " [19 20 27 58 72]]\n",
      "\n",
      "Here is the sorted Matrix along each column\n",
      " -------------------------------------------------- \n",
      " [[ 6  7 24  3 16]\n",
      " [20 19 28  6 56]\n",
      " [24 55 36 27 58]\n",
      " [38 84 61 64 59]\n",
      " [82 85 72 80 99]]\n"
     ]
    }
   ],
   "source": [
    "M= ri(1,100,25).reshape(5,5)\n",
    "\n",
    "print(\"\\n5x5 Matrix of random integers \\n\",'-'*50,\"\\n\",M)\n",
    "\n",
    "print(\"\\nHere is the sorted Matrix along each row\\n\",'-'*50,\"\\n\",np.sort(M))\n",
    "\n",
    "print(\"\\nHere is the sorted Matrix along each column\\n\",'-'*50,\"\\n\",np.sort(M, axis=0))"
   ]
  },
  {
   "cell_type": "code",
   "execution_count": 2,
   "id": "8c87f379",
   "metadata": {},
   "outputs": [],
   "source": [
    "import numpy as np"
   ]
  },
  {
   "cell_type": "code",
   "execution_count": 3,
   "id": "37562625",
   "metadata": {},
   "outputs": [
    {
     "name": "stdout",
     "output_type": "stream",
     "text": [
      "Array: [13 14 15 16 17 18 19 20 21 22 23 24 25 26 27 28 29]\n"
     ]
    }
   ],
   "source": [
    "arr= np.arange(13,30)\n",
    "print(\"Array:\", arr)"
   ]
  },
  {
   "cell_type": "code",
   "execution_count": 4,
   "id": "36beb516",
   "metadata": {},
   "outputs": [
    {
     "name": "stdout",
     "output_type": "stream",
     "text": [
      "Element of 7th index is: 20\n"
     ]
    }
   ],
   "source": [
    "print(\"Element of 7th index is:\", arr[7])"
   ]
  },
  {
   "cell_type": "code",
   "execution_count": 6,
   "id": "b8f004dd",
   "metadata": {},
   "outputs": [
    {
     "name": "stdout",
     "output_type": "stream",
     "text": [
      "Elements from 3rd to 5th index are: [16 17 18]\n"
     ]
    }
   ],
   "source": [
    "print(\"Elements from 3rd to 5th index are:\", arr[3:6])"
   ]
  },
  {
   "cell_type": "code",
   "execution_count": 8,
   "id": "672da8ec",
   "metadata": {},
   "outputs": [
    {
     "name": "stdout",
     "output_type": "stream",
     "text": [
      "Elements upto 4th index are: [17 18 19 20 21 22 23 24 25 26 27 28 29]\n"
     ]
    }
   ],
   "source": [
    "print(\"Elements upto 4th index are:\", arr[4:])\n",
    "abc= arr[4:]"
   ]
  },
  {
   "cell_type": "code",
   "execution_count": 9,
   "id": "024ceeab",
   "metadata": {},
   "outputs": [
    {
     "data": {
      "text/plain": [
       "array([17, 18, 19, 20, 21, 22, 23, 24, 25, 26, 27, 28, 29])"
      ]
     },
     "execution_count": 9,
     "metadata": {},
     "output_type": "execute_result"
    }
   ],
   "source": [
    "abc"
   ]
  },
  {
   "cell_type": "code",
   "execution_count": 10,
   "id": "cc691764",
   "metadata": {},
   "outputs": [
    {
     "data": {
      "text/plain": [
       "array([13, 14, 15, 16, 17, 18, 19, 20, 21, 22, 23, 24, 25, 26, 27, 28, 29])"
      ]
     },
     "execution_count": 10,
     "metadata": {},
     "output_type": "execute_result"
    }
   ],
   "source": [
    "arr"
   ]
  },
  {
   "cell_type": "code",
   "execution_count": 16,
   "id": "19738566",
   "metadata": {},
   "outputs": [
    {
     "name": "stdout",
     "output_type": "stream",
     "text": [
      "Elements from last backwards are: [29 27 25 23 21 19 17 15 13]\n"
     ]
    }
   ],
   "source": [
    "print(\"Elements from last backwards are:\", arr[-1::-2])"
   ]
  },
  {
   "cell_type": "code",
   "execution_count": 18,
   "id": "1c0b1d3d",
   "metadata": {},
   "outputs": [
    {
     "name": "stdout",
     "output_type": "stream",
     "text": [
      "7 Elemnets from last backwards are: [29 28 27 26 25 24 23]\n"
     ]
    }
   ],
   "source": [
    "print(\"7 Elemnets from last backwards are:\", arr[-1:-8:-1])"
   ]
  },
  {
   "cell_type": "code",
   "execution_count": 19,
   "id": "1536f9d0",
   "metadata": {},
   "outputs": [
    {
     "name": "stdout",
     "output_type": "stream",
     "text": [
      "New array: [ 0  2  4  6  8 10 12 14 16 18 20]\n"
     ]
    }
   ],
   "source": [
    "arr= np.arange(0,21,2)\n",
    "print(\"New array:\", arr)"
   ]
  },
  {
   "cell_type": "code",
   "execution_count": 21,
   "id": "01fc4c95",
   "metadata": {},
   "outputs": [
    {
     "name": "stdout",
     "output_type": "stream",
     "text": [
      "Elements at 2nd, 4th and 9th index are: [ 4  8 18]\n"
     ]
    }
   ],
   "source": [
    "print(\"Elements at 2nd, 4th and 9th index are:\", arr[[2,4,9]])"
   ]
  },
  {
   "cell_type": "code",
   "execution_count": 22,
   "id": "63cef0f2",
   "metadata": {},
   "outputs": [
    {
     "data": {
      "text/plain": [
       "array([[1, 2, 3],\n",
       "       [4, 5, 6],\n",
       "       [7, 8, 9]])"
      ]
     },
     "execution_count": 22,
     "metadata": {},
     "output_type": "execute_result"
    }
   ],
   "source": [
    "my_mat=[[1,2,3],[4,5,6],[7,8,9]]\n",
    "\n",
    "mat= np.array(my_mat)\n",
    "\n",
    "mat"
   ]
  },
  {
   "cell_type": "code",
   "execution_count": 23,
   "id": "5614d2ac",
   "metadata": {},
   "outputs": [
    {
     "name": "stdout",
     "output_type": "stream",
     "text": [
      "Double bracket indexing\n",
      "------------------------------\n",
      "Element in row index 1 and column index 2: 6\n"
     ]
    }
   ],
   "source": [
    "print(\"Double bracket indexing\\n------------------------------\")\n",
    "print(\"Element in row index 1 and column index 2:\", mat[1][2])"
   ]
  },
  {
   "cell_type": "code",
   "execution_count": 24,
   "id": "ce5fc80a",
   "metadata": {},
   "outputs": [
    {
     "data": {
      "text/plain": [
       "array([[1, 2, 3],\n",
       "       [4, 5, 6],\n",
       "       [7, 8, 9]])"
      ]
     },
     "execution_count": 24,
     "metadata": {},
     "output_type": "execute_result"
    }
   ],
   "source": [
    "mat"
   ]
  },
  {
   "cell_type": "code",
   "execution_count": 25,
   "id": "19bb5c01",
   "metadata": {},
   "outputs": [
    {
     "name": "stdout",
     "output_type": "stream",
     "text": [
      "Entire row at index 2: [7 8 9]\n",
      "\n",
      "Entire colum at index 3: \n",
      " [[2 3]\n",
      " [5 6]\n",
      " [8 9]]\n"
     ]
    }
   ],
   "source": [
    "print(\"Entire row at index 2:\", mat[2])\n",
    "print(\"\\nEntire colum at index 3: \\n\", mat[:,1:])"
   ]
  },
  {
   "cell_type": "code",
   "execution_count": 26,
   "id": "ae82d8a4",
   "metadata": {},
   "outputs": [
    {
     "name": "stdout",
     "output_type": "stream",
     "text": [
      "\n",
      "Susetting and sub-matrices\n",
      "---------------------\n",
      "Matrix with row indices 1 and 2 and column indices 3 and 4\n",
      " [[5]]\n"
     ]
    }
   ],
   "source": [
    "print(\"\\nSusetting and sub-matrices\\n---------------------\")\n",
    "print(\"Matrix with row indices 1 and 2 and column indices 3 and 4\\n\", mat[1:2,1:2])"
   ]
  },
  {
   "cell_type": "code",
   "execution_count": 27,
   "id": "fa74884c",
   "metadata": {},
   "outputs": [
    {
     "data": {
      "text/plain": [
       "array([[1, 2, 3],\n",
       "       [4, 5, 6],\n",
       "       [7, 8, 9]])"
      ]
     },
     "execution_count": 27,
     "metadata": {},
     "output_type": "execute_result"
    }
   ],
   "source": [
    "mat"
   ]
  },
  {
   "cell_type": "code",
   "execution_count": 28,
   "id": "fa31e48b",
   "metadata": {},
   "outputs": [
    {
     "name": "stdout",
     "output_type": "stream",
     "text": [
      " [[2 3]\n",
      " [5 6]]\n"
     ]
    }
   ],
   "source": [
    "print(\"\", mat[0:2,[1,2]])"
   ]
  },
  {
   "cell_type": "code",
   "execution_count": 29,
   "id": "d8c367b7",
   "metadata": {},
   "outputs": [
    {
     "name": "stdout",
     "output_type": "stream",
     "text": [
      "Oroginal Matrix \n",
      "\n",
      " [[1 2 3]\n",
      " [4 5 6]\n",
      " [7 8 9]]\n"
     ]
    }
   ],
   "source": [
    "#Update Matrix\n",
    "print(\"Oroginal Matrix \\n\\n\", mat)"
   ]
  },
  {
   "cell_type": "code",
   "execution_count": 30,
   "id": "8ba3d804",
   "metadata": {},
   "outputs": [
    {
     "data": {
      "text/plain": [
       "array([[ 1, 35,  3],\n",
       "       [ 4,  5,  6],\n",
       "       [ 7,  8,  9]])"
      ]
     },
     "execution_count": 30,
     "metadata": {},
     "output_type": "execute_result"
    }
   ],
   "source": [
    "mat[0,1]= 35\n",
    "mat"
   ]
  },
  {
   "cell_type": "code",
   "execution_count": 31,
   "id": "cfde2953",
   "metadata": {},
   "outputs": [
    {
     "data": {
      "text/plain": [
       "array([[  1,  35,   3],\n",
       "       [100,   5,   6],\n",
       "       [  7,   8,   9]])"
      ]
     },
     "execution_count": 31,
     "metadata": {},
     "output_type": "execute_result"
    }
   ],
   "source": [
    "mat[1,0]= 100\n",
    "mat"
   ]
  },
  {
   "cell_type": "code",
   "execution_count": 34,
   "id": "f8df2f5c",
   "metadata": {},
   "outputs": [],
   "source": [
    "import numpy as np\n",
    "from numpy.random import randint as ri"
   ]
  },
  {
   "cell_type": "code",
   "execution_count": 35,
   "id": "63d58416",
   "metadata": {},
   "outputs": [
    {
     "name": "stdout",
     "output_type": "stream",
     "text": [
      "Matrix of random 2 digits number\n",
      "-------------------\n",
      " [[97 84 84 29 94]\n",
      " [36 63 45 15 17]\n",
      " [29 57 63 32 52]]\n"
     ]
    }
   ],
   "source": [
    "#Subseting\n",
    "\n",
    "mat= np.array(ri(10,100,15)).reshape(3,5)\n",
    "\n",
    "print(\"Matrix of random 2 digits number\\n-------------------\\n\", mat)"
   ]
  },
  {
   "cell_type": "code",
   "execution_count": 36,
   "id": "ae3f4503",
   "metadata": {},
   "outputs": [
    {
     "name": "stdout",
     "output_type": "stream",
     "text": [
      "Elements greater than 50\n",
      " [97 84 84 94 63 57 63 52]\n"
     ]
    }
   ],
   "source": [
    "print(\"Elements greater than 50\\n\", mat[mat>50])"
   ]
  },
  {
   "cell_type": "code",
   "execution_count": 37,
   "id": "ce7e1505",
   "metadata": {},
   "outputs": [
    {
     "data": {
      "text/plain": [
       "array([[ True,  True,  True, False,  True],\n",
       "       [False,  True, False, False, False],\n",
       "       [False,  True,  True, False,  True]])"
      ]
     },
     "execution_count": 37,
     "metadata": {},
     "output_type": "execute_result"
    }
   ],
   "source": [
    "mat>50"
   ]
  },
  {
   "cell_type": "code",
   "execution_count": 39,
   "id": "90da7d14",
   "metadata": {},
   "outputs": [
    {
     "name": "stdout",
     "output_type": "stream",
     "text": [
      "(array([0], dtype=int64), array([4], dtype=int64))\n"
     ]
    }
   ],
   "source": [
    "print(np.where(mat==94))"
   ]
  },
  {
   "cell_type": "code",
   "execution_count": 42,
   "id": "f02b38a9",
   "metadata": {},
   "outputs": [
    {
     "data": {
      "text/plain": [
       "array('Retired', dtype='<U13')"
      ]
     },
     "execution_count": 42,
     "metadata": {},
     "output_type": "execute_result"
    }
   ],
   "source": [
    "#You can also use np.where to return some data based on condition\n",
    "\n",
    "age= 70\n",
    "np.where(age >65,'Retired', 'Still Working')"
   ]
  },
  {
   "cell_type": "code",
   "execution_count": 43,
   "id": "b9d62707",
   "metadata": {},
   "outputs": [
    {
     "name": "stdout",
     "output_type": "stream",
     "text": [
      "\n",
      "First matrix of random single-digit numbers\n",
      "-------------------------------------\n",
      " [[8 1 8]\n",
      " [5 1 5]\n",
      " [6 4 4]]\n",
      "\n",
      "Second matrix of random single-digit numbers\n",
      "-------------------------------------\n",
      " [[7 7 4]\n",
      " [5 7 5]\n",
      " [1 7 1]]\n"
     ]
    }
   ],
   "source": [
    "#Universal Functions\n",
    "\n",
    "mat1= np.array(ri(1,10,9).reshape(3,3))\n",
    "mat2= np.array(ri(1,10,9).reshape(3,3))\n",
    "\n",
    "print(\"\\nFirst matrix of random single-digit numbers\\n-------------------------------------\\n\", mat1)\n",
    "print(\"\\nSecond matrix of random single-digit numbers\\n-------------------------------------\\n\", mat2)"
   ]
  },
  {
   "cell_type": "code",
   "execution_count": 44,
   "id": "5e000427",
   "metadata": {},
   "outputs": [
    {
     "name": "stdout",
     "output_type": "stream",
     "text": [
      "\n",
      "Addition\n",
      "-------------------\n",
      " [[15  8 12]\n",
      " [10  8 10]\n",
      " [ 7 11  5]]\n",
      "\n",
      "Multiplication\n",
      "-------------------\n",
      " [[56  7 32]\n",
      " [25  7 25]\n",
      " [ 6 28  4]]\n"
     ]
    }
   ],
   "source": [
    "print(\"\\nAddition\\n-------------------\\n\", mat1+mat2)\n",
    "print(\"\\nMultiplication\\n-------------------\\n\", mat1*mat2)"
   ]
  },
  {
   "cell_type": "code",
   "execution_count": 47,
   "id": "2a53c357",
   "metadata": {},
   "outputs": [
    {
     "name": "stdout",
     "output_type": "stream",
     "text": [
      "\n",
      "Division\n",
      "----------------------------------------------\n",
      " [[1.14285714 0.14285714 2.        ]\n",
      " [1.         0.14285714 1.        ]\n",
      " [6.         0.57142857 4.        ]]\n",
      "\n",
      "Linear combination: 3*A - 2*B\n",
      "--------------------------------------\n",
      " [[ 10 -11  16]\n",
      " [  5 -11   5]\n",
      " [ 16  -2  10]]\n"
     ]
    }
   ],
   "source": [
    "print(\"\\nDivision\\n----------------------------------------------\\n\",mat1/mat2)\n",
    "print(\"\\nLinear combination: 3*A - 2*B\\n--------------------------------------\\n\", 3*mat1 - 2*mat2)"
   ]
  },
  {
   "cell_type": "code",
   "execution_count": 48,
   "id": "a54f3c95",
   "metadata": {},
   "outputs": [
    {
     "name": "stdout",
     "output_type": "stream",
     "text": [
      "[[0. 0. 0.]\n",
      " [0. 0. 0.]\n",
      " [0. 0. 0.]]\n"
     ]
    }
   ],
   "source": [
    "start= np.zeros((3,3))\n",
    "print(start)"
   ]
  },
  {
   "cell_type": "code",
   "execution_count": 49,
   "id": "6c81374f",
   "metadata": {},
   "outputs": [
    {
     "data": {
      "text/plain": [
       "array([[1, 0, 2]])"
      ]
     },
     "execution_count": 49,
     "metadata": {},
     "output_type": "execute_result"
    }
   ],
   "source": [
    "#Create a rank 1 ndarray with 3 values\n",
    "\n",
    "add_rows = np.array([[1,0,2]])\n",
    "add_rows"
   ]
  },
  {
   "cell_type": "code",
   "execution_count": 51,
   "id": "87f3c96f",
   "metadata": {},
   "outputs": [
    {
     "data": {
      "text/plain": [
       "array([[1., 0., 2.],\n",
       "       [1., 0., 2.],\n",
       "       [1., 0., 2.]])"
      ]
     },
     "execution_count": 51,
     "metadata": {},
     "output_type": "execute_result"
    }
   ],
   "source": [
    "y= start+add_rows\n",
    "y"
   ]
  },
  {
   "cell_type": "code",
   "execution_count": 52,
   "id": "1d61ed67",
   "metadata": {},
   "outputs": [
    {
     "data": {
      "text/plain": [
       "array([[1],\n",
       "       [0],\n",
       "       [2]])"
      ]
     },
     "execution_count": 52,
     "metadata": {},
     "output_type": "execute_result"
    }
   ],
   "source": [
    "new_row= add_rows.T\n",
    "new_row"
   ]
  },
  {
   "cell_type": "code",
   "execution_count": 53,
   "id": "c9968c8f",
   "metadata": {},
   "outputs": [
    {
     "data": {
      "text/plain": [
       "array([[1., 1., 1.],\n",
       "       [0., 0., 0.],\n",
       "       [2., 2., 2.]])"
      ]
     },
     "execution_count": 53,
     "metadata": {},
     "output_type": "execute_result"
    }
   ],
   "source": [
    "test= new_row+start\n",
    "test"
   ]
  },
  {
   "cell_type": "code",
   "execution_count": 55,
   "id": "32e91a99",
   "metadata": {},
   "outputs": [
    {
     "data": {
      "text/plain": [
       "array([[0],\n",
       "       [1],\n",
       "       [2],\n",
       "       [3]])"
      ]
     },
     "execution_count": 55,
     "metadata": {},
     "output_type": "execute_result"
    }
   ],
   "source": [
    "#Create an ndarray which is 4 X 1 to broadcast across columns\n",
    "\n",
    "add_cols= np.array([[0,1,2,3]])\n",
    "\n",
    "add_cols= add_cols.T\n",
    "\n",
    "add_cols"
   ]
  },
  {
   "cell_type": "code",
   "execution_count": 56,
   "id": "778483c7",
   "metadata": {},
   "outputs": [
    {
     "name": "stdout",
     "output_type": "stream",
     "text": [
      "\n",
      "First matrix of random single-digit numbers\n",
      "-------------------------------------\n",
      " [[3 1 9]\n",
      " [2 7 6]\n",
      " [7 5 4]]\n",
      "\n",
      "Second matrix of random single-digit numbers\n",
      "-------------------------------------\n",
      " [[6 1 3]\n",
      " [7 6 8]\n",
      " [5 3 4]]\n"
     ]
    }
   ],
   "source": [
    "#Array Math\n",
    "mat1= np.array(ri(1,10,9).reshape(3,3))\n",
    "mat2= np.array(ri(1,10,9).reshape(3,3))\n",
    "\n",
    "print(\"\\nFirst matrix of random single-digit numbers\\n-------------------------------------\\n\", mat1)\n",
    "print(\"\\nSecond matrix of random single-digit numbers\\n-------------------------------------\\n\", mat2)"
   ]
  },
  {
   "cell_type": "code",
   "execution_count": 57,
   "id": "fbb14ee0",
   "metadata": {},
   "outputs": [
    {
     "name": "stdout",
     "output_type": "stream",
     "text": [
      "\n",
      "Sq-root of 1st Matrix using np\n",
      "----------------------------------\n",
      " [[1.73205081 1.         3.        ]\n",
      " [1.41421356 2.64575131 2.44948974]\n",
      " [2.64575131 2.23606798 2.        ]]\n"
     ]
    }
   ],
   "source": [
    "print(\"\\nSq-root of 1st Matrix using np\\n----------------------------------\\n\", np.sqrt(mat1))"
   ]
  },
  {
   "cell_type": "code",
   "execution_count": 58,
   "id": "93e4223d",
   "metadata": {},
   "outputs": [
    {
     "name": "stdout",
     "output_type": "stream",
     "text": [
      "\n",
      "Square of 1st matrix using np\n",
      "--------------------------------\n",
      " [[ 9  1 81]\n",
      " [ 4 49 36]\n",
      " [49 25 16]]\n"
     ]
    }
   ],
   "source": [
    "print(\"\\nSquare of 1st matrix using np\\n--------------------------------\\n\", np.square(mat1))"
   ]
  },
  {
   "cell_type": "code",
   "execution_count": null,
   "id": "a775626c",
   "metadata": {},
   "outputs": [],
   "source": []
  }
 ],
 "metadata": {
  "kernelspec": {
   "display_name": "Python 3 (ipykernel)",
   "language": "python",
   "name": "python3"
  },
  "language_info": {
   "codemirror_mode": {
    "name": "ipython",
    "version": 3
   },
   "file_extension": ".py",
   "mimetype": "text/x-python",
   "name": "python",
   "nbconvert_exporter": "python",
   "pygments_lexer": "ipython3",
   "version": "3.9.7"
  }
 },
 "nbformat": 4,
 "nbformat_minor": 5
}
