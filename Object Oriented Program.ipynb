{
 "cells": [
  {
   "cell_type": "code",
   "execution_count": 1,
   "id": "436b03a1",
   "metadata": {},
   "outputs": [],
   "source": [
    "#Let's create a class\n",
    "class Gmail:#Gmail is the class\n",
    "    def __init__(self, name, last_name, city, user_id, password): \n",
    "        \n",
    "        self.name = name\n",
    "        self.last_name = last_name\n",
    "        self.city = city\n",
    "        self.user_id = user_id\n",
    "        self.password = password\n",
    "        "
   ]
  },
  {
   "cell_type": "code",
   "execution_count": 11,
   "id": "f0487ded",
   "metadata": {},
   "outputs": [],
   "source": [
    "#Method\n",
    "class Gmail:#Gmail is the class\n",
    "    def __init__(self, name, last_name, city, user_id, password): \n",
    "        \n",
    "        self.name = name\n",
    "        self.last_name = last_name\n",
    "        self.city = city\n",
    "        self.user_id = user_id\n",
    "        self.password = password\n",
    "    \n",
    "    def login(self):\n",
    "        while True:\n",
    "            signin = input('Email- ')\n",
    "            password= input('Password')\n",
    "            \n",
    "            if signin == self.user_id and password == self.password:\n",
    "                print('Successfully logged in')\n",
    "                break\n",
    "            else:\n",
    "                print(' User ID or password is incorrect')\n",
    "                continue\n",
    "\n",
    "    def personal_info(self):\n",
    "        print('Name: ', self.name)\n",
    "        print('Last name: ', self.last_name)\n",
    "        print('city: ', self.city)\n",
    "\n",
    "    \n",
    "    def general(self):\n",
    "        print('Language: ', 'English(US)')\n",
    "        print('User ID ', self.user_id)\n",
    "        \n",
    "mail= Gmail('Viral', 'Kohli', 'Delhi', 'virat_kohli', 'anushka@123')"
   ]
  },
  {
   "cell_type": "code",
   "execution_count": 7,
   "id": "b6521b98",
   "metadata": {},
   "outputs": [
    {
     "name": "stdout",
     "output_type": "stream",
     "text": [
      "Email- virat_kohli\n",
      "Passwordanushka@123\n",
      "Successfully logged in\n"
     ]
    }
   ],
   "source": [
    "mail.login()"
   ]
  },
  {
   "cell_type": "code",
   "execution_count": 8,
   "id": "8297d4eb",
   "metadata": {},
   "outputs": [
    {
     "name": "stdout",
     "output_type": "stream",
     "text": [
      "Name:  Viral\n",
      "Last name:  Kohli\n",
      "city:  Delhi\n"
     ]
    }
   ],
   "source": [
    "mail.personal_info()"
   ]
  },
  {
   "cell_type": "code",
   "execution_count": 12,
   "id": "8742e092",
   "metadata": {},
   "outputs": [
    {
     "name": "stdout",
     "output_type": "stream",
     "text": [
      "Language:  English(US)\n",
      "User ID  virat_kohli\n"
     ]
    }
   ],
   "source": [
    "mail.general()"
   ]
  },
  {
   "cell_type": "code",
   "execution_count": 15,
   "id": "b577026e",
   "metadata": {},
   "outputs": [
    {
     "name": "stdout",
     "output_type": "stream",
     "text": [
      "Enter you registered phone number8240873453\n",
      "Your Password is:  anushka@123\n"
     ]
    }
   ],
   "source": [
    "class Gmail_new(Gmail):\n",
    "    def __init__(self, phone_number, *args):\n",
    "        super(Gmail_new,self).__init__(*args)\n",
    "        self.phone_number= phone_number\n",
    "    \n",
    "    def password_recovery(self):\n",
    "        phone=int(input('Enter you registered phone number'))\n",
    "        \n",
    "        if phone == self.phone_number:\n",
    "            print('Your Password is: ', self.password)\n",
    "        else:\n",
    "            print('Invaild phone number')\n",
    "            \n",
    "new_mail= Gmail_new(8240873453, 'Virat', 'Kohli', 'Delhi', 'virat_kohli', 'anushka@123')\n",
    "\n",
    "new_mail.password_recovery()"
   ]
  },
  {
   "cell_type": "code",
   "execution_count": 23,
   "id": "d457367a",
   "metadata": {},
   "outputs": [
    {
     "name": "stdout",
     "output_type": "stream",
     "text": [
      "Tyres: \n",
      " \tBranch: MRF\n",
      " \tBelt_bias: True\n",
      " \tOptimal: 34\n",
      "Engine: \n",
      " \tFuel type: Petrol\n",
      " \tnoise_level: 2.3\n",
      "Body: \n",
      " \tSize: SUV\n"
     ]
    }
   ],
   "source": [
    "class Tyres:\n",
    "    def __init__(self, branch, belted_bias, opt_pressure):\n",
    "        self.branch= branch\n",
    "        self.belted_bias= belted_bias\n",
    "        self.opt_pressure= opt_pressure\n",
    "    \n",
    "    def __str__(self):\n",
    "        return ('Tyres: \\n \\tBranch: '+ self.branch +\n",
    "                \"\\n \\tBelt_bias: \"+ str(self.belted_bias)+\n",
    "                \"\\n \\tOptimal: \"+ str(self.opt_pressure))\n",
    "    \n",
    "class Engine:\n",
    "    def __init__(self, fuel_type, noise_level):\n",
    "        self.fuel_type= fuel_type\n",
    "        self.noise_level= noise_level\n",
    "        \n",
    "    def __str__(self):\n",
    "        return(\"Engine: \\n \\tFuel type: \"+ self.fuel_type +\n",
    "              \"\\n \\tnoise_level: \" + str(self.noise_level))\n",
    "    \n",
    "class Body:\n",
    "    def __init__(self, size):\n",
    "        self.size = size\n",
    "        \n",
    "    def __str__(self):\n",
    "        return (\"Body: \\n \\tSize: \"+ self.size)\n",
    "    \n",
    "class Car:\n",
    "    def __init__(self, tyres, engine, body):\n",
    "        self.tyres= tyres\n",
    "        self.engine= engine\n",
    "        self.body= body\n",
    "    def __str__(self):\n",
    "        return str(self.tyres)+ '\\n' + str(self.engine)+ '\\n' + str(self.body)\n",
    "    \n",
    "t= Tyres('MRF', True, 34)\n",
    "e= Engine('Petrol', 2.3)\n",
    "b= Body('SUV')\n",
    "c= Car(t,e,b)\n",
    "\n",
    "print(c)\n",
    "        \n",
    "    "
   ]
  },
  {
   "cell_type": "code",
   "execution_count": null,
   "id": "da99cb81",
   "metadata": {},
   "outputs": [],
   "source": []
  }
 ],
 "metadata": {
  "kernelspec": {
   "display_name": "Python 3 (ipykernel)",
   "language": "python",
   "name": "python3"
  },
  "language_info": {
   "codemirror_mode": {
    "name": "ipython",
    "version": 3
   },
   "file_extension": ".py",
   "mimetype": "text/x-python",
   "name": "python",
   "nbconvert_exporter": "python",
   "pygments_lexer": "ipython3",
   "version": "3.9.7"
  }
 },
 "nbformat": 4,
 "nbformat_minor": 5
}
