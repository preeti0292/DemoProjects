{
 "cells": [
  {
   "cell_type": "code",
   "execution_count": 1,
   "id": "6b6e0459",
   "metadata": {},
   "outputs": [],
   "source": [
    "My_Dict= {'key1' : 'Value1', 'key2' : 'Value2', 'key3' : 'Value3'}"
   ]
  },
  {
   "cell_type": "code",
   "execution_count": 3,
   "id": "d33e29af",
   "metadata": {},
   "outputs": [
    {
     "data": {
      "text/plain": [
       "'Value2'"
      ]
     },
     "execution_count": 3,
     "metadata": {},
     "output_type": "execute_result"
    }
   ],
   "source": [
    "#Call Value by their key.\n",
    "\n",
    "My_Dict['key2']"
   ]
  },
  {
   "cell_type": "code",
   "execution_count": 4,
   "id": "a96c8e25",
   "metadata": {},
   "outputs": [],
   "source": [
    "My_Dict= {'Roll number' : 123, 'Marks' : [12, 23, 38], 'Subject' : ['Science', 'Computer', 'Maths']}"
   ]
  },
  {
   "cell_type": "code",
   "execution_count": 5,
   "id": "eb59f8dc",
   "metadata": {},
   "outputs": [
    {
     "data": {
      "text/plain": [
       "['Science', 'Computer', 'Maths']"
      ]
     },
     "execution_count": 5,
     "metadata": {},
     "output_type": "execute_result"
    }
   ],
   "source": [
    "#Let's call items from the dictionary.\n",
    "My_Dict['Subject']"
   ]
  },
  {
   "cell_type": "code",
   "execution_count": 6,
   "id": "29645a32",
   "metadata": {},
   "outputs": [
    {
     "data": {
      "text/plain": [
       "38"
      ]
     },
     "execution_count": 6,
     "metadata": {},
     "output_type": "execute_result"
    }
   ],
   "source": [
    "#Let's call items from the dictionary based on index.\n",
    "My_Dict['Marks'][2]"
   ]
  },
  {
   "cell_type": "code",
   "execution_count": 9,
   "id": "0b328250",
   "metadata": {},
   "outputs": [
    {
     "data": {
      "text/plain": [
       "'COMPUTER'"
      ]
     },
     "execution_count": 9,
     "metadata": {},
     "output_type": "execute_result"
    }
   ],
   "source": [
    "My_Dict['Subject'][1].upper()"
   ]
  },
  {
   "cell_type": "code",
   "execution_count": 2,
   "id": "ae70dbcd",
   "metadata": {},
   "outputs": [
    {
     "data": {
      "text/plain": [
       "[12, 23, 68]"
      ]
     },
     "execution_count": 2,
     "metadata": {},
     "output_type": "execute_result"
    }
   ],
   "source": [
    "#Lets add marks to the first element.\n",
    "My_Dict= {'Roll number' : 123, 'Marks' : [12, 23, 38], 'Subject' : ['Science', 'Computer', 'Maths']}\n",
    "My_Dict['Marks'][2]= My_Dict['Marks'][2]+30\n",
    "My_Dict['Marks']"
   ]
  },
  {
   "cell_type": "code",
   "execution_count": 3,
   "id": "af57241c",
   "metadata": {},
   "outputs": [
    {
     "data": {
      "text/plain": [
       "[12, 43, 68]"
      ]
     },
     "execution_count": 3,
     "metadata": {},
     "output_type": "execute_result"
    }
   ],
   "source": [
    "#Let's try another method.\n",
    "My_Dict['Marks'][1]+=20\n",
    "My_Dict['Marks']"
   ]
  },
  {
   "cell_type": "code",
   "execution_count": 5,
   "id": "83df7eb1",
   "metadata": {},
   "outputs": [
    {
     "data": {
      "text/plain": [
       "{'Roll number': 123,\n",
       " 'Marks': [12, 43, 68],\n",
       " 'Subject': ['Science', 'Computer', 'Maths'],\n",
       " 'Year': '3rd'}"
      ]
     },
     "execution_count": 5,
     "metadata": {},
     "output_type": "execute_result"
    }
   ],
   "source": [
    "#Add new key.\n",
    "My_Dict['Year']= '3rd'\n",
    "My_Dict"
   ]
  },
  {
   "cell_type": "code",
   "execution_count": 7,
   "id": "faf29234",
   "metadata": {},
   "outputs": [
    {
     "data": {
      "text/plain": [
       "{'Roll number': 100,\n",
       " 'Marks': [12, 43, 68],\n",
       " 'Subject': ['Science', 'Computer', 'Maths'],\n",
       " 'Year': '3rd'}"
      ]
     },
     "execution_count": 7,
     "metadata": {},
     "output_type": "execute_result"
    }
   ],
   "source": [
    "#Update values.\n",
    "My_Dict.update({'Roll number' : 100})\n",
    "My_Dict"
   ]
  },
  {
   "cell_type": "code",
   "execution_count": 8,
   "id": "09cce152",
   "metadata": {},
   "outputs": [
    {
     "data": {
      "text/plain": [
       "dict_items([('Roll number', 100), ('Marks', [12, 43, 68]), ('Subject', ['Science', 'Computer', 'Maths']), ('Year', '3rd')])"
      ]
     },
     "execution_count": 8,
     "metadata": {},
     "output_type": "execute_result"
    }
   ],
   "source": [
    "#Items will return both keys and corresponding values.\n",
    "My_Dict.items()"
   ]
  }
 ],
 "metadata": {
  "kernelspec": {
   "display_name": "Python 3 (ipykernel)",
   "language": "python",
   "name": "python3"
  },
  "language_info": {
   "codemirror_mode": {
    "name": "ipython",
    "version": 3
   },
   "file_extension": ".py",
   "mimetype": "text/x-python",
   "name": "python",
   "nbconvert_exporter": "python",
   "pygments_lexer": "ipython3",
   "version": "3.9.7"
  }
 },
 "nbformat": 4,
 "nbformat_minor": 5
}
