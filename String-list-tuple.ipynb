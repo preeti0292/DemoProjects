{
 "cells": [
  {
   "cell_type": "code",
   "execution_count": 1,
   "id": "a5c4a50b",
   "metadata": {},
   "outputs": [
    {
     "name": "stdout",
     "output_type": "stream",
     "text": [
      "Hello World\n"
     ]
    }
   ],
   "source": [
    "#Anything we are writing in single or double quote is called string.\n",
    "print(\"Hello World\")"
   ]
  },
  {
   "cell_type": "code",
   "execution_count": 2,
   "id": "d17a8d99",
   "metadata": {},
   "outputs": [
    {
     "name": "stdout",
     "output_type": "stream",
     "text": [
      "My  name  is  Preeti  Singh\n"
     ]
    }
   ],
   "source": [
    "#We can join strings by adding comma \",\" or plus \"+\" sign.\n",
    "print(\"My \",\"name \",\"is \",\"Preeti \",\"Singh\")"
   ]
  },
  {
   "cell_type": "code",
   "execution_count": 5,
   "id": "592dc093",
   "metadata": {},
   "outputs": [
    {
     "name": "stdout",
     "output_type": "stream",
     "text": [
      "Day Day Day Day Day \n"
     ]
    }
   ],
   "source": [
    "print('Day ' * 5)"
   ]
  },
  {
   "cell_type": "code",
   "execution_count": 6,
   "id": "68f54112",
   "metadata": {},
   "outputs": [],
   "source": [
    "#To create a list we can use square brackets [] or use the list() function with no agrguements.\n",
    "l = [] #empty list\n",
    "l = ['b', 'b', 'c']\n"
   ]
  },
  {
   "cell_type": "code",
   "execution_count": 7,
   "id": "909598b0",
   "metadata": {},
   "outputs": [
    {
     "name": "stdout",
     "output_type": "stream",
     "text": [
      "['b', 'b', 'c']\n"
     ]
    }
   ],
   "source": [
    "print(l)"
   ]
  },
  {
   "cell_type": "code",
   "execution_count": 8,
   "id": "ea281f37",
   "metadata": {},
   "outputs": [
    {
     "name": "stdout",
     "output_type": "stream",
     "text": [
      "['a', 6, 9.16]\n"
     ]
    }
   ],
   "source": [
    "l = ['a', 6, 9.16]\n",
    "print(l)"
   ]
  },
  {
   "cell_type": "code",
   "execution_count": 9,
   "id": "692c65f2",
   "metadata": {},
   "outputs": [],
   "source": [
    "#How to copy into other list.(Reassigning)\n",
    "l2 = list(l)"
   ]
  },
  {
   "cell_type": "code",
   "execution_count": 10,
   "id": "e66a4649",
   "metadata": {},
   "outputs": [
    {
     "name": "stdout",
     "output_type": "stream",
     "text": [
      "['a', 6, 9.16]\n"
     ]
    }
   ],
   "source": [
    "print(l2)"
   ]
  },
  {
   "cell_type": "code",
   "execution_count": 11,
   "id": "100fac70",
   "metadata": {},
   "outputs": [],
   "source": [
    "marks= [35, 45, 60, 80, 100]"
   ]
  },
  {
   "cell_type": "code",
   "execution_count": 12,
   "id": "b41cc40f",
   "metadata": {},
   "outputs": [
    {
     "name": "stdout",
     "output_type": "stream",
     "text": [
      "[35, 45, 60, 80, 100]\n"
     ]
    }
   ],
   "source": [
    "print(marks)"
   ]
  },
  {
   "cell_type": "code",
   "execution_count": 14,
   "id": "4775255d",
   "metadata": {},
   "outputs": [
    {
     "data": {
      "text/plain": [
       "[35, 45, 60, 80, 100]"
      ]
     },
     "execution_count": 14,
     "metadata": {},
     "output_type": "execute_result"
    }
   ],
   "source": [
    "#Reassigning using copy function.\n",
    "copy_marks= marks.copy()\n",
    "copy_marks"
   ]
  },
  {
   "cell_type": "code",
   "execution_count": 15,
   "id": "59f94f5c",
   "metadata": {},
   "outputs": [
    {
     "data": {
      "text/plain": [
       "['S', 'h', 'a', 'n', 'k', 'a', 'r']"
      ]
     },
     "execution_count": 15,
     "metadata": {},
     "output_type": "execute_result"
    }
   ],
   "source": [
    "#Only work on strings\n",
    "list('Shankar')"
   ]
  },
  {
   "cell_type": "code",
   "execution_count": 32,
   "id": "ffaf8737",
   "metadata": {},
   "outputs": [
    {
     "name": "stdout",
     "output_type": "stream",
     "text": [
      "['Preeti']\n"
     ]
    }
   ],
   "source": [
    "#Add element in a list using append method.\n",
    "\n",
    "company = []\n",
    "\n",
    "company.append('Preeti')\n",
    "\n",
    "print(company)"
   ]
  },
  {
   "cell_type": "code",
   "execution_count": 33,
   "id": "0724153c",
   "metadata": {},
   "outputs": [
    {
     "name": "stdout",
     "output_type": "stream",
     "text": [
      "['Preeti', 'Roshan', 'Salman', 'Radha']\n"
     ]
    }
   ],
   "source": [
    "company.append('Roshan')\n",
    "company.append('Salman')\n",
    "company.append('Radha')\n",
    "\n",
    "print(company)"
   ]
  },
  {
   "cell_type": "code",
   "execution_count": 38,
   "id": "172277c1",
   "metadata": {},
   "outputs": [
    {
     "name": "stdout",
     "output_type": "stream",
     "text": [
      "['Preeti', \"D' Souza\", 'Roshan', 'Salman', 'Radha']\n"
     ]
    }
   ],
   "source": [
    "#index and insert. This method places the element at the specified index. Index starts with 0.\n",
    "\n",
    "company.insert(1, \"D' Souza\")\n",
    "\n",
    "print(company)\n",
    "\n"
   ]
  },
  {
   "cell_type": "code",
   "execution_count": 40,
   "id": "26f8c258",
   "metadata": {},
   "outputs": [],
   "source": [
    "#One more example with numbers.\n",
    "\n",
    "employee_Salary= [15000, 28000, 19000, 20000]\n",
    "employee_Salary.insert(0, 48000)\n"
   ]
  },
  {
   "cell_type": "code",
   "execution_count": 41,
   "id": "c20152d6",
   "metadata": {},
   "outputs": [
    {
     "data": {
      "text/plain": [
       "[48000, 15000, 28000, 19000, 20000]"
      ]
     },
     "execution_count": 41,
     "metadata": {},
     "output_type": "execute_result"
    }
   ],
   "source": [
    "employee_Salary"
   ]
  },
  {
   "cell_type": "code",
   "execution_count": 43,
   "id": "a7220657",
   "metadata": {},
   "outputs": [
    {
     "data": {
      "text/plain": [
       "5"
      ]
     },
     "execution_count": 43,
     "metadata": {},
     "output_type": "execute_result"
    }
   ],
   "source": [
    "# How to check total element in the list?\n",
    "len(company)"
   ]
  },
  {
   "cell_type": "code",
   "execution_count": 44,
   "id": "4fefc88c",
   "metadata": {},
   "outputs": [
    {
     "data": {
      "text/plain": [
       "'Roshan'"
      ]
     },
     "execution_count": 44,
     "metadata": {},
     "output_type": "execute_result"
    }
   ],
   "source": [
    "#Index and Slicing. Grab element based on index.\n",
    "company[2]\n",
    "\n"
   ]
  },
  {
   "cell_type": "code",
   "execution_count": 45,
   "id": "8143ee8a",
   "metadata": {},
   "outputs": [
    {
     "data": {
      "text/plain": [
       "['Preeti', 'Remo', 'Roshan', 'Salman', 'Radha']"
      ]
     },
     "execution_count": 45,
     "metadata": {},
     "output_type": "execute_result"
    }
   ],
   "source": [
    "#Update data based on index.\n",
    "company[1] = \"Remo\"\n",
    "company"
   ]
  },
  {
   "cell_type": "code",
   "execution_count": 47,
   "id": "f9fb4940",
   "metadata": {},
   "outputs": [
    {
     "data": {
      "text/plain": [
       "[48000, 20000, 28000, 19000, 20000]"
      ]
     },
     "execution_count": 47,
     "metadata": {},
     "output_type": "execute_result"
    }
   ],
   "source": [
    "#Let's check with numbers.\n",
    "employee_Salary[1] = 20000\n",
    "employee_Salary"
   ]
  },
  {
   "cell_type": "code",
   "execution_count": 49,
   "id": "f242ecd1",
   "metadata": {},
   "outputs": [
    {
     "data": {
      "text/plain": [
       "['Remo', 'Roshan', 'Salman', 'Radha']"
      ]
     },
     "execution_count": 49,
     "metadata": {},
     "output_type": "execute_result"
    }
   ],
   "source": [
    "#Grab index 1 and everything past it. Starting indez will always be inccluded.\n",
    "company[1: ]"
   ]
  },
  {
   "cell_type": "code",
   "execution_count": 51,
   "id": "6e41f66e",
   "metadata": {},
   "outputs": [
    {
     "data": {
      "text/plain": [
       "[48000, 20000, 28000]"
      ]
     },
     "execution_count": 51,
     "metadata": {},
     "output_type": "execute_result"
    }
   ],
   "source": [
    "#Grab everything upto index 2. specified index will be excluded from the end.\n",
    "employee_Salary[ :3]"
   ]
  },
  {
   "cell_type": "code",
   "execution_count": 52,
   "id": "f5883515",
   "metadata": {},
   "outputs": [
    {
     "data": {
      "text/plain": [
       "[20000, 28000]"
      ]
     },
     "execution_count": 52,
     "metadata": {},
     "output_type": "execute_result"
    }
   ],
   "source": [
    "employee_Salary[1:3]"
   ]
  },
  {
   "cell_type": "code",
   "execution_count": 53,
   "id": "60c279ae",
   "metadata": {},
   "outputs": [
    {
     "data": {
      "text/plain": [
       "[48000, 20000, 28000, 19000, 20000]"
      ]
     },
     "execution_count": 53,
     "metadata": {},
     "output_type": "execute_result"
    }
   ],
   "source": [
    "# We can use + sign to concatenate list. Just like we did using append() with strings.\n",
    "employee_Salary + [25000]\n",
    "employee_Salary"
   ]
  },
  {
   "cell_type": "code",
   "execution_count": 54,
   "id": "d8367a42",
   "metadata": {},
   "outputs": [
    {
     "data": {
      "text/plain": [
       "[48000, 20000, 28000, 19000, 20000, 48000, 20000, 28000, 19000, 20000]"
      ]
     },
     "execution_count": 54,
     "metadata": {},
     "output_type": "execute_result"
    }
   ],
   "source": [
    "#We can use * for duplication methiod similar to string.\n",
    "\n",
    "employee_Salary * 2"
   ]
  },
  {
   "cell_type": "code",
   "execution_count": 55,
   "id": "1daf2516",
   "metadata": {},
   "outputs": [
    {
     "name": "stdout",
     "output_type": "stream",
     "text": [
      "==========================================================================================\n",
      "                                        Data Trained                                             \n",
      "==========================================================================================\n"
     ]
    }
   ],
   "source": [
    "print('=' * 90)\n",
    "print('                                        Data Trained                                             ')\n",
    "print('=' * 90)"
   ]
  },
  {
   "cell_type": "code",
   "execution_count": 58,
   "id": "dbeca2a4",
   "metadata": {},
   "outputs": [
    {
     "data": {
      "text/plain": [
       "3"
      ]
     },
     "execution_count": 58,
     "metadata": {},
     "output_type": "execute_result"
    }
   ],
   "source": [
    "#Let's check count of a specific element in a list.\n",
    "\n",
    "marks=[25, 100, 38, 49, 55, 38, 100, 26, 47, 55, 100, 60, 74, 88, 38, 100]\n",
    "marks.count(38)"
   ]
  },
  {
   "cell_type": "code",
   "execution_count": 59,
   "id": "d62563be",
   "metadata": {},
   "outputs": [
    {
     "data": {
      "text/plain": [
       "13"
      ]
     },
     "execution_count": 59,
     "metadata": {},
     "output_type": "execute_result"
    }
   ],
   "source": [
    "#Check index position a specific element.\n",
    "marks.index(88)"
   ]
  },
  {
   "cell_type": "code",
   "execution_count": 60,
   "id": "93062af2",
   "metadata": {},
   "outputs": [
    {
     "data": {
      "text/plain": [
       "['Preeti', 'Remo', 'Roshan', 'Salman', 'Radha', 'Suparna', 'Neha']"
      ]
     },
     "execution_count": 60,
     "metadata": {},
     "output_type": "execute_result"
    }
   ],
   "source": [
    "#Extends list by appending elements from the iterable.\n",
    "\n",
    "company.extend(['Suparna', 'Neha'])\n",
    "company"
   ]
  },
  {
   "cell_type": "code",
   "execution_count": 65,
   "id": "de987d6a",
   "metadata": {},
   "outputs": [
    {
     "data": {
      "text/plain": [
       "[48000, 20000, 28000, 19000, 20000, 50000, 90000, 50000, 90000]"
      ]
     },
     "execution_count": 65,
     "metadata": {},
     "output_type": "execute_result"
    }
   ],
   "source": [
    "employee_Salary.extend([50000, 90000])\n",
    "employee_Salary"
   ]
  },
  {
   "cell_type": "code",
   "execution_count": 68,
   "id": "1fee4dc0",
   "metadata": {},
   "outputs": [
    {
     "data": {
      "text/plain": [
       "['Raj', 'Ram', 'Adiba', 'Nancy', 'Fatima']"
      ]
     },
     "execution_count": 68,
     "metadata": {},
     "output_type": "execute_result"
    }
   ],
   "source": [
    "Students= ['Raj', 'Ram', 'Adiba', 'Nancy', 'Fatima']\n",
    "\n",
    "Students"
   ]
  },
  {
   "cell_type": "code",
   "execution_count": 69,
   "id": "3609cf00",
   "metadata": {},
   "outputs": [
    {
     "data": {
      "text/plain": [
       "'Fatima'"
      ]
     },
     "execution_count": 69,
     "metadata": {},
     "output_type": "execute_result"
    }
   ],
   "source": [
    "#Delete last element by default.\n",
    "\n",
    "pop_last= Students.pop()\n",
    "pop_last"
   ]
  },
  {
   "cell_type": "code",
   "execution_count": 71,
   "id": "b6ab1636",
   "metadata": {},
   "outputs": [
    {
     "data": {
      "text/plain": [
       "['Raj', 'Ram', 'Adiba', 'Nancy']"
      ]
     },
     "execution_count": 71,
     "metadata": {},
     "output_type": "execute_result"
    }
   ],
   "source": [
    "#Let's verify if it is removed.\n",
    "\n",
    "Students"
   ]
  },
  {
   "cell_type": "code",
   "execution_count": 2,
   "id": "aa822ad2",
   "metadata": {},
   "outputs": [
    {
     "data": {
      "text/plain": [
       "'Ram'"
      ]
     },
     "execution_count": 2,
     "metadata": {},
     "output_type": "execute_result"
    }
   ],
   "source": [
    "#Delete based on index position.\n",
    "Students= ['Raj', 'Ram', 'Adiba', 'Nancy', 'Fatima']\n",
    "pop_index= Students.pop(1)\n",
    "pop_index"
   ]
  },
  {
   "cell_type": "code",
   "execution_count": 3,
   "id": "84e0962b",
   "metadata": {},
   "outputs": [
    {
     "data": {
      "text/plain": [
       "['Raj', 'Adiba', 'Nancy', 'Fatima']"
      ]
     },
     "execution_count": 3,
     "metadata": {},
     "output_type": "execute_result"
    }
   ],
   "source": [
    "Students"
   ]
  },
  {
   "cell_type": "code",
   "execution_count": 8,
   "id": "271d1e3f",
   "metadata": {},
   "outputs": [
    {
     "data": {
      "text/plain": [
       "[1, 2, 3, 4, 6, 7, 8, 9, 10]"
      ]
     },
     "execution_count": 8,
     "metadata": {},
     "output_type": "execute_result"
    }
   ],
   "source": [
    "#Remove method removes the first occurance of a same value.If there are any duplicates, first element will be removed.\n",
    "\n",
    "Roll_number= [1, 2, 3, 4, 5, 6, 7, 8, 9, 10]\n",
    "\n",
    "Roll_number.remove(5)\n",
    "Roll_number\n"
   ]
  },
  {
   "cell_type": "code",
   "execution_count": 11,
   "id": "78b619dd",
   "metadata": {},
   "outputs": [
    {
     "data": {
      "text/plain": [
       "['Blue', 'Green', 'Red']"
      ]
     },
     "execution_count": 11,
     "metadata": {},
     "output_type": "execute_result"
    }
   ],
   "source": [
    "#reverse() helps us to revers a list.\n",
    "Colours= ['Red', 'Green', 'Blue']\n",
    "Colours.reverse()\n",
    "Colours"
   ]
  },
  {
   "cell_type": "code",
   "execution_count": 12,
   "id": "c52322d9",
   "metadata": {},
   "outputs": [
    {
     "data": {
      "text/plain": [
       "[25, 26, 38, 38, 38, 47, 49, 55, 55, 60, 74, 88, 100, 100, 100, 100]"
      ]
     },
     "execution_count": 12,
     "metadata": {},
     "output_type": "execute_result"
    }
   ],
   "source": [
    "#sort the list.\n",
    "marks=[25, 100, 38, 49, 55, 38, 100, 26, 47, 55, 100, 60, 74, 88, 38, 100]\n",
    "marks.sort()\n",
    "marks\n"
   ]
  },
  {
   "cell_type": "code",
   "execution_count": 14,
   "id": "dfbb9a5f",
   "metadata": {},
   "outputs": [
    {
     "data": {
      "text/plain": [
       "[100, 100, 100, 100, 88, 74, 60, 55, 55, 49, 47, 38, 38, 38, 26, 25]"
      ]
     },
     "execution_count": 14,
     "metadata": {},
     "output_type": "execute_result"
    }
   ],
   "source": [
    "#Sort in decending order.\n",
    "marks.sort(reverse = True)\n",
    "marks"
   ]
  },
  {
   "cell_type": "code",
   "execution_count": 15,
   "id": "0cf7c4d8",
   "metadata": {},
   "outputs": [
    {
     "data": {
      "text/plain": [
       "[10, 9, 8, 7, 6, 4, 3, 2, 1]"
      ]
     },
     "execution_count": 15,
     "metadata": {},
     "output_type": "execute_result"
    }
   ],
   "source": [
    "Roll_number.sort(reverse = True)\n",
    "Roll_number"
   ]
  },
  {
   "cell_type": "code",
   "execution_count": 16,
   "id": "11b4800c",
   "metadata": {},
   "outputs": [
    {
     "data": {
      "text/plain": [
       "('Bengaluru', 'Noida', 'Chennai', 'Delhi')"
      ]
     },
     "execution_count": 16,
     "metadata": {},
     "output_type": "execute_result"
    }
   ],
   "source": [
    "#Tuples\n",
    "\n",
    "Work_location= ('Bengaluru', 'Noida', 'Chennai', 'Delhi')\n",
    "Work_location"
   ]
  },
  {
   "cell_type": "code",
   "execution_count": 17,
   "id": "7642d601",
   "metadata": {},
   "outputs": [
    {
     "data": {
      "text/plain": [
       "tuple"
      ]
     },
     "execution_count": 17,
     "metadata": {},
     "output_type": "execute_result"
    }
   ],
   "source": [
    "type(Work_location)"
   ]
  },
  {
   "cell_type": "code",
   "execution_count": 18,
   "id": "247427da",
   "metadata": {},
   "outputs": [
    {
     "data": {
      "text/plain": [
       "['Bengaluru', 'Noida', 'Chennai', 'Delhi']"
      ]
     },
     "execution_count": 18,
     "metadata": {},
     "output_type": "execute_result"
    }
   ],
   "source": [
    "#convert tuple into a list.\n",
    "\n",
    "Work_location= list(Work_location)\n",
    "\n",
    "Work_location"
   ]
  },
  {
   "cell_type": "code",
   "execution_count": 19,
   "id": "a95599ba",
   "metadata": {},
   "outputs": [
    {
     "data": {
      "text/plain": [
       "list"
      ]
     },
     "execution_count": 19,
     "metadata": {},
     "output_type": "execute_result"
    }
   ],
   "source": [
    "type(Work_location)"
   ]
  },
  {
   "cell_type": "code",
   "execution_count": 20,
   "id": "8bf9c523",
   "metadata": {},
   "outputs": [
    {
     "data": {
      "text/plain": [
       "('Bengaluru', 'Noida', 'Chennai', 'Delhi')"
      ]
     },
     "execution_count": 20,
     "metadata": {},
     "output_type": "execute_result"
    }
   ],
   "source": [
    "Work_location= tuple(Work_location)\n",
    "Work_location"
   ]
  },
  {
   "cell_type": "code",
   "execution_count": 21,
   "id": "477b2992",
   "metadata": {},
   "outputs": [
    {
     "data": {
      "text/plain": [
       "4"
      ]
     },
     "execution_count": 21,
     "metadata": {},
     "output_type": "execute_result"
    }
   ],
   "source": [
    "len(Work_location)"
   ]
  },
  {
   "cell_type": "code",
   "execution_count": 22,
   "id": "c9ec76d3",
   "metadata": {},
   "outputs": [
    {
     "data": {
      "text/plain": [
       "'Noida'"
      ]
     },
     "execution_count": 22,
     "metadata": {},
     "output_type": "execute_result"
    }
   ],
   "source": [
    "Work_location[1]"
   ]
  },
  {
   "cell_type": "code",
   "execution_count": 23,
   "id": "0cdd1106",
   "metadata": {},
   "outputs": [
    {
     "data": {
      "text/plain": [
       "'Delhi'"
      ]
     },
     "execution_count": 23,
     "metadata": {},
     "output_type": "execute_result"
    }
   ],
   "source": [
    "Work_location[-1]"
   ]
  },
  {
   "cell_type": "code",
   "execution_count": null,
   "id": "926c7edc",
   "metadata": {},
   "outputs": [],
   "source": []
  }
 ],
 "metadata": {
  "kernelspec": {
   "display_name": "Python 3 (ipykernel)",
   "language": "python",
   "name": "python3"
  },
  "language_info": {
   "codemirror_mode": {
    "name": "ipython",
    "version": 3
   },
   "file_extension": ".py",
   "mimetype": "text/x-python",
   "name": "python",
   "nbconvert_exporter": "python",
   "pygments_lexer": "ipython3",
   "version": "3.9.7"
  }
 },
 "nbformat": 4,
 "nbformat_minor": 5
}
