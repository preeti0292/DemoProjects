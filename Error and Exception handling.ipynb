{
 "cells": [
  {
   "cell_type": "code",
   "execution_count": 1,
   "id": "44137dc3",
   "metadata": {},
   "outputs": [],
   "source": [
    "#Using except. we can check for any exception.\n",
    "\n",
    "marks_1= 38\n",
    "subject= 'Data Trained'\n",
    "marks_2= 33"
   ]
  },
  {
   "cell_type": "code",
   "execution_count": 6,
   "id": "7389d486",
   "metadata": {},
   "outputs": [
    {
     "name": "stdout",
     "output_type": "stream",
     "text": [
      "You are adding integer to string. Make sure both data types are matching\n"
     ]
    }
   ],
   "source": [
    "try:\n",
    "    total= marks_1 + subject\n",
    "\n",
    "except:\n",
    "    print(\"You are adding integer to string. Make sure both data types are matching\")\n",
    "\n",
    "else:\n",
    "    print('Total Marks -', total)"
   ]
  },
  {
   "cell_type": "code",
   "execution_count": 7,
   "id": "f6dec587",
   "metadata": {},
   "outputs": [
    {
     "name": "stdout",
     "output_type": "stream",
     "text": [
      "Total marks = 71\n"
     ]
    }
   ],
   "source": [
    "try:\n",
    "    total= marks_1 + marks_2\n",
    "    \n",
    "except:\n",
    "    print('You are adding integer to string')\n",
    "    \n",
    "else:\n",
    "    print('Total marks =', total)"
   ]
  },
  {
   "cell_type": "code",
   "execution_count": 11,
   "id": "2256dabc",
   "metadata": {},
   "outputs": [
    {
     "name": "stdout",
     "output_type": "stream",
     "text": [
      "Your car number5454\n",
      "Namekhbd\n",
      "Mobile number687\n",
      "Thanks for the details\n"
     ]
    }
   ],
   "source": [
    "#real-time example.\n",
    "\n",
    "try:\n",
    "    Car_number= input('Your car number')\n",
    "    name= input('Name')\n",
    "    mobile= input('Mobile number')\n",
    "\n",
    "    if Car_number == ' ':\n",
    "        raise Exception()\n",
    "    elif name == ' ':\n",
    "        raise Exception()\n",
    "    elif mobie == ' ':\n",
    "        raise Exception()\n",
    "    else:\n",
    "        Pass\n",
    "    \n",
    "except:\n",
    "    \n",
    "    if Car_number == ' ':\n",
    "        print('\\n registration number is requierd. \\n')\n",
    "    \n",
    "    if name == ' ':\n",
    "        print('The customer name is required. \\n')\n",
    "    \n",
    "    if mobile == ' ':\n",
    "        print('The mobie number is required')\n",
    "    \n",
    "    else:\n",
    "        print('Thanks for the details')\n",
    "        \n"
   ]
  },
  {
   "cell_type": "code",
   "execution_count": 12,
   "id": "ea886036",
   "metadata": {},
   "outputs": [
    {
     "name": "stdout",
     "output_type": "stream",
     "text": [
      "Your car number25454\n",
      "Namegvub\n",
      "Mobile number5451\n",
      "In any case finally block will execute\n"
     ]
    }
   ],
   "source": [
    "#Finally: bolck executes all the time no matter what happens in the above try and except block.\n",
    "\n",
    "try:\n",
    "    Car_number= input('Your car number')\n",
    "    name= input('Name')\n",
    "    mobile= input('Mobile number')\n",
    "\n",
    "    if Car_number == ' ':\n",
    "        raise Exception()\n",
    "    elif name == ' ':\n",
    "        raise Exception()\n",
    "    elif mobie == ' ':\n",
    "        raise Exception()\n",
    "    else:\n",
    "        Pass\n",
    "    \n",
    "except:\n",
    "    \n",
    "    if Car_number == ' ':\n",
    "        print('\\n registration number is requierd. \\n')\n",
    "    \n",
    "    if name == ' ':\n",
    "        print('The customer name is required. \\n')\n",
    "    \n",
    "    if mobile == ' ':\n",
    "        print('The mobie number is required')\n",
    "        \n",
    "finally:\n",
    "    print(\"In any case finally block will execute\")"
   ]
  },
  {
   "cell_type": "code",
   "execution_count": 17,
   "id": "7e83d93a",
   "metadata": {},
   "outputs": [
    {
     "name": "stdout",
     "output_type": "stream",
     "text": [
      "Please enter your mobile number54512\n"
     ]
    }
   ],
   "source": [
    "#User putting woring input\n",
    "\n",
    "def mobile_number():\n",
    "    try:\n",
    "        val= int(input(\"Please enter your mobile number\"))\n",
    "        \n",
    "    except:\n",
    "        print(\"Looks like you did not enter in integers\")\n",
    "        print(val)\n",
    "\n",
    "mobile_number()"
   ]
  },
  {
   "cell_type": "code",
   "execution_count": 1,
   "id": "d2871d93",
   "metadata": {},
   "outputs": [
    {
     "name": "stdout",
     "output_type": "stream",
     "text": [
      "Please enter your mobile number 8240873453\n",
      "Thank you\n"
     ]
    }
   ],
   "source": [
    "def mobile_number():\n",
    "    while True:\n",
    "        try:\n",
    "            val= int(input(\"Please enter your mobile number \"))\n",
    "            \n",
    "        except:\n",
    "            print(\"looks like you did not enter in integers \")\n",
    "            continue\n",
    "        else:\n",
    "            if len(str(val))!= 10:\n",
    "                print('Mobile number must be 10 digits')\n",
    "                continue\n",
    "            print('Thank you')\n",
    "            break\n",
    "\n",
    "mobile_number()"
   ]
  },
  {
   "cell_type": "code",
   "execution_count": null,
   "id": "7c07920d",
   "metadata": {},
   "outputs": [],
   "source": []
  }
 ],
 "metadata": {
  "kernelspec": {
   "display_name": "Python 3 (ipykernel)",
   "language": "python",
   "name": "python3"
  },
  "language_info": {
   "codemirror_mode": {
    "name": "ipython",
    "version": 3
   },
   "file_extension": ".py",
   "mimetype": "text/x-python",
   "name": "python",
   "nbconvert_exporter": "python",
   "pygments_lexer": "ipython3",
   "version": "3.9.7"
  }
 },
 "nbformat": 4,
 "nbformat_minor": 5
}
