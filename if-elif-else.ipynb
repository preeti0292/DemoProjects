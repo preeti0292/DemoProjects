{
 "cells": [
  {
   "cell_type": "code",
   "execution_count": 1,
   "id": "61dc25da",
   "metadata": {},
   "outputs": [
    {
     "name": "stdout",
     "output_type": "stream",
     "text": [
      "It is less than 10\n"
     ]
    }
   ],
   "source": [
    "i=8\n",
    "if i < 10:\n",
    "    print('It is less than 10')\n",
    "    \n",
    "else:\n",
    "    print('It is something else')"
   ]
  },
  {
   "cell_type": "code",
   "execution_count": 2,
   "id": "896a6bd0",
   "metadata": {},
   "outputs": [
    {
     "name": "stdout",
     "output_type": "stream",
     "text": [
      "it is less than 10\n"
     ]
    }
   ],
   "source": [
    "#Another way to write it.\n",
    "print('it is less than 10') if i < 10 else print('It is something else')"
   ]
  },
  {
   "cell_type": "code",
   "execution_count": 5,
   "id": "99c63934",
   "metadata": {},
   "outputs": [
    {
     "name": "stdout",
     "output_type": "stream",
     "text": [
      "Please add 100 Rs worth of an item for free shipping\n"
     ]
    }
   ],
   "source": [
    "#Anothet example with free shipping message.\n",
    "\n",
    "item_1= 100\n",
    "item_2= 300\n",
    "\n",
    "if (item_1 + item_2) >=500:\n",
    "    print(\"your items are eligible for free delivery\")\n",
    "    \n",
    "else:\n",
    "    extra= 500 - (item_1 + item_2)\n",
    "    print('Please add', extra, 'Rs worth of an item for free shipping')"
   ]
  },
  {
   "cell_type": "code",
   "execution_count": 7,
   "id": "193d3dfc",
   "metadata": {},
   "outputs": [
    {
     "name": "stdout",
     "output_type": "stream",
     "text": [
      "Atleast one of the conditions are True\n"
     ]
    }
   ],
   "source": [
    "a= 200\n",
    "b= 33\n",
    "c= 500\n",
    "\n",
    "if a > b and c < a:\n",
    "    print('Both conditions are True')\n",
    "\n",
    "elif a > b or c < a:\n",
    "    print(\"Atleast one of the conditions are True\")\n",
    "        \n",
    "else:\n",
    "    print('Both are not True')"
   ]
  },
  {
   "cell_type": "code",
   "execution_count": 9,
   "id": "86dcde88",
   "metadata": {},
   "outputs": [
    {
     "name": "stdout",
     "output_type": "stream",
     "text": [
      "60 - First class\n"
     ]
    }
   ],
   "source": [
    "#Find Student level\n",
    "\n",
    "Marks= 60\n",
    "if Marks >= 60:\n",
    "    if Marks > 70:\n",
    "        print(Marks, '- Distinction')\n",
    "    else:\n",
    "        print(Marks, '- First class')\n",
    "        \n",
    "elif Marks > 50 and Marks <= 60:\n",
    "    print(Marks, '- Second Class')\n",
    "    \n",
    "elif Marks >=35:\n",
    "    print(Marks, '- Pass')\n",
    "    \n",
    "else:\n",
    "    print(Marks, '- Fail, Better luck next time')\n",
    "    "
   ]
  },
  {
   "cell_type": "code",
   "execution_count": null,
   "id": "034ab7d7",
   "metadata": {},
   "outputs": [],
   "source": []
  }
 ],
 "metadata": {
  "kernelspec": {
   "display_name": "Python 3 (ipykernel)",
   "language": "python",
   "name": "python3"
  },
  "language_info": {
   "codemirror_mode": {
    "name": "ipython",
    "version": 3
   },
   "file_extension": ".py",
   "mimetype": "text/x-python",
   "name": "python",
   "nbconvert_exporter": "python",
   "pygments_lexer": "ipython3",
   "version": "3.9.7"
  }
 },
 "nbformat": 4,
 "nbformat_minor": 5
}
