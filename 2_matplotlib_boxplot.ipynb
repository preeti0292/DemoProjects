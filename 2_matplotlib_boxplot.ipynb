{
 "cells": [
  {
   "cell_type": "code",
   "execution_count": 1,
   "id": "fc43597d",
   "metadata": {},
   "outputs": [],
   "source": [
    "import numpy as np\n",
    "import pandas as pd\n",
    "import seaborn as sns\n",
    "import matplotlib.pyplot as plt\n",
    "%matplotlib inline"
   ]
  },
  {
   "cell_type": "code",
   "execution_count": 8,
   "id": "9d534f5b",
   "metadata": {},
   "outputs": [
    {
     "data": {
      "text/html": [
       "<div>\n",
       "<style scoped>\n",
       "    .dataframe tbody tr th:only-of-type {\n",
       "        vertical-align: middle;\n",
       "    }\n",
       "\n",
       "    .dataframe tbody tr th {\n",
       "        vertical-align: top;\n",
       "    }\n",
       "\n",
       "    .dataframe thead th {\n",
       "        text-align: right;\n",
       "    }\n",
       "</style>\n",
       "<table border=\"1\" class=\"dataframe\">\n",
       "  <thead>\n",
       "    <tr style=\"text-align: right;\">\n",
       "      <th></th>\n",
       "      <th>Age_Years</th>\n",
       "      <th>Salary_Thousands</th>\n",
       "    </tr>\n",
       "  </thead>\n",
       "  <tbody>\n",
       "    <tr>\n",
       "      <th>0</th>\n",
       "      <td>10</td>\n",
       "      <td>15</td>\n",
       "    </tr>\n",
       "    <tr>\n",
       "      <th>1</th>\n",
       "      <td>22</td>\n",
       "      <td>22</td>\n",
       "    </tr>\n",
       "    <tr>\n",
       "      <th>2</th>\n",
       "      <td>20</td>\n",
       "      <td>24</td>\n",
       "    </tr>\n",
       "    <tr>\n",
       "      <th>3</th>\n",
       "      <td>25</td>\n",
       "      <td>25</td>\n",
       "    </tr>\n",
       "    <tr>\n",
       "      <th>4</th>\n",
       "      <td>27</td>\n",
       "      <td>30</td>\n",
       "    </tr>\n",
       "    <tr>\n",
       "      <th>5</th>\n",
       "      <td>28</td>\n",
       "      <td>23</td>\n",
       "    </tr>\n",
       "    <tr>\n",
       "      <th>6</th>\n",
       "      <td>21</td>\n",
       "      <td>34</td>\n",
       "    </tr>\n",
       "    <tr>\n",
       "      <th>7</th>\n",
       "      <td>26</td>\n",
       "      <td>43</td>\n",
       "    </tr>\n",
       "    <tr>\n",
       "      <th>8</th>\n",
       "      <td>29</td>\n",
       "      <td>19</td>\n",
       "    </tr>\n",
       "    <tr>\n",
       "      <th>9</th>\n",
       "      <td>12</td>\n",
       "      <td>20</td>\n",
       "    </tr>\n",
       "    <tr>\n",
       "      <th>10</th>\n",
       "      <td>19</td>\n",
       "      <td>52</td>\n",
       "    </tr>\n",
       "    <tr>\n",
       "      <th>11</th>\n",
       "      <td>17</td>\n",
       "      <td>21</td>\n",
       "    </tr>\n",
       "  </tbody>\n",
       "</table>\n",
       "</div>"
      ],
      "text/plain": [
       "    Age_Years  Salary_Thousands\n",
       "0          10                15\n",
       "1          22                22\n",
       "2          20                24\n",
       "3          25                25\n",
       "4          27                30\n",
       "5          28                23\n",
       "6          21                34\n",
       "7          26                43\n",
       "8          29                19\n",
       "9          12                20\n",
       "10         19                52\n",
       "11         17                21"
      ]
     },
     "execution_count": 8,
     "metadata": {},
     "output_type": "execute_result"
    }
   ],
   "source": [
    "emp= {'Age_Years':[10,22,20,25,27,28,21,26,29,12,19,17],'Salary_Thousands':[15,22,24,25,30,23,34,43,19,20,52,21]}\n",
    "\n",
    "df= pd.DataFrame(data= emp)\n",
    "df"
   ]
  },
  {
   "cell_type": "code",
   "execution_count": 9,
   "id": "183ff1d1",
   "metadata": {},
   "outputs": [
    {
     "data": {
      "image/png": "[encoded data removed]",
      "text/plain": [
       "<Figure size 360x432 with 1 Axes>"
      ]
     },
     "metadata": {
      "needs_background": "light"
     },
     "output_type": "display_data"
    }
   ],
   "source": [
    "#Boxplot\n",
    "plt.figure(figsize=(5,6))\n",
    "\n",
    "ax= sns.boxplot(data= df)\n",
    "\n",
    "plt.yticks(range(5,60,5)) #Range on 'Y' axis\n",
    "\n",
    "plt.xlabel('Age and Salary')\n",
    "plt.show()"
   ]
  },
  {
   "cell_type": "code",
   "execution_count": 10,
   "id": "a75d95a7",
   "metadata": {},
   "outputs": [
    {
     "data": {
      "text/plain": [
       "<AxesSubplot:>"
      ]
     },
     "execution_count": 10,
     "metadata": {},
     "output_type": "execute_result"
    },
    {
     "data": {
      "image/png": "[encoded data removed]",
      "text/plain": [
       "<Figure size 576x360 with 1 Axes>"
      ]
     },
     "metadata": {
      "needs_background": "light"
     },
     "output_type": "display_data"
    }
   ],
   "source": [
    "#Another way \n",
    "\n",
    "df.plot(kind= 'box', figsize= (8,5), color= 'r', yticks= range(0,55,5))"
   ]
  },
  {
   "cell_type": "code",
   "execution_count": 11,
   "id": "1e021503",
   "metadata": {},
   "outputs": [
    {
     "data": {
      "text/plain": [
       "[15, 19, 20, 21, 22, 23, 24, 25, 30, 34, 43, 52]"
      ]
     },
     "execution_count": 11,
     "metadata": {},
     "output_type": "execute_result"
    }
   ],
   "source": [
    "sal= [15,22,24,25,30,23,34,43,19,20,52,21]\n",
    "sal.sort()\n",
    "sal"
   ]
  },
  {
   "cell_type": "code",
   "execution_count": 12,
   "id": "e1a0bf68",
   "metadata": {},
   "outputs": [],
   "source": [
    "ser= pd.Series(sal)"
   ]
  },
  {
   "cell_type": "code",
   "execution_count": 13,
   "id": "fe8c31bb",
   "metadata": {},
   "outputs": [
    {
     "data": {
      "text/plain": [
       "0     15\n",
       "1     19\n",
       "2     20\n",
       "3     21\n",
       "4     22\n",
       "5     23\n",
       "6     24\n",
       "7     25\n",
       "8     30\n",
       "9     34\n",
       "10    43\n",
       "11    52\n",
       "dtype: int64"
      ]
     },
     "execution_count": 13,
     "metadata": {},
     "output_type": "execute_result"
    }
   ],
   "source": [
    "ser"
   ]
  },
  {
   "cell_type": "code",
   "execution_count": 14,
   "id": "ffb35107",
   "metadata": {},
   "outputs": [
    {
     "name": "stdout",
     "output_type": "stream",
     "text": [
      "Q1 20.75\n",
      "Q3 31.0\n",
      "IQR 10.25\n"
     ]
    }
   ],
   "source": [
    "#1st Quantile\n",
    "q1= ser.quantile(0.25)\n",
    "\n",
    "print('Q1',q1)\n",
    "\n",
    "#3rd Quantile\n",
    "q3= ser.quantile(0.75)\n",
    "print('Q3',q3)\n",
    "\n",
    "#Find the IQR(Inter Quantile range) to identify outliers\n",
    "iqr= q3-q1\n",
    "\n",
    "print('IQR', iqr)"
   ]
  },
  {
   "cell_type": "code",
   "execution_count": 15,
   "id": "e75bcd50",
   "metadata": {},
   "outputs": [
    {
     "data": {
      "text/plain": [
       "46.375"
      ]
     },
     "execution_count": 15,
     "metadata": {},
     "output_type": "execute_result"
    }
   ],
   "source": [
    "upside= q3+(1.5*iqr)\n",
    "\n",
    "upside"
   ]
  },
  {
   "cell_type": "code",
   "execution_count": 16,
   "id": "4136f848",
   "metadata": {},
   "outputs": [
    {
     "data": {
      "text/plain": [
       "5.375"
      ]
     },
     "execution_count": 16,
     "metadata": {},
     "output_type": "execute_result"
    }
   ],
   "source": [
    "lower_side= q1-(1.5*iqr)\n",
    "\n",
    "lower_side"
   ]
  },
  {
   "cell_type": "code",
   "execution_count": null,
   "id": "0c20224f",
   "metadata": {},
   "outputs": [],
   "source": []
  }
 ],
 "metadata": {
  "kernelspec": {
   "display_name": "Python 3 (ipykernel)",
   "language": "python",
   "name": "python3"
  },
  "language_info": {
   "codemirror_mode": {
    "name": "ipython",
    "version": 3
   },
   "file_extension": ".py",
   "mimetype": "text/x-python",
   "name": "python",
   "nbconvert_exporter": "python",
   "pygments_lexer": "ipython3",
   "version": "3.9.7"
  }
 },
 "nbformat": 4,
 "nbformat_minor": 5
}
