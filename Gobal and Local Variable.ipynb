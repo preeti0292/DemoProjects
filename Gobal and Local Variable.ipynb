{
 "cells": [
  {
   "cell_type": "code",
   "execution_count": 2,
   "id": "ed8ba8f5",
   "metadata": {},
   "outputs": [
    {
     "name": "stdout",
     "output_type": "stream",
     "text": [
      "Printing inside the function and the total is - 45\n"
     ]
    }
   ],
   "source": [
    "#global variable defind outside the function. This variable can be used outside as well as inside the function.\n",
    "\n",
    "extra_marks= 10\n",
    "\n",
    "def tot_score_glob():\n",
    "    print(\"Printing inside the function and the total is -\", 35 + extra_marks)\n",
    "    \n",
    "tot_score_glob()"
   ]
  },
  {
   "cell_type": "code",
   "execution_count": 3,
   "id": "d5fd86ee",
   "metadata": {},
   "outputs": [
    {
     "name": "stdout",
     "output_type": "stream",
     "text": [
      "Printing outside the function and the total is - 45\n"
     ]
    }
   ],
   "source": [
    "print(\"Printing outside the function and the total is -\", extra_marks + 35)"
   ]
  },
  {
   "cell_type": "code",
   "execution_count": 5,
   "id": "6eaeae3d",
   "metadata": {},
   "outputs": [
    {
     "name": "stdout",
     "output_type": "stream",
     "text": [
      "Printing inside the function and the total is - 100\n"
     ]
    }
   ],
   "source": [
    "#Loc() won't work outside the function\n",
    "def tot_score_loc():\n",
    "    some_marks= 50\n",
    "    print(\"Printing inside the function and the total is -\", some_marks + 50)\n",
    "    \n",
    "tot_score_loc()"
   ]
  },
  {
   "cell_type": "code",
   "execution_count": 6,
   "id": "6a1e7704",
   "metadata": {},
   "outputs": [
    {
     "ename": "NameError",
     "evalue": "name 'some_marks' is not defined",
     "output_type": "error",
     "traceback": [
      "\u001b[1;31m---------------------------------------------------------------------------\u001b[0m",
      "\u001b[1;31mNameError\u001b[0m                                 Traceback (most recent call last)",
      "\u001b[1;32m~\\AppData\\Local\\Temp/ipykernel_9548/957640546.py\u001b[0m in \u001b[0;36m<module>\u001b[1;34m\u001b[0m\n\u001b[1;32m----> 1\u001b[1;33m \u001b[0mprint\u001b[0m\u001b[1;33m(\u001b[0m\u001b[1;34m\"Printing outside the function and the total is - \"\u001b[0m\u001b[1;33m,\u001b[0m \u001b[0msome_marks\u001b[0m \u001b[1;33m+\u001b[0m \u001b[1;36m50\u001b[0m\u001b[1;33m)\u001b[0m\u001b[1;33m\u001b[0m\u001b[1;33m\u001b[0m\u001b[0m\n\u001b[0m",
      "\u001b[1;31mNameError\u001b[0m: name 'some_marks' is not defined"
     ]
    }
   ],
   "source": [
    "print(\"Printing outside the function and the total is - \", some_marks + 50)"
   ]
  },
  {
   "cell_type": "code",
   "execution_count": 11,
   "id": "de8437d7",
   "metadata": {},
   "outputs": [
    {
     "name": "stdout",
     "output_type": "stream",
     "text": [
      "This is fantastic\n"
     ]
    }
   ],
   "source": [
    "#How to use variable outside the function?\n",
    "\n",
    "def local_glob():\n",
    "    global var20\n",
    "    var20 = \"This is fantastic\"\n",
    "    print(var20)\n",
    "    \n",
    "local_glob()"
   ]
  },
  {
   "cell_type": "code",
   "execution_count": 12,
   "id": "3715bff9",
   "metadata": {},
   "outputs": [
    {
     "name": "stdout",
     "output_type": "stream",
     "text": [
      "This is fantastic\n"
     ]
    }
   ],
   "source": [
    "print(var20)"
   ]
  },
  {
   "cell_type": "code",
   "execution_count": null,
   "id": "06c02736",
   "metadata": {},
   "outputs": [],
   "source": []
  }
 ],
 "metadata": {
  "kernelspec": {
   "display_name": "Python 3 (ipykernel)",
   "language": "python",
   "name": "python3"
  },
  "language_info": {
   "codemirror_mode": {
    "name": "ipython",
    "version": 3
   },
   "file_extension": ".py",
   "mimetype": "text/x-python",
   "name": "python",
   "nbconvert_exporter": "python",
   "pygments_lexer": "ipython3",
   "version": "3.9.7"
  }
 },
 "nbformat": 4,
 "nbformat_minor": 5
}
