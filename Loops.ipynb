{
 "cells": [
  {
   "cell_type": "code",
   "execution_count": 2,
   "id": "c80704aa",
   "metadata": {},
   "outputs": [
    {
     "name": "stdout",
     "output_type": "stream",
     "text": [
      "Bengaluru\n",
      "Noida\n",
      "Chennai\n",
      "Hyderabad\n",
      "Delhi\n"
     ]
    }
   ],
   "source": [
    "location= ['Bengaluru', 'Noida', 'Chennai', 'Hyderabad', 'Delhi']\n",
    "\n",
    "for i in location:\n",
    "    print(i)"
   ]
  },
  {
   "cell_type": "code",
   "execution_count": 3,
   "id": "78841ca0",
   "metadata": {},
   "outputs": [
    {
     "name": "stdout",
     "output_type": "stream",
     "text": [
      "7000\n",
      "8000\n",
      "4500\n",
      "3800\n"
     ]
    }
   ],
   "source": [
    "Salary= [200, 400, 500, 7000, 8000, 4500, 3800]\n",
    "\n",
    "for value in Salary:\n",
    "    if value >3500:\n",
    "        print(value)"
   ]
  },
  {
   "cell_type": "code",
   "execution_count": 4,
   "id": "4ef38100",
   "metadata": {},
   "outputs": [
    {
     "name": "stdout",
     "output_type": "stream",
     "text": [
      "35 - Pass\n",
      "67 - First Class\n",
      "78 - Distinction\n",
      "79 - Distinction\n",
      "12 - Fail better luck next time\n",
      "34 - Fail better luck next time\n",
      "67 - First Class\n",
      "54 - Second Class\n",
      "89 - Distinction\n"
     ]
    }
   ],
   "source": [
    "student_score= [35, 67, 78, 79, 12, 34, 67, 54, 89]\n",
    "\n",
    "for marks in student_score:\n",
    "    if marks >60:\n",
    "        if marks >70:\n",
    "            print (marks, '- Distinction')\n",
    "        else:\n",
    "            print(marks, '- First Class')\n",
    "            \n",
    "    elif marks >50 and marks <=60:\n",
    "        print(marks, '- Second Class')\n",
    "        \n",
    "    elif marks >=35:\n",
    "        print(marks, '- Pass')\n",
    "        \n",
    "    else:\n",
    "        print(marks, '- Fail better luck next time')"
   ]
  },
  {
   "cell_type": "code",
   "execution_count": 5,
   "id": "c38d234e",
   "metadata": {},
   "outputs": [
    {
     "name": "stdout",
     "output_type": "stream",
     "text": [
      "7000\n",
      "8000\n"
     ]
    }
   ],
   "source": [
    "salary= [2000, 4000, 5000, 7000, 8000, 4000, 3800]\n",
    "\n",
    "for value in salary:\n",
    "    if value >5500:\n",
    "        print(value)"
   ]
  },
  {
   "cell_type": "code",
   "execution_count": 6,
   "id": "30ff6f6f",
   "metadata": {},
   "outputs": [
    {
     "data": {
      "text/plain": [
       "[7000, 8000]"
      ]
     },
     "execution_count": 6,
     "metadata": {},
     "output_type": "execute_result"
    }
   ],
   "source": [
    "sal= [value for value in salary if value >5500]\n",
    "sal"
   ]
  },
  {
   "cell_type": "code",
   "execution_count": 7,
   "id": "a7e19582",
   "metadata": {},
   "outputs": [
    {
     "name": "stdout",
     "output_type": "stream",
     "text": [
      "Income till today -  100\n",
      "Income till today -  250\n",
      "Income till today -  350\n",
      "Income till today -  550\n",
      "Income till today -  700\n",
      "Income till today -  900\n",
      "Income till today -  1200\n",
      "The total weekly income =  1200\n"
     ]
    }
   ],
   "source": [
    "Daily_Sales = [100, 150, 100, 200, 150, 200, 300]\n",
    "\n",
    "income_till_date = 0  #Variable to store the sum\n",
    "\n",
    "for value in Daily_Sales:\n",
    "    \n",
    "    income_till_date = income_till_date + value\n",
    "    print('Income till today - ', income_till_date)\n",
    "    \n",
    "print ('The total weekly income = ', income_till_date)  "
   ]
  },
  {
   "cell_type": "code",
   "execution_count": 8,
   "id": "92559f8a",
   "metadata": {},
   "outputs": [
    {
     "name": "stdout",
     "output_type": "stream",
     "text": [
      "10\n",
      "20\n",
      "30\n",
      "No items left\n"
     ]
    }
   ],
   "source": [
    "#for loop eith else\n",
    "\n",
    "digits= [10, 20, 30]\n",
    "\n",
    "for i in digits:\n",
    "    print(i)\n",
    "    \n",
    "else:\n",
    "    print('No items left')"
   ]
  },
  {
   "cell_type": "code",
   "execution_count": 11,
   "id": "0408981c",
   "metadata": {},
   "outputs": [
    {
     "name": "stdout",
     "output_type": "stream",
     "text": [
      "1 Data Trained\n",
      "2 Data Trained\n",
      "3 Data Trained\n",
      "4 Data Trained\n",
      "5 Data Trained\n",
      "6 Data Trained\n",
      "7 Data Trained\n",
      "8 Data Trained\n",
      "9 Data Trained\n",
      "10 Data Trained\n"
     ]
    }
   ],
   "source": [
    "#Use of while loop.\n",
    "i = 0\n",
    "\n",
    "while i <10:\n",
    "    i = i + 1\n",
    "    print(i, 'Data Trained')\n",
    "    "
   ]
  },
  {
   "cell_type": "code",
   "execution_count": 12,
   "id": "97ba166b",
   "metadata": {},
   "outputs": [
    {
     "name": "stdout",
     "output_type": "stream",
     "text": [
      "Wake up buddy\n"
     ]
    }
   ],
   "source": [
    "#Another example of while loop.\n",
    "\n",
    "import time\n",
    "result= time.localtime()\n",
    "\n",
    "while True:\n",
    "    result= time.localtime()\n",
    "    if result.tm_hour== 11 and result.tm_min== 3:\n",
    "        print('Wake up buddy')\n",
    "        break"
   ]
  },
  {
   "cell_type": "code",
   "execution_count": null,
   "id": "a1eec313",
   "metadata": {},
   "outputs": [],
   "source": []
  }
 ],
 "metadata": {
  "kernelspec": {
   "display_name": "Python 3 (ipykernel)",
   "language": "python",
   "name": "python3"
  },
  "language_info": {
   "codemirror_mode": {
    "name": "ipython",
    "version": 3
   },
   "file_extension": ".py",
   "mimetype": "text/x-python",
   "name": "python",
   "nbconvert_exporter": "python",
   "pygments_lexer": "ipython3",
   "version": "3.9.7"
  }
 },
 "nbformat": 4,
 "nbformat_minor": 5
}
