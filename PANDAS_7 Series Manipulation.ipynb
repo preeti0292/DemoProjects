{
 "cells": [
  {
   "cell_type": "code",
   "execution_count": 1,
   "id": "358c796d",
   "metadata": {},
   "outputs": [],
   "source": [
    "import numpy as np"
   ]
  },
  {
   "cell_type": "code",
   "execution_count": 2,
   "id": "58ccb6df",
   "metadata": {},
   "outputs": [],
   "source": [
    "import pandas as pd"
   ]
  },
  {
   "cell_type": "code",
   "execution_count": 3,
   "id": "6bb6dc9d",
   "metadata": {},
   "outputs": [],
   "source": [
    "#You can give your own index name.\n",
    "\n",
    "ser1= pd.Series(data=[1,2,3,4],index=['CA','OR','CO','AZ'])"
   ]
  },
  {
   "cell_type": "code",
   "execution_count": 4,
   "id": "d3667c93",
   "metadata": {},
   "outputs": [
    {
     "data": {
      "text/plain": [
       "CA    1\n",
       "OR    2\n",
       "CO    3\n",
       "AZ    4\n",
       "dtype: int64"
      ]
     },
     "execution_count": 4,
     "metadata": {},
     "output_type": "execute_result"
    }
   ],
   "source": [
    "ser1"
   ]
  },
  {
   "cell_type": "code",
   "execution_count": 5,
   "id": "d4f0e074",
   "metadata": {},
   "outputs": [
    {
     "name": "stdout",
     "output_type": "stream",
     "text": [
      "\n",
      "Indexing by the name of the object/item (string indentifier)\n",
      "--------------------------------------------------------\n",
      "\n",
      "Value for CA in ser1: 1\n",
      "\n",
      "Value for AZ in ser1: 4\n"
     ]
    }
   ],
   "source": [
    "print('\\nIndexing by the name of the object/item (string indentifier)\\n','-'*56,sep='')\n",
    "\n",
    "print('\\nValue for CA in ser1:', ser1['CA'])\n",
    "\n",
    "print('\\nValue for AZ in ser1:', ser1['AZ'])"
   ]
  },
  {
   "cell_type": "code",
   "execution_count": 7,
   "id": "d069cda2",
   "metadata": {},
   "outputs": [
    {
     "name": "stdout",
     "output_type": "stream",
     "text": [
      "\n",
      "Indexing by number (Posittional Value in the Series)\n",
      "--------------------------------------------------------\n",
      "\n",
      "Value for CA in ser1: 1\n",
      "\n",
      "Value for AZ in ser1: 4\n"
     ]
    }
   ],
   "source": [
    "#You can also fetch elements by its positional index.\n",
    "\n",
    "print('\\nIndexing by number (Posittional Value in the Series)\\n','-'*56,sep='')\n",
    "print('\\nValue for CA in ser1:', ser1[0])\n",
    "print('\\nValue for AZ in ser1:',ser1[3])"
   ]
  },
  {
   "cell_type": "code",
   "execution_count": 8,
   "id": "0af4e146",
   "metadata": {},
   "outputs": [
    {
     "data": {
      "text/plain": [
       "CA    1\n",
       "OR    2\n",
       "CO    3\n",
       "AZ    4\n",
       "dtype: int64"
      ]
     },
     "execution_count": 8,
     "metadata": {},
     "output_type": "execute_result"
    }
   ],
   "source": [
    "ser1"
   ]
  },
  {
   "cell_type": "code",
   "execution_count": 18,
   "id": "dd177c02",
   "metadata": {},
   "outputs": [
    {
     "name": "stdout",
     "output_type": "stream",
     "text": [
      "\n",
      "Indexing by a range\n",
      "------------------------------\n",
      "Value for OR, CO, and AZ in ser1:\n",
      "OR    2\n",
      "CO    3\n",
      "AZ    4\n",
      "dtype: int64\n"
     ]
    }
   ],
   "source": [
    "print('\\nIndexing by a range\\n------------------------------',sep='')\n",
    "\n",
    "print('Value for OR, CO, and AZ in ser1:\\n',ser1[1:4],sep='')"
   ]
  },
  {
   "cell_type": "code",
   "execution_count": 14,
   "id": "29daa263",
   "metadata": {},
   "outputs": [],
   "source": [
    "ser1= pd.Series([1,2,3,4,10],['CA','OR','CO','AZ','NV'])\n",
    "\n",
    "ser2= pd.Series([1,2,5,4,30],['CA','OR','NV','PA','CO'])"
   ]
  },
  {
   "cell_type": "code",
   "execution_count": 17,
   "id": "1ef4a04c",
   "metadata": {},
   "outputs": [
    {
     "name": "stdout",
     "output_type": "stream",
     "text": [
      "Ser1\n",
      "CA     1\n",
      "OR     2\n",
      "CO     3\n",
      "AZ     4\n",
      "NV    10\n",
      "dtype: int64\n",
      "********************\n",
      "Ser2\n",
      "CA     1\n",
      "OR     2\n",
      "NV     5\n",
      "PA     4\n",
      "CO    30\n",
      "dtype: int64\n"
     ]
    }
   ],
   "source": [
    "print('Ser1\\n',ser1,sep='')\n",
    "print('*'*20,sep='')\n",
    "print('Ser2\\n',ser2,sep='')\n"
   ]
  },
  {
   "cell_type": "code",
   "execution_count": 20,
   "id": "70a6ff8f",
   "metadata": {},
   "outputs": [
    {
     "name": "stdout",
     "output_type": "stream",
     "text": [
      "\n",
      "After adding both the series, the result looks like this\n",
      "----------------------------------------------------------\n",
      "AZ     NaN\n",
      "CA     2.0\n",
      "CO    33.0\n",
      "NV    15.0\n",
      "OR     4.0\n",
      "PA     NaN\n",
      "dtype: float64\n",
      "\n",
      "Python tries to add value where it finds common index name, and keeps NaN where indices are missing\n",
      "\n"
     ]
    }
   ],
   "source": [
    "#Let's add both the series.\n",
    "\n",
    "ser3= ser1+ser2\n",
    "\n",
    "print('\\nAfter adding both the series, the result looks like this\\n','-'*58,sep='')\n",
    "\n",
    "print(ser3)\n",
    "\n",
    "print('\\nPython tries to add value where it finds common index name, and keeps NaN where indices are missing\\n')"
   ]
  },
  {
   "cell_type": "code",
   "execution_count": null,
   "id": "53797208",
   "metadata": {},
   "outputs": [],
   "source": []
  }
 ],
 "metadata": {
  "kernelspec": {
   "display_name": "Python 3 (ipykernel)",
   "language": "python",
   "name": "python3"
  },
  "language_info": {
   "codemirror_mode": {
    "name": "ipython",
    "version": 3
   },
   "file_extension": ".py",
   "mimetype": "text/x-python",
   "name": "python",
   "nbconvert_exporter": "python",
   "pygments_lexer": "ipython3",
   "version": "3.9.7"
  }
 },
 "nbformat": 4,
 "nbformat_minor": 5
}
