{
 "cells": [
  {
   "cell_type": "code",
   "execution_count": 2,
   "id": "a08ab9ae",
   "metadata": {},
   "outputs": [],
   "source": [
    "import sqlite3"
   ]
  },
  {
   "cell_type": "code",
   "execution_count": 3,
   "id": "13e41da5",
   "metadata": {},
   "outputs": [],
   "source": [
    "#Connecting with the database (If there is no database exists, It will create one.)\n",
    "\n",
    "db= sqlite3.connect(\"my_database.db\")"
   ]
  },
  {
   "cell_type": "code",
   "execution_count": 4,
   "id": "102d1a8f",
   "metadata": {},
   "outputs": [],
   "source": [
    "cursor= db.cursor()"
   ]
  },
  {
   "cell_type": "code",
   "execution_count": 6,
   "id": "99aaf982",
   "metadata": {},
   "outputs": [
    {
     "data": {
      "text/plain": [
       "<sqlite3.Cursor at 0x1f9e924e9d0>"
      ]
     },
     "execution_count": 6,
     "metadata": {},
     "output_type": "execute_result"
    }
   ],
   "source": [
    "#Create Table\n",
    "\n",
    "cursor.execute(\"CREATE TABLE scores3(gender TEXT, student_id INT PRIMERY KEY, marks INT)\")"
   ]
  },
  {
   "cell_type": "code",
   "execution_count": 7,
   "id": "311b2904",
   "metadata": {},
   "outputs": [
    {
     "data": {
      "text/plain": [
       "<sqlite3.Cursor at 0x1f9e924e9d0>"
      ]
     },
     "execution_count": 7,
     "metadata": {},
     "output_type": "execute_result"
    }
   ],
   "source": [
    "#Insert single record into the table.\n",
    "\n",
    "cursor.execute(\"INSERT INTO scores3(gender, student_id,marks) VALUES('Female', 10, 55)\")"
   ]
  },
  {
   "cell_type": "code",
   "execution_count": 8,
   "id": "81699305",
   "metadata": {},
   "outputs": [],
   "source": [
    "#Save the records permanently. (If you don't commit next time you won't see the records in the table.)\n",
    "\n",
    "db.commit()"
   ]
  },
  {
   "cell_type": "code",
   "execution_count": 9,
   "id": "79ccd64f",
   "metadata": {},
   "outputs": [
    {
     "data": {
      "text/plain": [
       "<sqlite3.Cursor at 0x1f9e924e9d0>"
      ]
     },
     "execution_count": 9,
     "metadata": {},
     "output_type": "execute_result"
    }
   ],
   "source": [
    "#Let's insert one more data( Make sure there is no duplicate insertion in the Primery key)\n",
    "\n",
    "cursor.execute(\"INSERT INTO scores3(gender, student_id, marks) VALUES ('Male', 102, 70)\")"
   ]
  },
  {
   "cell_type": "code",
   "execution_count": 10,
   "id": "e7985767",
   "metadata": {},
   "outputs": [
    {
     "name": "stdout",
     "output_type": "stream",
     "text": [
      "('Female', 10, 55)\n",
      "('Male', 102, 70)\n"
     ]
    }
   ],
   "source": [
    "#Using SELECT query to fetch records from the table.\n",
    "\n",
    "result= cursor.execute(\"SELECT * FROM scores3\")\n",
    "\n",
    "for row in result:\n",
    "    print(row)"
   ]
  },
  {
   "cell_type": "code",
   "execution_count": 11,
   "id": "6c3769b0",
   "metadata": {},
   "outputs": [],
   "source": [
    "#Multiple records insertion.\n",
    "\n",
    "cursor.execute(\"INSERT INTO scores3(gender, student_id, marks) VALUES ('Female', 103, 44), ('Male', 104, 80)\")\n",
    "\n",
    "db.commit()"
   ]
  },
  {
   "cell_type": "code",
   "execution_count": 12,
   "id": "523bd552",
   "metadata": {},
   "outputs": [
    {
     "name": "stdout",
     "output_type": "stream",
     "text": [
      "2 Records Inserted\n"
     ]
    }
   ],
   "source": [
    "#Let's check count of the records.\n",
    "\n",
    "print(cursor.rowcount, \"Records Inserted\")"
   ]
  },
  {
   "cell_type": "code",
   "execution_count": 13,
   "id": "43be7333",
   "metadata": {},
   "outputs": [
    {
     "name": "stdout",
     "output_type": "stream",
     "text": [
      "('Female', 10, 55)\n",
      "('Male', 102, 70)\n",
      "('Female', 103, 44)\n",
      "('Male', 104, 80)\n"
     ]
    }
   ],
   "source": [
    "# Check if we have all the records.\n",
    "\n",
    "result= cursor.execute(\"SELECT * FROM scores3\")\n",
    "\n",
    "for row in result:\n",
    "    print(row)"
   ]
  },
  {
   "cell_type": "code",
   "execution_count": 14,
   "id": "7f5d3177",
   "metadata": {},
   "outputs": [
    {
     "name": "stdout",
     "output_type": "stream",
     "text": [
      "(10, 'Female')\n",
      "(102, 'Male')\n",
      "(103, 'Female')\n",
      "(104, 'Male')\n"
     ]
    }
   ],
   "source": [
    "#Selecting only perticular columns.\n",
    "\n",
    "result= cursor.execute(\"SELECT student_id, gender FROM scores3\")\n",
    "\n",
    "for row in result:\n",
    "    print(row)"
   ]
  },
  {
   "cell_type": "code",
   "execution_count": 15,
   "id": "7072aaa0",
   "metadata": {},
   "outputs": [],
   "source": [
    "#Inserting records file from CSV.\n",
    "\n",
    "with open ('Scores_file.csv', 'r') as file:\n",
    "    no_records = 0\n",
    "    \n",
    "    for row in file:\n",
    "        cursor.execute(\"INSERT INTO scores3 VALUES (?,?,?)\", row.split(\",\"))\n",
    "        db.commit()\n",
    "        no_records +=1"
   ]
  },
  {
   "cell_type": "code",
   "execution_count": 16,
   "id": "4ab16c7e",
   "metadata": {},
   "outputs": [
    {
     "name": "stdout",
     "output_type": "stream",
     "text": [
      "26 Records Inserted\n"
     ]
    }
   ],
   "source": [
    "print(no_records, 'Records Inserted')"
   ]
  },
  {
   "cell_type": "code",
   "execution_count": 17,
   "id": "06c58c69",
   "metadata": {},
   "outputs": [
    {
     "name": "stdout",
     "output_type": "stream",
     "text": [
      "('Female', 10, 55)\n",
      "('Male', 102, 70)\n",
      "('Female', 103, 44)\n",
      "('Male', 104, 80)\n",
      "('ï»¿gender', 'student_id', 'marks\\n')\n",
      "('Male', 105, 50)\n",
      "('Male', 106, 80)\n",
      "('Female', 107, 90)\n",
      "('Male', 108, 66)\n",
      "('Female', 109, 55)\n",
      "('Male', 110, 44)\n",
      "('Male', 111, 29)\n",
      "('Female', 112, 13)\n",
      "('Male', 113, 12)\n",
      "('Female', 114, 34)\n",
      "('Male', 115, 36)\n",
      "('Male', 116, 41)\n",
      "('Female', 117, 52)\n",
      "('Male', 118, 67)\n",
      "('Female', 119, 84)\n",
      "('Male', 120, 85)\n",
      "('Male', 121, 89)\n",
      "('Female', 122, 95)\n",
      "('Male', 123, 96)\n",
      "('Female', 124, 78)\n",
      "('Male', 125, 77)\n",
      "('Male', 126, 76)\n",
      "('Female', 127, 71)\n",
      "('Male', 128, 72)\n",
      "('Female', 129, 70)\n"
     ]
    }
   ],
   "source": [
    "result= cursor.execute('SELECT * FROM scores3')\n",
    "\n",
    "for row in result:\n",
    "    print(row)"
   ]
  },
  {
   "cell_type": "code",
   "execution_count": 18,
   "id": "1561fd4c",
   "metadata": {},
   "outputs": [
    {
     "name": "stdout",
     "output_type": "stream",
     "text": [
      "('Male', 105, 50)\n"
     ]
    }
   ],
   "source": [
    "#WHERE Clause- Select records based on condition.\n",
    "\n",
    "sql= \"SELECT * FROM scores3 WHERE student_id = 105\"\n",
    "\n",
    "result= cursor.execute(sql)\n",
    "for row in result:\n",
    "    print(row)"
   ]
  },
  {
   "cell_type": "code",
   "execution_count": 19,
   "id": "5394c0b4",
   "metadata": {},
   "outputs": [
    {
     "data": {
      "text/plain": [
       "<sqlite3.Cursor at 0x1f9e924e9d0>"
      ]
     },
     "execution_count": 19,
     "metadata": {},
     "output_type": "execute_result"
    }
   ],
   "source": [
    "#DELETE Unwanted records.\n",
    "\n",
    "sql= 'DELETE FROM scores3 WHERE student_id = 10'\n",
    "\n",
    "db.commit()\n",
    "cursor.execute(sql)"
   ]
  },
  {
   "cell_type": "code",
   "execution_count": 20,
   "id": "a0794194",
   "metadata": {},
   "outputs": [
    {
     "name": "stdout",
     "output_type": "stream",
     "text": [
      "('Male', 102, 70)\n",
      "('Female', 103, 44)\n",
      "('Male', 104, 80)\n",
      "('ï»¿gender', 'student_id', 'marks\\n')\n",
      "('Male', 105, 50)\n",
      "('Male', 106, 80)\n",
      "('Female', 107, 90)\n",
      "('Male', 108, 66)\n",
      "('Female', 109, 55)\n",
      "('Male', 110, 44)\n",
      "('Male', 111, 29)\n",
      "('Female', 112, 13)\n",
      "('Male', 113, 12)\n",
      "('Female', 114, 34)\n",
      "('Male', 115, 36)\n",
      "('Male', 116, 41)\n",
      "('Female', 117, 52)\n",
      "('Male', 118, 67)\n",
      "('Female', 119, 84)\n",
      "('Male', 120, 85)\n",
      "('Male', 121, 89)\n",
      "('Female', 122, 95)\n",
      "('Male', 123, 96)\n",
      "('Female', 124, 78)\n",
      "('Male', 125, 77)\n",
      "('Male', 126, 76)\n",
      "('Female', 127, 71)\n",
      "('Male', 128, 72)\n",
      "('Female', 129, 70)\n"
     ]
    }
   ],
   "source": [
    "result= cursor.execute(\"SELECT * FROM scores3\")\n",
    "\n",
    "for row in result:\n",
    "    print(row)"
   ]
  },
  {
   "cell_type": "code",
   "execution_count": 21,
   "id": "1803e0a4",
   "metadata": {},
   "outputs": [
    {
     "name": "stdout",
     "output_type": "stream",
     "text": [
      "('ï»¿gender', 'student_id', 'marks\\n')\n",
      "('Male', 123, 96)\n",
      "('Female', 122, 95)\n",
      "('Female', 107, 90)\n",
      "('Male', 121, 89)\n",
      "('Male', 120, 85)\n",
      "('Female', 119, 84)\n",
      "('Male', 104, 80)\n",
      "('Male', 106, 80)\n",
      "('Female', 124, 78)\n",
      "('Male', 125, 77)\n",
      "('Male', 126, 76)\n",
      "('Male', 128, 72)\n",
      "('Female', 127, 71)\n",
      "('Male', 102, 70)\n",
      "('Female', 129, 70)\n",
      "('Male', 118, 67)\n",
      "('Male', 108, 66)\n",
      "('Female', 109, 55)\n",
      "('Female', 117, 52)\n",
      "('Male', 105, 50)\n",
      "('Female', 103, 44)\n",
      "('Male', 110, 44)\n",
      "('Male', 116, 41)\n",
      "('Male', 115, 36)\n",
      "('Female', 114, 34)\n",
      "('Male', 111, 29)\n",
      "('Female', 112, 13)\n",
      "('Male', 113, 12)\n"
     ]
    }
   ],
   "source": [
    "#ORDER BY. How to change the order of the records (Increasing or Decreasing). (FOR ASSCENDING we don't need to mention anything after marks only ORDER BY will work.)\n",
    "\n",
    "result= cursor.execute(\"SELECT * FROM scores3 ORDER BY marks desc\")\n",
    "\n",
    "for row in result:\n",
    "    print(row)"
   ]
  },
  {
   "cell_type": "code",
   "execution_count": 22,
   "id": "50eb82f3",
   "metadata": {},
   "outputs": [
    {
     "data": {
      "text/plain": [
       "<sqlite3.Cursor at 0x1f9e924e9d0>"
      ]
     },
     "execution_count": 22,
     "metadata": {},
     "output_type": "execute_result"
    }
   ],
   "source": [
    "#Single record update.\n",
    "\n",
    "sql= \"UPDATE scores3 SET marks =50 WHERE student_id = 109\"\n",
    "\n",
    "cursor.execute(sql)"
   ]
  },
  {
   "cell_type": "code",
   "execution_count": 23,
   "id": "85f49b36",
   "metadata": {},
   "outputs": [
    {
     "name": "stdout",
     "output_type": "stream",
     "text": [
      "('Female', 109, 50)\n"
     ]
    }
   ],
   "source": [
    "#Check if the marks got updated.\n",
    "\n",
    "sql= \"SELECT * FROM scores3 WHERE student_id= 109\"\n",
    "\n",
    "result= cursor.execute(sql)\n",
    "for row in result:\n",
    "    print(row)"
   ]
  },
  {
   "cell_type": "code",
   "execution_count": 24,
   "id": "b1213efc",
   "metadata": {},
   "outputs": [
    {
     "data": {
      "text/plain": [
       "<sqlite3.Cursor at 0x1f9e924e9d0>"
      ]
     },
     "execution_count": 24,
     "metadata": {},
     "output_type": "execute_result"
    }
   ],
   "source": [
    "#Multiple records update using 'IN'\n",
    "\n",
    "sql= \"UPDATE scores3 SET marks =35 WHERE student_id IN (112,113)\"\n",
    "cursor.execute(sql)"
   ]
  },
  {
   "cell_type": "code",
   "execution_count": 25,
   "id": "56680366",
   "metadata": {},
   "outputs": [
    {
     "name": "stdout",
     "output_type": "stream",
     "text": [
      "('Male', 102, 70)\n",
      "('Female', 103, 44)\n",
      "('Male', 104, 80)\n",
      "('Male', 105, 50)\n",
      "('Male', 106, 80)\n",
      "('Female', 107, 90)\n",
      "('Male', 108, 66)\n",
      "('Female', 109, 50)\n",
      "('Male', 110, 44)\n",
      "('Male', 111, 29)\n",
      "('Female', 112, 35)\n",
      "('Male', 113, 35)\n",
      "('Female', 114, 34)\n",
      "('Male', 115, 36)\n",
      "('Male', 116, 41)\n",
      "('Female', 117, 52)\n",
      "('Male', 118, 67)\n",
      "('Female', 119, 84)\n",
      "('Male', 120, 85)\n",
      "('Male', 121, 89)\n",
      "('Female', 122, 95)\n",
      "('Male', 123, 96)\n",
      "('Female', 124, 78)\n",
      "('Male', 125, 77)\n",
      "('Male', 126, 76)\n",
      "('Female', 127, 71)\n",
      "('Male', 128, 72)\n",
      "('Female', 129, 70)\n",
      "('ï»¿gender', 'student_id', 'marks\\n')\n"
     ]
    }
   ],
   "source": [
    "#Verify\n",
    "\n",
    "result= cursor.execute(\"SELECT * FROM scores3 ORDER BY student_id\")\n",
    "for row in result:\n",
    "    print(row)"
   ]
  },
  {
   "cell_type": "code",
   "execution_count": 26,
   "id": "5c2c7694",
   "metadata": {},
   "outputs": [
    {
     "data": {
      "text/plain": [
       "<sqlite3.Cursor at 0x1f9e924e9d0>"
      ]
     },
     "execution_count": 26,
     "metadata": {},
     "output_type": "execute_result"
    }
   ],
   "source": [
    "#Update record using BETWEEN(This will update all the records between the given range)\n",
    "\n",
    "sql= \"UPDATE scores3 SET marks= 70 WHERE student_id BETWEEN 120 AND 128\"\n",
    "\n",
    "cursor.execute(sql)"
   ]
  },
  {
   "cell_type": "code",
   "execution_count": 27,
   "id": "4c0b9258",
   "metadata": {},
   "outputs": [
    {
     "name": "stdout",
     "output_type": "stream",
     "text": [
      "('Male', 102, 70)\n",
      "('Female', 103, 44)\n",
      "('Male', 104, 80)\n",
      "('Male', 105, 50)\n",
      "('Male', 106, 80)\n",
      "('Female', 107, 90)\n",
      "('Male', 108, 66)\n",
      "('Female', 109, 50)\n",
      "('Male', 110, 44)\n",
      "('Male', 111, 29)\n",
      "('Female', 112, 35)\n",
      "('Male', 113, 35)\n",
      "('Female', 114, 34)\n",
      "('Male', 115, 36)\n",
      "('Male', 116, 41)\n",
      "('Female', 117, 52)\n",
      "('Male', 118, 67)\n",
      "('Female', 119, 84)\n",
      "('Male', 120, 70)\n",
      "('Male', 121, 70)\n",
      "('Female', 122, 70)\n",
      "('Male', 123, 70)\n",
      "('Female', 124, 70)\n",
      "('Male', 125, 70)\n",
      "('Male', 126, 70)\n",
      "('Female', 127, 70)\n",
      "('Male', 128, 70)\n",
      "('Female', 129, 70)\n",
      "('ï»¿gender', 'student_id', 'marks\\n')\n"
     ]
    }
   ],
   "source": [
    "result= cursor.execute(\"SELECT * FROM scores3 ORDER BY student_id\")\n",
    "for row in result:\n",
    "    print(row)"
   ]
  },
  {
   "cell_type": "code",
   "execution_count": 28,
   "id": "0916fb39",
   "metadata": {},
   "outputs": [
    {
     "name": "stdout",
     "output_type": "stream",
     "text": [
      "Minimum Marks=  (29,)\n"
     ]
    }
   ],
   "source": [
    "#MIN and MAX function\n",
    "\n",
    "#Min\n",
    "\n",
    "result= cursor.execute(\"SELECT MIN(marks) FROM scores3\")\n",
    "\n",
    "print(\"Minimum Marks= \", result.fetchone())\n",
    "\n"
   ]
  },
  {
   "cell_type": "code",
   "execution_count": 29,
   "id": "a2e8f865",
   "metadata": {},
   "outputs": [
    {
     "name": "stdout",
     "output_type": "stream",
     "text": [
      "Maximum Marks=  ('marks\\n',)\n"
     ]
    }
   ],
   "source": [
    "#MAX\n",
    "\n",
    "result= cursor.execute(\"SELECT MAX(marks) FROM scores3\")\n",
    "\n",
    "print(\"Maximum Marks= \", result.fetchone())"
   ]
  },
  {
   "cell_type": "code",
   "execution_count": 30,
   "id": "9e5fdbb3",
   "metadata": {},
   "outputs": [],
   "source": [
    "#Subquery\n",
    "\n",
    "db= sqlite3.connect(\"student_course_database.db\")\n",
    "\n",
    "cur= db.cursor()"
   ]
  },
  {
   "cell_type": "code",
   "execution_count": 32,
   "id": "d18daa40",
   "metadata": {},
   "outputs": [
    {
     "data": {
      "text/plain": [
       "<sqlite3.Cursor at 0x1f9e927f730>"
      ]
     },
     "execution_count": 32,
     "metadata": {},
     "output_type": "execute_result"
    }
   ],
   "source": [
    "cur.execute(\"CREATE TABLE course1(courseid INT PRIMERY KEY, coursename TEXT, duration INT)\")"
   ]
  },
  {
   "cell_type": "code",
   "execution_count": 35,
   "id": "22b68354",
   "metadata": {},
   "outputs": [
    {
     "data": {
      "text/plain": [
       "<sqlite3.Cursor at 0x1f9e927f730>"
      ]
     },
     "execution_count": 35,
     "metadata": {},
     "output_type": "execute_result"
    }
   ],
   "source": [
    "cur.execute(\"CREATE TABLE student1(roll_num INT PRIMERY KEY, studentname TEXT, age INT, courseid INT, foreign key(courseid) references course1(courseid))\")"
   ]
  },
  {
   "cell_type": "code",
   "execution_count": 37,
   "id": "8631a1ca",
   "metadata": {},
   "outputs": [
    {
     "name": "stdout",
     "output_type": "stream",
     "text": [
      "3 Records inserted\n"
     ]
    }
   ],
   "source": [
    "cur.execute(\"INSERT INTO course1 VALUES(78, 'Data Science',12), (56,'Python course',4), (101, 'Database',7)\")\n",
    "\n",
    "print(cur.rowcount, \"Records inserted\")\n",
    "\n",
    "db.commit;"
   ]
  },
  {
   "cell_type": "code",
   "execution_count": 40,
   "id": "c9b5431f",
   "metadata": {},
   "outputs": [
    {
     "data": {
      "text/plain": [
       "[(78, 'Data Science', 12), (56, 'Python course', 4), (101, 'Database', 7)]"
      ]
     },
     "execution_count": 40,
     "metadata": {},
     "output_type": "execute_result"
    }
   ],
   "source": [
    "result= cur.execute(\"SELECT * FROM course1\")\n",
    "\n",
    "result.fetchall()"
   ]
  },
  {
   "cell_type": "code",
   "execution_count": 41,
   "id": "80369e8d",
   "metadata": {},
   "outputs": [
    {
     "name": "stdout",
     "output_type": "stream",
     "text": [
      "4 Records inserted\n"
     ]
    }
   ],
   "source": [
    "cur.execute(\"INSERT INTO student1 VALUES (1,'Jim',22,78), (2,'Rudolf',18,78), (3,'John',21,56), (4,'Jack',21,56)\")\n",
    "\n",
    "print(cur.rowcount, \"Records inserted\")\n",
    "\n",
    "db.commit()"
   ]
  },
  {
   "cell_type": "code",
   "execution_count": 43,
   "id": "e9525da9",
   "metadata": {},
   "outputs": [
    {
     "data": {
      "text/plain": [
       "[(1, 'Jim', 22, 78),\n",
       " (2, 'Rudolf', 18, 78),\n",
       " (3, 'John', 21, 56),\n",
       " (4, 'Jack', 21, 56)]"
      ]
     },
     "execution_count": 43,
     "metadata": {},
     "output_type": "execute_result"
    }
   ],
   "source": [
    "result= cur.execute(\"SELECT * FROM student1\")\n",
    "\n",
    "result.fetchall()\n"
   ]
  },
  {
   "cell_type": "code",
   "execution_count": 44,
   "id": "2f96c147",
   "metadata": {},
   "outputs": [
    {
     "name": "stdout",
     "output_type": "stream",
     "text": [
      "(78,)\n"
     ]
    }
   ],
   "source": [
    "result= cur.execute(\"SELECT courseid FROM course1 WHERE coursename= 'Data Science'\")\n",
    "\n",
    "for i in result:\n",
    "    print(i)"
   ]
  },
  {
   "cell_type": "code",
   "execution_count": 45,
   "id": "05d297e4",
   "metadata": {},
   "outputs": [
    {
     "data": {
      "text/plain": [
       "[(1, 'Jim', 22, 78), (2, 'Rudolf', 18, 78)]"
      ]
     },
     "execution_count": 45,
     "metadata": {},
     "output_type": "execute_result"
    }
   ],
   "source": [
    "results= cur.execute(\"SELECT * FROM student1 WHERE courseid= (SELECT courseid FROM course1 WHERE coursename= 'Data Science')\")\n",
    "\n",
    "results.fetchall()"
   ]
  },
  {
   "cell_type": "code",
   "execution_count": null,
   "id": "f317277a",
   "metadata": {},
   "outputs": [],
   "source": [
    "print('%0.1f degree Celsius is equal to %0.1f degree Fahrenheit' %(celsius,fahrenheit))\n"
   ]
  },
  {
   "cell_type": "code",
   "execution_count": 47,
   "id": "ab653723",
   "metadata": {},
   "outputs": [
    {
     "data": {
      "text/plain": [
       "[(3, 'John', 21, 56), (4, 'Jack', 21, 56)]"
      ]
     },
     "execution_count": 47,
     "metadata": {},
     "output_type": "execute_result"
    }
   ],
   "source": [
    "results= cur.execute(\"SELECT * FROM student1 WHERE courseid= (SELECT courseid FROM course1 WHERE coursename= 'Python course')\")\n",
    "\n",
    "results.fetchall()"
   ]
  },
  {
   "cell_type": "code",
   "execution_count": 50,
   "id": "6ede4e24",
   "metadata": {},
   "outputs": [
    {
     "data": {
      "text/plain": [
       "<sqlite3.Cursor at 0x1f9e924e9d0>"
      ]
     },
     "execution_count": 50,
     "metadata": {},
     "output_type": "execute_result"
    }
   ],
   "source": [
    "#JOIN\n",
    "\n",
    "#Create one more table students\n",
    "\n",
    "cursor.execute(\"CREATE TABLE students (student_name TEXT, student_id INT PRIMEY KEY, Phone_num INT)\")\n",
    "\n"
   ]
  },
  {
   "cell_type": "code",
   "execution_count": 51,
   "id": "b631ff5e",
   "metadata": {},
   "outputs": [],
   "source": [
    "cursor.execute(\"INSERT INTO students(student_name, student_id, phone_num) VALUES ('Sachin', 105, 5481215432),('Rakhi',106,543249643),('Rakesh',106,587166587)\")\n",
    "\n",
    "db.commit()"
   ]
  },
  {
   "cell_type": "code",
   "execution_count": 54,
   "id": "3ef3d9b2",
   "metadata": {},
   "outputs": [
    {
     "name": "stdout",
     "output_type": "stream",
     "text": [
      "Name stud_ID phone_num \n",
      "=============================\n",
      "('Sachin', 105, 5481215432)\n",
      "('Rakhi', 106, 543249643)\n",
      "('Rakesh', 106, 587166587)\n"
     ]
    }
   ],
   "source": [
    "result= cursor.execute(\"SELECT * FROM students\")\n",
    "\n",
    "print('Name stud_ID phone_num \\n=============================')\n",
    "\n",
    "for row in result:\n",
    "    print(row)"
   ]
  },
  {
   "cell_type": "code",
   "execution_count": 57,
   "id": "bedfa72b",
   "metadata": {},
   "outputs": [
    {
     "name": "stdout",
     "output_type": "stream",
     "text": [
      "('Male', 113, 12)\n",
      "('Female', 112, 13)\n",
      "('Male', 111, 29)\n",
      "('Female', 114, 34)\n",
      "('Male', 115, 36)\n",
      "('Male', 116, 41)\n",
      "('Female', 103, 44)\n",
      "('Female', 103, 44)\n",
      "('Male', 110, 44)\n",
      "('Male', 105, 50)\n",
      "('Female', 117, 52)\n",
      "('Female', 10, 55)\n",
      "('Female', 109, 55)\n",
      "('Female', 10, 55)\n",
      "('Male', 108, 66)\n",
      "('Male', 118, 67)\n",
      "('Male', 102, 70)\n",
      "('Female', 129, 70)\n",
      "('Female', 127, 71)\n",
      "('Male', 128, 72)\n",
      "('Male', 126, 76)\n",
      "('Male', 125, 77)\n",
      "('Female', 124, 78)\n",
      "('Male', 104, 80)\n",
      "('Male', 104, 80)\n",
      "('Male', 106, 80)\n",
      "('Female', 119, 84)\n",
      "('Male', 120, 85)\n",
      "('Male', 121, 89)\n",
      "('Female', 107, 90)\n",
      "('Female', 122, 95)\n",
      "('Male', 123, 96)\n",
      "('ï»¿gender', 'student_id', 'marks\\n')\n"
     ]
    }
   ],
   "source": [
    "result= cursor.execute(\"SELECT * FROM scores1 ORDER BY marks\")\n",
    "\n",
    "for row in result:\n",
    "    print(row)"
   ]
  },
  {
   "cell_type": "code",
   "execution_count": 60,
   "id": "969f5878",
   "metadata": {},
   "outputs": [
    {
     "name": "stdout",
     "output_type": "stream",
     "text": [
      "(105, 'Sachin', 'Male', 50)\n",
      "(106, 'Rakesh', 'Male', 80)\n",
      "(106, 'Rakhi', 'Male', 80)\n"
     ]
    }
   ],
   "source": [
    "#INNER JOIN\n",
    "\n",
    "sql= \"SELECT students.student_id, students.student_name, scores1.gender, scores1.marks FROM scores1 INNER JOIN students ON students.student_id = scores1.student_id\"\n",
    "\n",
    "result= cursor.execute(sql)\n",
    "\n",
    "for row in result:\n",
    "    print(row)"
   ]
  },
  {
   "cell_type": "code",
   "execution_count": 61,
   "id": "232b9a6b",
   "metadata": {},
   "outputs": [
    {
     "name": "stdout",
     "output_type": "stream",
     "text": [
      "(None, None, 'Female', 55)\n",
      "(None, None, 'Male', 70)\n",
      "(None, None, 'Female', 44)\n",
      "(None, None, 'Male', 80)\n",
      "(None, None, 'Female', 44)\n",
      "(None, None, 'Male', 80)\n",
      "(None, None, 'ï»¿gender', 'marks\\n')\n",
      "(105, 'Sachin', 'Male', 50)\n",
      "(106, 'Rakesh', 'Male', 80)\n",
      "(106, 'Rakhi', 'Male', 80)\n",
      "(None, None, 'Female', 90)\n",
      "(None, None, 'Male', 66)\n",
      "(None, None, 'Female', 55)\n",
      "(None, None, 'Male', 44)\n",
      "(None, None, 'Male', 29)\n",
      "(None, None, 'Female', 13)\n",
      "(None, None, 'Male', 12)\n",
      "(None, None, 'Female', 34)\n",
      "(None, None, 'Male', 36)\n",
      "(None, None, 'Male', 41)\n",
      "(None, None, 'Female', 52)\n",
      "(None, None, 'Male', 67)\n",
      "(None, None, 'Female', 84)\n",
      "(None, None, 'Male', 85)\n",
      "(None, None, 'Male', 89)\n",
      "(None, None, 'Female', 95)\n",
      "(None, None, 'Male', 96)\n",
      "(None, None, 'Female', 78)\n",
      "(None, None, 'Male', 77)\n",
      "(None, None, 'Male', 76)\n",
      "(None, None, 'Female', 71)\n",
      "(None, None, 'Male', 72)\n",
      "(None, None, 'Female', 70)\n",
      "(None, None, 'Female', 55)\n"
     ]
    }
   ],
   "source": [
    "#LEFT JOIN\n",
    "sql= \"SELECT students.student_id, students.student_name, scores1.gender, scores1.marks FROM scores1 LEFT JOIN students ON students.student_id = scores1.student_id\"\n",
    "\n",
    "result= cursor.execute(sql)\n",
    "\n",
    "for row in result:\n",
    "    print(row)"
   ]
  },
  {
   "cell_type": "code",
   "execution_count": 63,
   "id": "e29a7fdd",
   "metadata": {},
   "outputs": [
    {
     "data": {
      "text/plain": [
       "<sqlite3.Cursor at 0x1f9e924e9d0>"
      ]
     },
     "execution_count": 63,
     "metadata": {},
     "output_type": "execute_result"
    }
   ],
   "source": [
    "#DROP TABLE \n",
    "\n",
    "sql= \"DROP TABLE students\"\n",
    "\n",
    "cursor.execute(sql)\n"
   ]
  },
  {
   "cell_type": "code",
   "execution_count": 64,
   "id": "ecf0740b",
   "metadata": {},
   "outputs": [],
   "source": [
    "db.commit()"
   ]
  },
  {
   "cell_type": "code",
   "execution_count": 65,
   "id": "6bc9d34f",
   "metadata": {},
   "outputs": [],
   "source": [
    "db.close()"
   ]
  },
  {
   "cell_type": "code",
   "execution_count": null,
   "id": "64b78b33",
   "metadata": {},
   "outputs": [],
   "source": [
    "import math\n",
    "class circle_compute():\n",
    "    def __init__(self,my_radius):\n",
    "        self.radius=my_radius\n",
    "    def area_calculate(self):\n",
    "        return math.pi*(self.radius**2)\n",
    "    def perimeter_calculate(self):\n",
    "        return 2*math.pi*self.radius\n",
    "my_result = int(input(\"Enter the radius of circle...\"))\n",
    "my_instance = circle_compute(my_result)\n",
    "print(\"The radius entered is :\")\n",
    "print(my_result)\n",
    "print(\"The computed area of circle is \")\n",
    "print(round(my_instance.area_calculate(),2))\n",
    "print(\"The computed perimeter of circle is :\")\n",
    "print(round(my_instance.perimeter_calculate(),2))"
   ]
  }
 ],
 "metadata": {
  "kernelspec": {
   "display_name": "Python 3 (ipykernel)",
   "language": "python",
   "name": "python3"
  },
  "language_info": {
   "codemirror_mode": {
    "name": "ipython",
    "version": 3
   },
   "file_extension": ".py",
   "mimetype": "text/x-python",
   "name": "python",
   "nbconvert_exporter": "python",
   "pygments_lexer": "ipython3",
   "version": "3.9.7"
  }
 },
 "nbformat": 4,
 "nbformat_minor": 5
}
