{
 "cells": [
  {
   "cell_type": "code",
   "execution_count": 1,
   "id": "15cb7f31",
   "metadata": {},
   "outputs": [
    {
     "name": "stdout",
     "output_type": "stream",
     "text": [
      "(0, 'Naveen')\n",
      "(1, 'Ratna')\n",
      "(2, 'Vivaan')\n",
      "(3, 'Sridhar')\n"
     ]
    }
   ],
   "source": [
    "#enumerate() allow you to iterate through a sequence but it keeps track of both the and index and the element.\n",
    "student= ['Naveen', 'Ratna', 'Vivaan', 'Sridhar']\n",
    "\n",
    "for name in enumerate(student):\n",
    "    print(name)"
   ]
  },
  {
   "cell_type": "code",
   "execution_count": 4,
   "id": "b06dad89",
   "metadata": {},
   "outputs": [
    {
     "name": "stdout",
     "output_type": "stream",
     "text": [
      "1 Naveen\n",
      "2 Ratna\n",
      "3 Vivaan\n",
      "4 Sridhar\n"
     ]
    }
   ],
   "source": [
    "#You can start index from any number \n",
    "\n",
    "for i, name in enumerate(student, 1):\n",
    "    print(i, name)"
   ]
  },
  {
   "cell_type": "code",
   "execution_count": 6,
   "id": "5042d1d0",
   "metadata": {},
   "outputs": [
    {
     "data": {
      "text/plain": [
       "[('Naveen', 53), ('Ratna', 74), ('Vivaan', 62), ('Sridhar', 81)]"
      ]
     },
     "execution_count": 6,
     "metadata": {},
     "output_type": "execute_result"
    }
   ],
   "source": [
    "#Zip\n",
    "\n",
    "students_name= ['Naveen', 'Ratna', 'Vivaan', 'Sridhar']\n",
    "students_marks= [53, 74, 62, 81]\n",
    "\n",
    "student_details= list(zip(students_name, students_marks))\n",
    "student_details"
   ]
  },
  {
   "cell_type": "code",
   "execution_count": 9,
   "id": "dd605e11",
   "metadata": {},
   "outputs": [
    {
     "data": {
      "text/plain": [
       "('Naveen', 'Ratna', 'Vivaan', 'Sridhar')"
      ]
     },
     "execution_count": 9,
     "metadata": {},
     "output_type": "execute_result"
    }
   ],
   "source": [
    "#Unzip\n",
    "\n",
    "name,marks_num= zip(* student_details)\n",
    "name"
   ]
  },
  {
   "cell_type": "code",
   "execution_count": 10,
   "id": "c8727157",
   "metadata": {},
   "outputs": [
    {
     "data": {
      "text/plain": [
       "(53, 74, 62, 81)"
      ]
     },
     "execution_count": 10,
     "metadata": {},
     "output_type": "execute_result"
    }
   ],
   "source": [
    "marks_num"
   ]
  },
  {
   "cell_type": "code",
   "execution_count": 15,
   "id": "92277602",
   "metadata": {},
   "outputs": [
    {
     "name": "stdout",
     "output_type": "stream",
     "text": [
      "1 Naveen 53\n",
      "2 Ratna 74\n",
      "3 Vivaan 62\n",
      "4 Sridhar 81\n"
     ]
    }
   ],
   "source": [
    "#enumerate and zip\n",
    "\n",
    "students_name= ['Naveen', 'Ratna', 'Vivaan', 'Sridhar']\n",
    "students_marks= [53, 74, 62, 81]\n",
    "\n",
    "for i, (name, marks) in enumerate(zip(students_name, students_marks),1):\n",
    "    print(i, name, marks)\n"
   ]
  },
  {
   "cell_type": "code",
   "execution_count": 19,
   "id": "d706e144",
   "metadata": {},
   "outputs": [
    {
     "name": "stdout",
     "output_type": "stream",
     "text": [
      "Kolkata\n",
      "Delhi\n"
     ]
    }
   ],
   "source": [
    "#use of break statement inside a loop\n",
    "\n",
    "city= ['Kolkata', 'Delhi', 'Hyderabad', 'Mumbai']\n",
    "\n",
    "for val in city:\n",
    "    if val == 'Hyderabad':\n",
    "        break\n",
    "    print(val)    "
   ]
  },
  {
   "cell_type": "code",
   "execution_count": 17,
   "id": "cd69718a",
   "metadata": {},
   "outputs": [
    {
     "name": "stdout",
     "output_type": "stream",
     "text": [
      "2000\n",
      "3800\n",
      "4000\n"
     ]
    }
   ],
   "source": [
    "#As soon as the condition meets it will not chceck the next element.\n",
    "\n",
    "Salary= [2000, 3800, 4000, 45000, 5000, 7000, 8000]\n",
    "\n",
    "for val in Salary:\n",
    "    if val >4600:\n",
    "        break\n",
    "    print(val)    "
   ]
  },
  {
   "cell_type": "code",
   "execution_count": 18,
   "id": "d4927da4",
   "metadata": {},
   "outputs": [
    {
     "name": "stdout",
     "output_type": "stream",
     "text": [
      "Kolkata\n",
      "Hyderabad\n",
      "Mumbai\n"
     ]
    }
   ],
   "source": [
    "#Program to show the use of continue statement inside a loop.\n",
    "\n",
    "city= ['Kolkata', 'Delhi', 'Hyderabad', 'Mumbai']\n",
    "\n",
    "for val in city:\n",
    "    if val == 'Delhi':\n",
    "        continue\n",
    "    print(val)    \n",
    "    \n"
   ]
  },
  {
   "cell_type": "code",
   "execution_count": 21,
   "id": "51547c46",
   "metadata": {},
   "outputs": [
    {
     "name": "stdout",
     "output_type": "stream",
     "text": [
      "2000\n",
      "3800\n",
      "4000\n",
      "5000\n"
     ]
    }
   ],
   "source": [
    "Salary= [2000, 3800, 4000, 45000, 5000, 7000, 8000]\n",
    "\n",
    "for val in Salary:\n",
    "    if val >5500:\n",
    "        continue\n",
    "        \n",
    "    print(val)"
   ]
  },
  {
   "cell_type": "code",
   "execution_count": null,
   "id": "08d97c0e",
   "metadata": {},
   "outputs": [],
   "source": []
  }
 ],
 "metadata": {
  "kernelspec": {
   "display_name": "Python 3 (ipykernel)",
   "language": "python",
   "name": "python3"
  },
  "language_info": {
   "codemirror_mode": {
    "name": "ipython",
    "version": 3
   },
   "file_extension": ".py",
   "mimetype": "text/x-python",
   "name": "python",
   "nbconvert_exporter": "python",
   "pygments_lexer": "ipython3",
   "version": "3.9.7"
  }
 },
 "nbformat": 4,
 "nbformat_minor": 5
}
