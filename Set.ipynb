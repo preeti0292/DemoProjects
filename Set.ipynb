{
 "cells": [
  {
   "cell_type": "code",
   "execution_count": 1,
   "id": "717a878e",
   "metadata": {},
   "outputs": [
    {
     "data": {
      "text/plain": [
       "set"
      ]
     },
     "execution_count": 1,
     "metadata": {},
     "output_type": "execute_result"
    }
   ],
   "source": [
    "Roll_number= set()\n",
    "\n",
    "type(Roll_number)"
   ]
  },
  {
   "cell_type": "code",
   "execution_count": 3,
   "id": "f4dfc914",
   "metadata": {},
   "outputs": [
    {
     "data": {
      "text/plain": [
       "{1}"
      ]
     },
     "execution_count": 3,
     "metadata": {},
     "output_type": "execute_result"
    }
   ],
   "source": [
    "#Add elements in a set using add() method.\n",
    "\n",
    "Roll_number.add(1)\n",
    "Roll_number"
   ]
  },
  {
   "cell_type": "code",
   "execution_count": 5,
   "id": "662b8664",
   "metadata": {},
   "outputs": [
    {
     "data": {
      "text/plain": [
       "{1, 2}"
      ]
     },
     "execution_count": 5,
     "metadata": {},
     "output_type": "execute_result"
    }
   ],
   "source": [
    "Roll_number.add(2)\n",
    "Roll_number"
   ]
  },
  {
   "cell_type": "code",
   "execution_count": 7,
   "id": "c29ec3be",
   "metadata": {},
   "outputs": [
    {
     "data": {
      "text/plain": [
       "[1, 1, 5, 4, 6, 7, 7, 12, 15, 16, 17, 19, 15, 18, 19, 20, 21, 22, 21]"
      ]
     },
     "execution_count": 7,
     "metadata": {},
     "output_type": "execute_result"
    }
   ],
   "source": [
    "#Create a list with duplicates.\n",
    "Remove_Dupes= [1, 1, 5, 4, 6, 7, 7, 12, 15, 16, 17, 19, 15, 18, 19, 20, 21, 22, 21]\n",
    "Remove_Dupes"
   ]
  },
  {
   "cell_type": "code",
   "execution_count": 8,
   "id": "c62e2d76",
   "metadata": {},
   "outputs": [
    {
     "data": {
      "text/plain": [
       "{1, 4, 5, 6, 7, 12, 15, 16, 17, 18, 19, 20, 21, 22}"
      ]
     },
     "execution_count": 8,
     "metadata": {},
     "output_type": "execute_result"
    }
   ],
   "source": [
    "#Convert a list into a set. Duplicates will be automatically removed.\n",
    "\n",
    "Dupes_Removed= set(Remove_Dupes)\n",
    "Dupes_Removed"
   ]
  },
  {
   "cell_type": "code",
   "execution_count": null,
   "id": "180d7e1f",
   "metadata": {},
   "outputs": [],
   "source": []
  }
 ],
 "metadata": {
  "kernelspec": {
   "display_name": "Python 3 (ipykernel)",
   "language": "python",
   "name": "python3"
  },
  "language_info": {
   "codemirror_mode": {
    "name": "ipython",
    "version": 3
   },
   "file_extension": ".py",
   "mimetype": "text/x-python",
   "name": "python",
   "nbconvert_exporter": "python",
   "pygments_lexer": "ipython3",
   "version": "3.9.7"
  }
 },
 "nbformat": 4,
 "nbformat_minor": 5
}
