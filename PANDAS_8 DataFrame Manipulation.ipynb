{
 "cells": [
  {
   "cell_type": "code",
   "execution_count": 1,
   "id": "01d4789b",
   "metadata": {},
   "outputs": [],
   "source": [
    "import pandas as pd"
   ]
  },
  {
   "cell_type": "code",
   "execution_count": 2,
   "id": "9d804be4",
   "metadata": {},
   "outputs": [],
   "source": [
    "import numpy as np"
   ]
  },
  {
   "cell_type": "code",
   "execution_count": 3,
   "id": "18a8139f",
   "metadata": {},
   "outputs": [],
   "source": [
    "import warnings\n",
    "warnings.filterwarnings('ignore')"
   ]
  },
  {
   "cell_type": "code",
   "execution_count": 4,
   "id": "1f3e9d40",
   "metadata": {},
   "outputs": [],
   "source": [
    "matrix_data= np.matrix('22,66,140;42,70,148;30,62,125;35,68,160;25,62,152')\n",
    "\n",
    "row_lebels= ['Raju','Pandey','Srini','Sunil','Ashok']\n",
    "\n",
    "column_headings= ['Age','Height','weight']"
   ]
  },
  {
   "cell_type": "code",
   "execution_count": 6,
   "id": "e313b18c",
   "metadata": {},
   "outputs": [
    {
     "name": "stdout",
     "output_type": "stream",
     "text": [
      "\n",
      "A new Data Frame\n",
      "-------------------------\n"
     ]
    },
    {
     "data": {
      "text/html": [
       "<div>\n",
       "<style scoped>\n",
       "    .dataframe tbody tr th:only-of-type {\n",
       "        vertical-align: middle;\n",
       "    }\n",
       "\n",
       "    .dataframe tbody tr th {\n",
       "        vertical-align: top;\n",
       "    }\n",
       "\n",
       "    .dataframe thead th {\n",
       "        text-align: right;\n",
       "    }\n",
       "</style>\n",
       "<table border=\"1\" class=\"dataframe\">\n",
       "  <thead>\n",
       "    <tr style=\"text-align: right;\">\n",
       "      <th></th>\n",
       "      <th>Age</th>\n",
       "      <th>Height</th>\n",
       "      <th>weight</th>\n",
       "    </tr>\n",
       "  </thead>\n",
       "  <tbody>\n",
       "    <tr>\n",
       "      <th>Raju</th>\n",
       "      <td>22</td>\n",
       "      <td>66</td>\n",
       "      <td>140</td>\n",
       "    </tr>\n",
       "    <tr>\n",
       "      <th>Pandey</th>\n",
       "      <td>42</td>\n",
       "      <td>70</td>\n",
       "      <td>148</td>\n",
       "    </tr>\n",
       "    <tr>\n",
       "      <th>Srini</th>\n",
       "      <td>30</td>\n",
       "      <td>62</td>\n",
       "      <td>125</td>\n",
       "    </tr>\n",
       "    <tr>\n",
       "      <th>Sunil</th>\n",
       "      <td>35</td>\n",
       "      <td>68</td>\n",
       "      <td>160</td>\n",
       "    </tr>\n",
       "    <tr>\n",
       "      <th>Ashok</th>\n",
       "      <td>25</td>\n",
       "      <td>62</td>\n",
       "      <td>152</td>\n",
       "    </tr>\n",
       "  </tbody>\n",
       "</table>\n",
       "</div>"
      ],
      "text/plain": [
       "        Age  Height  weight\n",
       "Raju     22      66     140\n",
       "Pandey   42      70     148\n",
       "Srini    30      62     125\n",
       "Sunil    35      68     160\n",
       "Ashok    25      62     152"
      ]
     },
     "execution_count": 6,
     "metadata": {},
     "output_type": "execute_result"
    }
   ],
   "source": [
    "df= pd.DataFrame(data= matrix_data,index= row_lebels, columns= column_headings)\n",
    "\n",
    "print('\\nA new Data Frame\\n','-'*25,sep='')\n",
    "\n",
    "df"
   ]
  },
  {
   "cell_type": "code",
   "execution_count": 8,
   "id": "caaee8b1",
   "metadata": {},
   "outputs": [
    {
     "name": "stdout",
     "output_type": "stream",
     "text": [
      "\n",
      "The Height column\n",
      "-------------------------\n",
      "Raju      66\n",
      "Pandey    70\n",
      "Srini     62\n",
      "Sunil     68\n",
      "Ashok     62\n",
      "Name: Height, dtype: int32\n"
     ]
    }
   ],
   "source": [
    "print('\\nThe Height column\\n','-'*25,sep='')\n",
    "\n",
    "print(df['Height'])"
   ]
  },
  {
   "cell_type": "code",
   "execution_count": 12,
   "id": "1ece26f8",
   "metadata": {},
   "outputs": [
    {
     "name": "stdout",
     "output_type": "stream",
     "text": [
      "\n",
      "Type of the column:<class 'pandas.core.series.Series'>\n",
      "\n",
      "The Height and Weight columns indexed by passing a list\n",
      "-------------------------------------------------------\n",
      "        Height  weight\n",
      "Raju        66     140\n",
      "Pandey      70     148\n",
      "Srini       62     125\n",
      "Sunil       68     160\n",
      "Ashok       62     152\n"
     ]
    }
   ],
   "source": [
    "print('\\nType of the column:',type(df['Height']),sep='')\n",
    "\n",
    "print('\\nThe Height and Weight columns indexed by passing a list\\n','-'*55,sep='')\n",
    "\n",
    "print(df[['Height','weight']])"
   ]
  },
  {
   "cell_type": "code",
   "execution_count": 14,
   "id": "3e43a558",
   "metadata": {},
   "outputs": [
    {
     "name": "stdout",
     "output_type": "stream",
     "text": [
      "\n",
      "The Age column accessed by DOT menthod\n",
      "--------------------------------------------------\n",
      "Raju      22\n",
      "Pandey    42\n",
      "Srini     30\n",
      "Sunil     35\n",
      "Ashok     25\n",
      "Name: Age, dtype: int32\n"
     ]
    }
   ],
   "source": [
    "print('\\nThe Age column accessed by DOT menthod\\n','-'*50,sep='') #Not recomended you can access only one column at a time.\n",
    "\n",
    "print(df.Age)"
   ]
  },
  {
   "cell_type": "code",
   "execution_count": 15,
   "id": "7ef1e264",
   "metadata": {},
   "outputs": [
    {
     "data": {
      "text/plain": [
       "Age        22\n",
       "Height     66\n",
       "weight    140\n",
       "Name: Raju, dtype: int32"
      ]
     },
     "execution_count": 15,
     "metadata": {},
     "output_type": "execute_result"
    }
   ],
   "source": [
    "#Select perticular index data using loc(Index name).\n",
    "\n",
    "df.loc['Raju']"
   ]
  },
  {
   "cell_type": "code",
   "execution_count": 16,
   "id": "02e5c00b",
   "metadata": {},
   "outputs": [
    {
     "data": {
      "text/plain": [
       "Age        22\n",
       "Height     66\n",
       "weight    140\n",
       "Name: Raju, dtype: int32"
      ]
     },
     "execution_count": 16,
     "metadata": {},
     "output_type": "execute_result"
    }
   ],
   "source": [
    "#Select perticular index data using iloc(Index position).\n",
    "df.iloc[0]"
   ]
  },
  {
   "cell_type": "code",
   "execution_count": 17,
   "id": "e603745a",
   "metadata": {},
   "outputs": [
    {
     "data": {
      "text/html": [
       "<div>\n",
       "<style scoped>\n",
       "    .dataframe tbody tr th:only-of-type {\n",
       "        vertical-align: middle;\n",
       "    }\n",
       "\n",
       "    .dataframe tbody tr th {\n",
       "        vertical-align: top;\n",
       "    }\n",
       "\n",
       "    .dataframe thead th {\n",
       "        text-align: right;\n",
       "    }\n",
       "</style>\n",
       "<table border=\"1\" class=\"dataframe\">\n",
       "  <thead>\n",
       "    <tr style=\"text-align: right;\">\n",
       "      <th></th>\n",
       "      <th>Age</th>\n",
       "      <th>Height</th>\n",
       "      <th>weight</th>\n",
       "    </tr>\n",
       "  </thead>\n",
       "  <tbody>\n",
       "    <tr>\n",
       "      <th>Raju</th>\n",
       "      <td>22</td>\n",
       "      <td>66</td>\n",
       "      <td>140</td>\n",
       "    </tr>\n",
       "    <tr>\n",
       "      <th>Pandey</th>\n",
       "      <td>42</td>\n",
       "      <td>70</td>\n",
       "      <td>148</td>\n",
       "    </tr>\n",
       "    <tr>\n",
       "      <th>Srini</th>\n",
       "      <td>30</td>\n",
       "      <td>62</td>\n",
       "      <td>125</td>\n",
       "    </tr>\n",
       "    <tr>\n",
       "      <th>Sunil</th>\n",
       "      <td>35</td>\n",
       "      <td>68</td>\n",
       "      <td>160</td>\n",
       "    </tr>\n",
       "    <tr>\n",
       "      <th>Ashok</th>\n",
       "      <td>25</td>\n",
       "      <td>62</td>\n",
       "      <td>152</td>\n",
       "    </tr>\n",
       "  </tbody>\n",
       "</table>\n",
       "</div>"
      ],
      "text/plain": [
       "        Age  Height  weight\n",
       "Raju     22      66     140\n",
       "Pandey   42      70     148\n",
       "Srini    30      62     125\n",
       "Sunil    35      68     160\n",
       "Ashok    25      62     152"
      ]
     },
     "execution_count": 17,
     "metadata": {},
     "output_type": "execute_result"
    }
   ],
   "source": [
    "df"
   ]
  },
  {
   "cell_type": "code",
   "execution_count": 22,
   "id": "c0533426",
   "metadata": {},
   "outputs": [
    {
     "name": "stdout",
     "output_type": "stream",
     "text": [
      "\n",
      "Select index and column for a perticular data\n",
      "---------------------------------------------\n",
      "70\n"
     ]
    }
   ],
   "source": [
    "print('\\nSelect index and column for a perticular data\\n---------------------------------------------')\n",
    "\n",
    "print(df.loc['Pandey','Height'])"
   ]
  },
  {
   "cell_type": "code",
   "execution_count": 23,
   "id": "71e5ec2c",
   "metadata": {},
   "outputs": [
    {
     "name": "stdout",
     "output_type": "stream",
     "text": [
      "\n",
      "Selct index and list of columns data\n",
      "----------------------------------------\n",
      "Height     62\n",
      "weight    152\n",
      "Name: Ashok, dtype: int32\n"
     ]
    }
   ],
   "source": [
    "print('\\nSelct index and list of columns data\\n----------------------------------------')\n",
    "\n",
    "print(df.loc['Ashok',['Height','weight']])"
   ]
  },
  {
   "cell_type": "code",
   "execution_count": 26,
   "id": "57e0f704",
   "metadata": {},
   "outputs": [
    {
     "name": "stdout",
     "output_type": "stream",
     "text": [
      "\n",
      "Select list of index and columns data\n",
      "----------------------------------------\n",
      "       Height  weight\n",
      "Srini      62     125\n",
      "Sunil      68     160\n"
     ]
    }
   ],
   "source": [
    "print('\\nSelect list of index and columns data\\n----------------------------------------')\n",
    "print(df.loc[['Srini','Sunil'],['Height','weight']])"
   ]
  },
  {
   "cell_type": "code",
   "execution_count": 27,
   "id": "2c2ef400",
   "metadata": {},
   "outputs": [
    {
     "data": {
      "text/html": [
       "<div>\n",
       "<style scoped>\n",
       "    .dataframe tbody tr th:only-of-type {\n",
       "        vertical-align: middle;\n",
       "    }\n",
       "\n",
       "    .dataframe tbody tr th {\n",
       "        vertical-align: top;\n",
       "    }\n",
       "\n",
       "    .dataframe thead th {\n",
       "        text-align: right;\n",
       "    }\n",
       "</style>\n",
       "<table border=\"1\" class=\"dataframe\">\n",
       "  <thead>\n",
       "    <tr style=\"text-align: right;\">\n",
       "      <th></th>\n",
       "      <th>Age</th>\n",
       "      <th>Height</th>\n",
       "      <th>weight</th>\n",
       "    </tr>\n",
       "  </thead>\n",
       "  <tbody>\n",
       "    <tr>\n",
       "      <th>Raju</th>\n",
       "      <td>22</td>\n",
       "      <td>66</td>\n",
       "      <td>140</td>\n",
       "    </tr>\n",
       "    <tr>\n",
       "      <th>Pandey</th>\n",
       "      <td>42</td>\n",
       "      <td>70</td>\n",
       "      <td>148</td>\n",
       "    </tr>\n",
       "    <tr>\n",
       "      <th>Srini</th>\n",
       "      <td>30</td>\n",
       "      <td>62</td>\n",
       "      <td>125</td>\n",
       "    </tr>\n",
       "    <tr>\n",
       "      <th>Sunil</th>\n",
       "      <td>35</td>\n",
       "      <td>68</td>\n",
       "      <td>160</td>\n",
       "    </tr>\n",
       "    <tr>\n",
       "      <th>Ashok</th>\n",
       "      <td>25</td>\n",
       "      <td>62</td>\n",
       "      <td>152</td>\n",
       "    </tr>\n",
       "  </tbody>\n",
       "</table>\n",
       "</div>"
      ],
      "text/plain": [
       "        Age  Height  weight\n",
       "Raju     22      66     140\n",
       "Pandey   42      70     148\n",
       "Srini    30      62     125\n",
       "Sunil    35      68     160\n",
       "Ashok    25      62     152"
      ]
     },
     "execution_count": 27,
     "metadata": {},
     "output_type": "execute_result"
    }
   ],
   "source": [
    "df"
   ]
  },
  {
   "cell_type": "code",
   "execution_count": 28,
   "id": "e5831f14",
   "metadata": {},
   "outputs": [
    {
     "name": "stdout",
     "output_type": "stream",
     "text": [
      "\n",
      "Rows with Height > 65 inch\n",
      "------------------------------\n",
      "        Age  Height  weight\n",
      "Raju     22      66     140\n",
      "Pandey   42      70     148\n",
      "Sunil    35      68     160\n"
     ]
    }
   ],
   "source": [
    "#Selct data on condition.\n",
    "print('\\nRows with Height > 65 inch\\n','-'*30,sep='')\n",
    "\n",
    "print(df[df['Height']>65])"
   ]
  },
  {
   "cell_type": "code",
   "execution_count": 29,
   "id": "a1fcfea2",
   "metadata": {},
   "outputs": [],
   "source": [
    "bloodf1=df['Height']>65\n",
    "bloodf2=df['weight']>145"
   ]
  },
  {
   "cell_type": "code",
   "execution_count": 30,
   "id": "29e80ea8",
   "metadata": {},
   "outputs": [
    {
     "name": "stdout",
     "output_type": "stream",
     "text": [
      "\n",
      "Rows with height > 65 inch and weght > 145 lbs\n",
      "-------------------------------------------------------\n",
      "        Age  Height  weight\n",
      "Pandey   42      70     148\n",
      "Sunil    35      68     160\n"
     ]
    }
   ],
   "source": [
    "print('\\nRows with height > 65 inch and weght > 145 lbs\\n','-'*55,sep='')\n",
    "\n",
    "print(df[(bloodf1) & (bloodf2)])"
   ]
  },
  {
   "cell_type": "code",
   "execution_count": 32,
   "id": "adfd0547",
   "metadata": {},
   "outputs": [
    {
     "name": "stdout",
     "output_type": "stream",
     "text": [
      "\n",
      "DataFrame with only age and weight columns whoes heights are > 65 inch\n",
      "----------------------------------------------------------------------\n",
      "        Age  weight\n",
      "Raju     22     140\n",
      "Pandey   42     148\n",
      "Sunil    35     160\n"
     ]
    }
   ],
   "source": [
    "print('\\nDataFrame with only age and weight columns whoes heights are > 65 inch\\n','-'*70,sep='')\n",
    "\n",
    "print(df[bloodf1][['Age','weight']])"
   ]
  },
  {
   "cell_type": "code",
   "execution_count": 33,
   "id": "f219e161",
   "metadata": {},
   "outputs": [],
   "source": [
    "selected_candidates= df[bloodf1][['Age','weight']]"
   ]
  },
  {
   "cell_type": "code",
   "execution_count": 34,
   "id": "69cc4715",
   "metadata": {},
   "outputs": [
    {
     "data": {
      "text/html": [
       "<div>\n",
       "<style scoped>\n",
       "    .dataframe tbody tr th:only-of-type {\n",
       "        vertical-align: middle;\n",
       "    }\n",
       "\n",
       "    .dataframe tbody tr th {\n",
       "        vertical-align: top;\n",
       "    }\n",
       "\n",
       "    .dataframe thead th {\n",
       "        text-align: right;\n",
       "    }\n",
       "</style>\n",
       "<table border=\"1\" class=\"dataframe\">\n",
       "  <thead>\n",
       "    <tr style=\"text-align: right;\">\n",
       "      <th></th>\n",
       "      <th>Age</th>\n",
       "      <th>weight</th>\n",
       "    </tr>\n",
       "  </thead>\n",
       "  <tbody>\n",
       "    <tr>\n",
       "      <th>Raju</th>\n",
       "      <td>22</td>\n",
       "      <td>140</td>\n",
       "    </tr>\n",
       "    <tr>\n",
       "      <th>Pandey</th>\n",
       "      <td>42</td>\n",
       "      <td>148</td>\n",
       "    </tr>\n",
       "    <tr>\n",
       "      <th>Sunil</th>\n",
       "      <td>35</td>\n",
       "      <td>160</td>\n",
       "    </tr>\n",
       "  </tbody>\n",
       "</table>\n",
       "</div>"
      ],
      "text/plain": [
       "        Age  weight\n",
       "Raju     22     140\n",
       "Pandey   42     148\n",
       "Sunil    35     160"
      ]
     },
     "execution_count": 34,
     "metadata": {},
     "output_type": "execute_result"
    }
   ],
   "source": [
    "selected_candidates"
   ]
  },
  {
   "cell_type": "code",
   "execution_count": 35,
   "id": "eef9b3c5",
   "metadata": {},
   "outputs": [
    {
     "data": {
      "text/html": [
       "<div>\n",
       "<style scoped>\n",
       "    .dataframe tbody tr th:only-of-type {\n",
       "        vertical-align: middle;\n",
       "    }\n",
       "\n",
       "    .dataframe tbody tr th {\n",
       "        vertical-align: top;\n",
       "    }\n",
       "\n",
       "    .dataframe thead th {\n",
       "        text-align: right;\n",
       "    }\n",
       "</style>\n",
       "<table border=\"1\" class=\"dataframe\">\n",
       "  <thead>\n",
       "    <tr style=\"text-align: right;\">\n",
       "      <th></th>\n",
       "      <th>Age</th>\n",
       "      <th>Height</th>\n",
       "      <th>weight</th>\n",
       "    </tr>\n",
       "  </thead>\n",
       "  <tbody>\n",
       "    <tr>\n",
       "      <th>Raju</th>\n",
       "      <td>22</td>\n",
       "      <td>66</td>\n",
       "      <td>140</td>\n",
       "    </tr>\n",
       "    <tr>\n",
       "      <th>Pandey</th>\n",
       "      <td>42</td>\n",
       "      <td>70</td>\n",
       "      <td>148</td>\n",
       "    </tr>\n",
       "    <tr>\n",
       "      <th>Srini</th>\n",
       "      <td>30</td>\n",
       "      <td>62</td>\n",
       "      <td>125</td>\n",
       "    </tr>\n",
       "    <tr>\n",
       "      <th>Sunil</th>\n",
       "      <td>35</td>\n",
       "      <td>68</td>\n",
       "      <td>160</td>\n",
       "    </tr>\n",
       "    <tr>\n",
       "      <th>Ashok</th>\n",
       "      <td>25</td>\n",
       "      <td>62</td>\n",
       "      <td>152</td>\n",
       "    </tr>\n",
       "  </tbody>\n",
       "</table>\n",
       "</div>"
      ],
      "text/plain": [
       "        Age  Height  weight\n",
       "Raju     22      66     140\n",
       "Pandey   42      70     148\n",
       "Srini    30      62     125\n",
       "Sunil    35      68     160\n",
       "Ashok    25      62     152"
      ]
     },
     "execution_count": 35,
     "metadata": {},
     "output_type": "execute_result"
    }
   ],
   "source": [
    "df"
   ]
  },
  {
   "cell_type": "code",
   "execution_count": 36,
   "id": "f6431257",
   "metadata": {},
   "outputs": [
    {
     "name": "stdout",
     "output_type": "stream",
     "text": [
      "\n",
      "After resetting index\n",
      "--------------------\n",
      "    index  Age  Height  weight\n",
      "0    Raju   22      66     140\n",
      "1  Pandey   42      70     148\n",
      "2   Srini   30      62     125\n",
      "3   Sunil   35      68     160\n",
      "4   Ashok   25      62     152\n"
     ]
    }
   ],
   "source": [
    "print('\\nAfter resetting index\\n','-'*20,sep='')\n",
    "print(df.reset_index())"
   ]
  },
  {
   "cell_type": "code",
   "execution_count": 45,
   "id": "82bb9c89",
   "metadata": {},
   "outputs": [
    {
     "name": "stdout",
     "output_type": "stream",
     "text": [
      "\n",
      "Age with < 35 years\n",
      "-------------------------\n"
     ]
    },
    {
     "data": {
      "text/html": [
       "<div>\n",
       "<style scoped>\n",
       "    .dataframe tbody tr th:only-of-type {\n",
       "        vertical-align: middle;\n",
       "    }\n",
       "\n",
       "    .dataframe tbody tr th {\n",
       "        vertical-align: top;\n",
       "    }\n",
       "\n",
       "    .dataframe thead th {\n",
       "        text-align: right;\n",
       "    }\n",
       "</style>\n",
       "<table border=\"1\" class=\"dataframe\">\n",
       "  <thead>\n",
       "    <tr style=\"text-align: right;\">\n",
       "      <th></th>\n",
       "      <th>Age</th>\n",
       "      <th>Height</th>\n",
       "      <th>weight</th>\n",
       "    </tr>\n",
       "  </thead>\n",
       "  <tbody>\n",
       "    <tr>\n",
       "      <th>Raju</th>\n",
       "      <td>22</td>\n",
       "      <td>66</td>\n",
       "      <td>140</td>\n",
       "    </tr>\n",
       "    <tr>\n",
       "      <th>Srini</th>\n",
       "      <td>30</td>\n",
       "      <td>62</td>\n",
       "      <td>125</td>\n",
       "    </tr>\n",
       "    <tr>\n",
       "      <th>Ashok</th>\n",
       "      <td>25</td>\n",
       "      <td>62</td>\n",
       "      <td>152</td>\n",
       "    </tr>\n",
       "  </tbody>\n",
       "</table>\n",
       "</div>"
      ],
      "text/plain": [
       "       Age  Height  weight\n",
       "Raju    22      66     140\n",
       "Srini   30      62     125\n",
       "Ashok   25      62     152"
      ]
     },
     "execution_count": 45,
     "metadata": {},
     "output_type": "execute_result"
    }
   ],
   "source": [
    "print('\\nAge with < 35 years\\n','-'*25,sep='')\n",
    "df= df[df['Age']< 35]\n",
    "df"
   ]
  },
  {
   "cell_type": "code",
   "execution_count": 47,
   "id": "e02f0e2e",
   "metadata": {},
   "outputs": [
    {
     "name": "stdout",
     "output_type": "stream",
     "text": [
      "\n",
      "After resetting index with Drop option\n",
      "----------------------------------------\n",
      "   Age  Height  weight\n",
      "0   22      66     140\n",
      "1   30      62     125\n",
      "2   25      62     152\n"
     ]
    }
   ],
   "source": [
    "print('\\nAfter resetting index with Drop option\\n','-'*40,sep='')\n",
    "print(df.reset_index(drop= True))"
   ]
  },
  {
   "cell_type": "code",
   "execution_count": 50,
   "id": "b7de07c1",
   "metadata": {},
   "outputs": [
    {
     "name": "stdout",
     "output_type": "stream",
     "text": [
      "\n",
      "Adding a new column \"Profession\"\n",
      "---------------------------------------------\n"
     ]
    },
    {
     "data": {
      "text/html": [
       "<div>\n",
       "<style scoped>\n",
       "    .dataframe tbody tr th:only-of-type {\n",
       "        vertical-align: middle;\n",
       "    }\n",
       "\n",
       "    .dataframe tbody tr th {\n",
       "        vertical-align: top;\n",
       "    }\n",
       "\n",
       "    .dataframe thead th {\n",
       "        text-align: right;\n",
       "    }\n",
       "</style>\n",
       "<table border=\"1\" class=\"dataframe\">\n",
       "  <thead>\n",
       "    <tr style=\"text-align: right;\">\n",
       "      <th></th>\n",
       "      <th>Age</th>\n",
       "      <th>Height</th>\n",
       "      <th>weight</th>\n",
       "      <th>Profession</th>\n",
       "    </tr>\n",
       "  </thead>\n",
       "  <tbody>\n",
       "    <tr>\n",
       "      <th>Raju</th>\n",
       "      <td>22</td>\n",
       "      <td>66</td>\n",
       "      <td>140</td>\n",
       "      <td>Student</td>\n",
       "    </tr>\n",
       "    <tr>\n",
       "      <th>Srini</th>\n",
       "      <td>30</td>\n",
       "      <td>62</td>\n",
       "      <td>125</td>\n",
       "      <td>Teacher</td>\n",
       "    </tr>\n",
       "    <tr>\n",
       "      <th>Ashok</th>\n",
       "      <td>25</td>\n",
       "      <td>62</td>\n",
       "      <td>152</td>\n",
       "      <td>Engineer</td>\n",
       "    </tr>\n",
       "  </tbody>\n",
       "</table>\n",
       "</div>"
      ],
      "text/plain": [
       "       Age  Height  weight Profession\n",
       "Raju    22      66     140    Student\n",
       "Srini   30      62     125    Teacher\n",
       "Ashok   25      62     152   Engineer"
      ]
     },
     "execution_count": 50,
     "metadata": {},
     "output_type": "execute_result"
    }
   ],
   "source": [
    "print('\\nAdding a new column \"Profession\"\\n','-'*45,sep='')\n",
    "df['Profession']= \"Student Teacher Engineer\".split()\n",
    "\n",
    "df"
   ]
  },
  {
   "cell_type": "code",
   "execution_count": 52,
   "id": "b05206d8",
   "metadata": {},
   "outputs": [
    {
     "name": "stdout",
     "output_type": "stream",
     "text": [
      "\n",
      "Setting \"Profession\" column as index\n",
      "---------------------------------------------\n",
      "            Age  Height  weight\n",
      "Profession                     \n",
      "Student      22      66     140\n",
      "Teacher      30      62     125\n",
      "Engineer     25      62     152\n"
     ]
    }
   ],
   "source": [
    "print('\\nSetting \"Profession\" column as index\\n','-'*45,sep='')\n",
    "\n",
    "print(df.set_index('Profession'))"
   ]
  },
  {
   "cell_type": "code",
   "execution_count": null,
   "id": "caf2c6cb",
   "metadata": {},
   "outputs": [],
   "source": []
  }
 ],
 "metadata": {
  "kernelspec": {
   "display_name": "Python 3 (ipykernel)",
   "language": "python",
   "name": "python3"
  },
  "language_info": {
   "codemirror_mode": {
    "name": "ipython",
    "version": 3
   },
   "file_extension": ".py",
   "mimetype": "text/x-python",
   "name": "python",
   "nbconvert_exporter": "python",
   "pygments_lexer": "ipython3",
   "version": "3.9.7"
  }
 },
 "nbformat": 4,
 "nbformat_minor": 5
}
